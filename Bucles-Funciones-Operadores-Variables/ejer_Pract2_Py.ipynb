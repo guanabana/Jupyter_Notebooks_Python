{
 "cells": [
  {
   "cell_type": "markdown",
   "id": "93e89a29-d2ae-4188-af50-bdcd8f339e05",
   "metadata": {},
   "source": [
    "<H2> PRACTICO 2 PYTHON CONDICIOINAL If  07-03</H2>"
   ]
  },
  {
   "cell_type": "code",
   "execution_count": 5,
   "id": "fbee1333-4ce6-4b80-a4fe-0cb1853ec26d",
   "metadata": {
    "editable": true,
    "slideshow": {
     "slide_type": ""
    },
    "tags": []
   },
   "outputs": [],
   "source": [
    "#1. ¿Cuál es el resultado de ?\n",
    "a, b, c = 10, 20, 30"
   ]
  },
  {
   "cell_type": "code",
   "execution_count": 7,
   "id": "ccc8ed87-8ca5-4ca0-a993-f132fadfb82e",
   "metadata": {},
   "outputs": [
    {
     "name": "stdout",
     "output_type": "stream",
     "text": [
      "Hola\n"
     ]
    }
   ],
   "source": [
    "if a == 10:\n",
    "    print (\"Hola\")\n"
   ]
  },
  {
   "cell_type": "code",
   "execution_count": 3,
   "id": "27ddb1fe-74ec-40db-a526-9047a762f38a",
   "metadata": {},
   "outputs": [
    {
     "name": "stdout",
     "output_type": "stream",
     "text": [
      "Hola\n"
     ]
    }
   ],
   "source": [
    "if a==10 and b <25:\n",
    "    print (\"Hola\")"
   ]
  },
  {
   "cell_type": "code",
   "execution_count": 4,
   "id": "4d88e377-345a-410e-a560-44266e52d960",
   "metadata": {},
   "outputs": [
    {
     "name": "stdout",
     "output_type": "stream",
     "text": [
      "hola\n"
     ]
    }
   ],
   "source": [
    "if a==10 or b <25:\n",
    "    print (\"hola\")"
   ]
  },
  {
   "cell_type": "code",
   "execution_count": 75,
   "id": "13eb28c4-4243-4fb4-8c57-85fde8530fb0",
   "metadata": {},
   "outputs": [
    {
     "name": "stdout",
     "output_type": "stream",
     "text": [
      "hi\n"
     ]
    }
   ],
   "source": [
    "if a>10:\n",
    "    print (\"hola\")\n",
    "else:\n",
    "    print (\"hi\")"
   ]
  },
  {
   "cell_type": "code",
   "execution_count": 77,
   "id": "6fa0eec9-9a49-4ae0-846c-5f620b1c5d06",
   "metadata": {},
   "outputs": [
    {
     "name": "stdout",
     "output_type": "stream",
     "text": [
      "hola\n"
     ]
    }
   ],
   "source": [
    "if a <10:\n",
    "    print (\"hola\")\n",
    "elif a>10:\n",
    "    print (\"hola mundo\")\n",
    "else:\n",
    "    print (\"hi\")"
   ]
  },
  {
   "cell_type": "code",
   "execution_count": 7,
   "id": "b058ec8e-bbf2-4bd9-8a33-8ffe938a341d",
   "metadata": {},
   "outputs": [
    {
     "name": "stdout",
     "output_type": "stream",
     "text": [
      "hola\n",
      "hola mundo\n"
     ]
    }
   ],
   "source": [
    "if a==10 and b<=30:\n",
    "    print (\"hola\")\n",
    "if c < 50:\n",
    "    print (\"hola mundo\")\n",
    "else:\n",
    "    print (\"hi\")"
   ]
  },
  {
   "cell_type": "code",
   "execution_count": 3,
   "id": "7833569b-02a5-4fac-8439-a3f64cc440d0",
   "metadata": {},
   "outputs": [],
   "source": [
    "#2. ¿Para que se usa la sentencia pass? ¿Qué pasa si lo sacamos del siguiente ejemplo?\n",
    "a = 33\n",
    "\n"
   ]
  },
  {
   "cell_type": "code",
   "execution_count": 5,
   "id": "1bc64d7b-db46-4052-87e5-cd1a30a766ca",
   "metadata": {},
   "outputs": [],
   "source": [
    "b = 200"
   ]
  },
  {
   "cell_type": "code",
   "execution_count": 7,
   "id": "bb6accbc-ffd0-4a44-a987-762ece59346c",
   "metadata": {},
   "outputs": [],
   "source": [
    "if b > a:\n",
    "    pass"
   ]
  },
  {
   "cell_type": "code",
   "execution_count": 9,
   "id": "273b6ecc-04bf-417d-9ea6-aa8c6c88ea1f",
   "metadata": {},
   "outputs": [
    {
     "data": {
      "text/plain": [
       "33"
      ]
     },
     "execution_count": 9,
     "metadata": {},
     "output_type": "execute_result"
    }
   ],
   "source": [
    "a"
   ]
  },
  {
   "cell_type": "code",
   "execution_count": 11,
   "id": "a648419a-0623-436f-80ff-2d50386792e1",
   "metadata": {},
   "outputs": [
    {
     "data": {
      "text/plain": [
       "200"
      ]
     },
     "execution_count": 11,
     "metadata": {},
     "output_type": "execute_result"
    }
   ],
   "source": [
    "b"
   ]
  },
  {
   "cell_type": "code",
   "execution_count": 13,
   "id": "9e940415-0c53-4e9e-b5e6-ac4b3bb4ccbf",
   "metadata": {},
   "outputs": [
    {
     "ename": "SyntaxError",
     "evalue": "incomplete input (2145969569.py, line 1)",
     "output_type": "error",
     "traceback": [
      "\u001b[1;36m  Cell \u001b[1;32mIn[13], line 1\u001b[1;36m\u001b[0m\n\u001b[1;33m    if b > a:\u001b[0m\n\u001b[1;37m             ^\u001b[0m\n\u001b[1;31mSyntaxError\u001b[0m\u001b[1;31m:\u001b[0m incomplete input\n"
     ]
    }
   ],
   "source": [
    "if b > a:"
   ]
  },
  {
   "cell_type": "markdown",
   "id": "88d0cace-9f5c-4db1-893b-2adad93535ed",
   "metadata": {},
   "source": [
    "<H2> BUCLES FOR Y WHILE  07-03</H2>"
   ]
  },
  {
   "cell_type": "code",
   "execution_count": 17,
   "id": "b69eebfa-ac34-43a6-93ac-8aaf8e4f6379",
   "metadata": {},
   "outputs": [
    {
     "name": "stdout",
     "output_type": "stream",
     "text": [
      "1\n",
      "2\n",
      "3\n",
      "4\n",
      "5\n"
     ]
    }
   ],
   "source": [
    "#3 ¿Qué hace el siguiente script ?\n",
    "i = 1\n",
    "\n",
    "while i < 6:\n",
    "    print(i)\n",
    "    i += 1"
   ]
  },
  {
   "cell_type": "code",
   "execution_count": 19,
   "id": "b713ffbc-8bee-4933-b528-bede5b4631ef",
   "metadata": {},
   "outputs": [],
   "source": [
    "#Genere un bucle for para recorra e imprima a pantalla la siguiente lista: [“arroz”, “pollo”,“pasta”]\n",
    "lista = ['arroz', 'pollo', 'pasta']"
   ]
  },
  {
   "cell_type": "code",
   "execution_count": 21,
   "id": "a83b0db8-dffd-4296-bad6-9bb49a450942",
   "metadata": {},
   "outputs": [
    {
     "name": "stdout",
     "output_type": "stream",
     "text": [
      "arroz\n",
      "pollo\n",
      "pasta\n"
     ]
    }
   ],
   "source": [
    "for x in lista:\n",
    "    print (x)\n"
   ]
  },
  {
   "cell_type": "code",
   "execution_count": 23,
   "id": "f5fbf7e5-8dbb-428f-a7de-6a2d209da2ed",
   "metadata": {},
   "outputs": [],
   "source": [
    "#5. Genere un bucle for para que imprima en pantalla el string “DevOps” pero insertando un guion entre cada letra.\n",
    "nombre= 'DevOps'"
   ]
  },
  {
   "cell_type": "code",
   "execution_count": 40,
   "id": "2c189ba8-a865-48d0-828b-f31aef6c402c",
   "metadata": {},
   "outputs": [
    {
     "name": "stdout",
     "output_type": "stream",
     "text": [
      "D-e-v-O-p-s-\n"
     ]
    }
   ],
   "source": [
    "resultado= \"\"\n",
    "for x in nombre:\n",
    "    resultado += x+'-'\n",
    "print (resultado)"
   ]
  },
  {
   "cell_type": "code",
   "execution_count": 103,
   "id": "868bc90e-c67b-42d4-ab8c-874dd3130bb7",
   "metadata": {},
   "outputs": [
    {
     "name": "stdout",
     "output_type": "stream",
     "text": [
      "- 2 3 4 5 \n",
      "1 - 3 4 5 \n",
      "1 2 - 4 5 \n",
      "1 2 3 - 5 \n",
      "1 2 3 4 - \n"
     ]
    }
   ],
   "source": [
    "''' 6.- Use dos bucles anidados para generar el siguiente patrón:\n",
    "- 2 3 4 5\n",
    "1 - 3 4 5\n",
    "1 2 - 4 5\n",
    "1 2 3 - 5\n",
    "1 2 3 4 -'''\n",
    "numeros=5\n",
    "\n",
    "for i in range(1, numeros+1):\n",
    "    for j in range(1, numeros+1):\n",
    "        if i== j:\n",
    "            print(\"-\", end= \" \" )\n",
    "        else:\n",
    "            print(j, end= \" \")\n",
    "    print()   \n",
    "      \n"
   ]
  },
  {
   "cell_type": "code",
   "execution_count": 105,
   "id": "a6a8fdfe-2f21-4eba-9f84-4861c8bab5f1",
   "metadata": {
    "tags": []
   },
   "outputs": [
    {
     "name": "stdout",
     "output_type": "stream",
     "text": [
      "-2345\n",
      "1-345\n",
      "12-45\n",
      "123-5\n",
      "1234-\n"
     ]
    }
   ],
   "source": [
    "num_matriz=[1,2,3,4,5]\n",
    "\n",
    "for i in num_matriz:\n",
    "    fila= \"\"\n",
    "    for j in num_matriz:\n",
    "        if j==i:\n",
    "            fila+=\"-\"\n",
    "        else:\n",
    "            fila+= str(j)\n",
    "    print(f\"{fila}\")\n",
    "    fila = \"\""
   ]
  },
  {
   "cell_type": "code",
   "execution_count": 107,
   "id": "1b3fe535-e026-48c0-9b05-6e8500d3a1e2",
   "metadata": {},
   "outputs": [
    {
     "name": "stdout",
     "output_type": "stream",
     "text": [
      "0\n",
      "1\n",
      "4\n",
      "9\n",
      "16\n",
      "25\n",
      "36\n",
      "49\n",
      "64\n",
      "81\n",
      "100\n"
     ]
    }
   ],
   "source": [
    "''' 7 - Escriba un script Python para imprimir el cuadrado de todos los números del 0 al 10.'''\n",
    "for x in range(11):\n",
    "    print (x*x)\n",
    "    "
   ]
  },
  {
   "cell_type": "markdown",
   "id": "feb88352-7010-46bb-a6b3-b1fa7cf63ec1",
   "metadata": {},
   "source": [
    "<H2> FUNCIONES  07-03</H2>"
   ]
  },
  {
   "cell_type": "code",
   "execution_count": 110,
   "id": "1f796e51-fd69-449f-9202-88a01d708c56",
   "metadata": {},
   "outputs": [],
   "source": [
    "# 8- Todas las funciones en Python por defecto devuelven ...? NONE\n"
   ]
  },
  {
   "cell_type": "code",
   "execution_count": 150,
   "id": "8fdf7d3e-4a0c-4830-bb74-8b105957c1f9",
   "metadata": {},
   "outputs": [
    {
     "data": {
      "text/plain": [
       "'Hola Hola Hola Hola Hola '"
      ]
     },
     "execution_count": 150,
     "metadata": {},
     "output_type": "execute_result"
    }
   ],
   "source": [
    "\"Hola \" *5"
   ]
  },
  {
   "cell_type": "code",
   "execution_count": 200,
   "id": "1333538a-8469-4d5a-9c8d-10a5740c0b86",
   "metadata": {},
   "outputs": [
    {
     "data": {
      "text/plain": [
       "4"
      ]
     },
     "execution_count": 200,
     "metadata": {},
     "output_type": "execute_result"
    }
   ],
   "source": [
    "a=1\n",
    "a<<2"
   ]
  },
  {
   "cell_type": "code",
   "execution_count": 202,
   "id": "790dc16c-0d93-4147-88c7-a154f665da79",
   "metadata": {},
   "outputs": [
    {
     "name": "stdout",
     "output_type": "stream",
     "text": [
      "param1: un valor 1\n",
      "param2: valor predeterminado\n",
      "--------\n",
      "param1: un valor 1\n",
      "param2: otro valor 2 Opcional diferente al que le había asigando inicialmente\n"
     ]
    }
   ],
   "source": [
    "#9 ¿Cómo podemos hacer que un parámetro de una función sea opcional?\n",
    "'''puedes hacer que un parámetro de una función sea opcional asignándole un valor predeterminado.\n",
    "Cuando defines una función, cualquier parámetro que tenga un valor asignado en la definición de la función se considera opcional. '''\n",
    "\n",
    "def mi_funcion(param1, param2=\"valor predeterminado\"):\n",
    "    print(\"param1:\", param1)\n",
    "    print(\"param2:\", param2)\n",
    "\n",
    "# Llamado a la función solo con el parámetro obligatorio\n",
    "mi_funcion(\"un valor 1\")\n",
    "\n",
    "# Llamado a la función con ambos parámetros\n",
    "print(\"--------\")\n",
    "mi_funcion(\"un valor 1\", \"otro valor 2 Opcional diferente al que le había asigando inicialmente\")\n"
   ]
  },
  {
   "cell_type": "code",
   "execution_count": 204,
   "id": "3610307b-48bd-4d79-bf72-7bde836b211c",
   "metadata": {},
   "outputs": [
    {
     "name": "stdout",
     "output_type": "stream",
     "text": [
      "param1: valor1 de -segunda\n",
      "param2: valor2 de tercera\n",
      "param3: valor3 de Primeras\n"
     ]
    }
   ],
   "source": [
    "''' 10 - ¿Cómo podemos hacer para invocar a una funciona indicando los argumentos en un orden\n",
    "aleatorio?'''\n",
    "\n",
    "def mi_funcion(param1, param2, param3):\n",
    "    print(f\"param1: {param1}\")\n",
    "    print(f\"param2: {param2}\")\n",
    "    print(f\"param3: {param3}\")\n",
    "    \n",
    "# Invocar la función con argumentos en orden aleatorio\n",
    "mi_funcion(param3=\"valor3 de Primeras\", param1=\"valor1 de -segunda\", param2=\"valor2 de tercera\")\n",
    "\n",
    "\n"
   ]
  },
  {
   "cell_type": "code",
   "execution_count": 206,
   "id": "ae05ecb4-94f9-4cb2-a816-398fd9bd8099",
   "metadata": {},
   "outputs": [
    {
     "name": "stdout",
     "output_type": "stream",
     "text": [
      "Hola\n",
      "Mundo\n",
      "1\n",
      "2\n",
      "3\n",
      "4\n",
      "5\n",
      "[1, 2, 13, 15]\n"
     ]
    }
   ],
   "source": [
    "#11- ¿Qué sucede cuando anteponemos un parámetro con un asterisco (*)?\n",
    "args= [1,2,13,15]\n",
    "def mi_funcion(*args):\n",
    "    for etc in args:\n",
    "        print(etc)\n",
    "\n",
    "# Llamando a la función con diferentes números de argumentos\n",
    "\n",
    "mi_funcion('Hola', 'Mundo')\n",
    "mi_funcion(1, 2, 3, 4, 5)\n",
    "mi_funcion(args)\n"
   ]
  },
  {
   "cell_type": "code",
   "execution_count": 208,
   "id": "31a4d65a-a75b-4118-8d7a-febfbdd7b648",
   "metadata": {},
   "outputs": [
    {
     "name": "stdout",
     "output_type": "stream",
     "text": [
      "Hola\n",
      "Mundo\n",
      "1\n",
      "2\n",
      "3\n",
      "4\n",
      "5\n"
     ]
    }
   ],
   "source": [
    "def mi_funcion(*args):\n",
    "    for arg in args:\n",
    "        print(arg)\n",
    "\n",
    "# Llamando a la función con diferentes números de argumentos\n",
    "mi_funcion('Hola', 'Mundo')\n",
    "mi_funcion(1, 2, 3, 4, 5)\n",
    "mi_funcion()\n"
   ]
  },
  {
   "cell_type": "code",
   "execution_count": 210,
   "id": "97fe6efc-b9a0-4115-84c3-1abb4e346a54",
   "metadata": {},
   "outputs": [
    {
     "name": "stdout",
     "output_type": "stream",
     "text": [
      "nombre: Juan\n",
      "edad: 30\n",
      "pais: Uruguay\n",
      "ciudad: Montevideo\n",
      "poblacion: 1300000\n"
     ]
    }
   ],
   "source": [
    "#12.- ¿Qué pasa con dos asteriscos (**)?\n",
    "def mi_funcion(**kwargs):\n",
    "    for clave, valor in kwargs.items():\n",
    "        print(f\"{clave}: {valor}\")\n",
    "\n",
    "# Llamando a la función con diferentes argumentos de palabras clave\n",
    "mi_funcion(nombre=\"Juan\", edad=30)\n",
    "mi_funcion(pais=\"Uruguay\", ciudad=\"Montevideo\", poblacion=1300000)\n"
   ]
  },
  {
   "cell_type": "code",
   "execution_count": 212,
   "id": "1f6e59ed-dd5a-4617-8e00-7b39647d300e",
   "metadata": {},
   "outputs": [
    {
     "data": {
      "text/plain": [
       "15"
      ]
     },
     "execution_count": 212,
     "metadata": {},
     "output_type": "execute_result"
    }
   ],
   "source": [
    "#13 Escriba una función que realice la suma de una cantidad indeterminada de argumentos.\n",
    "def sumar(*arg):\n",
    "    total=0\n",
    "    for arg in arg:\n",
    "        total+=arg\n",
    "    return total\n",
    "\n",
    "sumar (1, 2, 3, 4, 5)"
   ]
  },
  {
   "cell_type": "code",
   "execution_count": 214,
   "id": "4808ad3d-2f45-4e92-aad2-d21c756fac31",
   "metadata": {},
   "outputs": [
    {
     "name": "stdout",
     "output_type": "stream",
     "text": [
      "6\n",
      "30\n",
      "0\n"
     ]
    }
   ],
   "source": [
    "#13. Escriba una función que realice la suma de una cantidad indeterminada de argumentos.\n",
    "def suma(*args):\n",
    "    return sum(args)\n",
    "\n",
    "# Ejemplos de uso de la función\n",
    "print(suma(1, 2, 3))        # 6\n",
    "print(suma(4, 5, 6, 7, 8))  # 30\n",
    "print(suma())               # 0\n"
   ]
  },
  {
   "cell_type": "code",
   "execution_count": 216,
   "id": "f116caad-2f03-48f6-aec8-04daf885cd5e",
   "metadata": {},
   "outputs": [
    {
     "name": "stdout",
     "output_type": "stream",
     "text": [
      "0\n",
      "1\n",
      "2\n",
      "3\n",
      "4\n",
      "5\n",
      "6\n",
      "7\n",
      "8\n",
      "9\n",
      "10\n"
     ]
    }
   ],
   "source": [
    "#14 Escriba una función que imprima la tabla de multiplicar de un número dado.\n",
    "def tabla_multiplicar(numero):\n",
    "    total=0\n",
    "    for num in range(11):\n",
    "        print( numero*num)\n",
    "    \n",
    "\n",
    "tabla_multiplicar (1)"
   ]
  },
  {
   "cell_type": "code",
   "execution_count": 218,
   "id": "24f71691-0b02-4a20-b116-d7c8bf1a28db",
   "metadata": {},
   "outputs": [
    {
     "data": {
      "text/plain": [
       "' la suma es 3, la multiplicacion es 2 y la division es 0.5'"
      ]
     },
     "execution_count": 218,
     "metadata": {},
     "output_type": "execute_result"
    }
   ],
   "source": [
    "'''15 - Escriba una función que retorne al mismo tiempo la suma, resta, multiplicación y división de\n",
    "dos números dados.'''\n",
    "def operaciones(numero1, numero2):\n",
    "    suma= numero1+numero2\n",
    "    mult= numero1*numero2\n",
    "    divi= numero1/numero2\n",
    "    \n",
    "    return ( f\" la suma es {suma}, la multiplicacion es {mult} y la division es {divi}\")\n",
    "       # print(f \"la suma es\"+ {numero1} + {numero2})\n",
    "       # print(\"la multiplicación es \" + numero1* numero2)\n",
    "       #print(\"la división es \" + numero1* numero2)\n",
    "operaciones (1,2)\n"
   ]
  },
  {
   "cell_type": "markdown",
   "id": "cc92fe43-8241-4194-9498-9d49ceb1f3da",
   "metadata": {},
   "source": [
    "<H2> OPERADORES 07-03</H2>\n"
   ]
  },
  {
   "cell_type": "code",
   "execution_count": 221,
   "id": "7f1a1f61-0dc6-4837-81a3-bcfeebe899b7",
   "metadata": {
    "tags": []
   },
   "outputs": [
    {
     "data": {
      "text/plain": [
       "1"
      ]
     },
     "execution_count": 221,
     "metadata": {},
     "output_type": "execute_result"
    }
   ],
   "source": [
    "#16. ¿Qué operador permite obtener el resto de una división?\n",
    "resto= 10%3\n",
    "resto"
   ]
  },
  {
   "cell_type": "code",
   "execution_count": 223,
   "id": "57755cff-9279-4729-aa89-1da5bc1d6020",
   "metadata": {
    "tags": []
   },
   "outputs": [
    {
     "name": "stdout",
     "output_type": "stream",
     "text": [
      "8\n",
      "25\n",
      "4.0\n",
      "3.0\n"
     ]
    }
   ],
   "source": [
    "#17. ¿Qué operador permite indicar el exponente de un número?\n",
    "# Elevar 2 al cubo\n",
    "resultado = 2 ** 3\n",
    "print(resultado)  # Salida: 8\n",
    "\n",
    "# Elevar 5 al cuadrado\n",
    "resultado = 5 ** 2\n",
    "print(resultado)  # Salida: 25\n",
    "\n",
    "# Calculando raíces usando exponentes fraccionarios\n",
    "raiz_cuadrada = 16 ** 0.5\n",
    "print(raiz_cuadrada)  # Salida: 4.0\n",
    "\n",
    "raiz_cubica = 27 ** (1/3)\n",
    "print(raiz_cubica)  # Salida: 3.0\n"
   ]
  },
  {
   "cell_type": "code",
   "execution_count": 225,
   "id": "3b85678d-79f3-458a-a999-8fb0f7bc5da0",
   "metadata": {
    "tags": []
   },
   "outputs": [],
   "source": [
    "#18. ¿A qué es equivalente los operadores de asignación?\n",
    "#Además de asignar valores a una variable, ayudan a abreviar operaciones aritmeticas cuyo resultado sera asignado a la variable-\n",
    "\n",
    "#19. ¿Cuales son los operadores para determinar que dos elementos son iguales o diferentes ?\n",
    "#los operadores son == o !="
   ]
  },
  {
   "cell_type": "code",
   "execution_count": 227,
   "id": "6adab036-97cd-47ab-9cb8-a601080c65a7",
   "metadata": {
    "tags": []
   },
   "outputs": [
    {
     "data": {
      "text/plain": [
       "True"
      ]
     },
     "execution_count": 227,
     "metadata": {},
     "output_type": "execute_result"
    }
   ],
   "source": [
    "#20. ¿Qué retorna ?\n",
    "#True and True #--->True\n",
    "#False or True #--->True\n",
    "not False      #--->True"
   ]
  },
  {
   "cell_type": "code",
   "execution_count": 198,
   "id": "3e99a444-e020-4b52-a3e5-924a29f5d640",
   "metadata": {
    "tags": []
   },
   "outputs": [
    {
     "data": {
      "text/plain": [
       "True"
      ]
     },
     "execution_count": 198,
     "metadata": {},
     "output_type": "execute_result"
    }
   ],
   "source": [
    "#21 ¿Cuál es el resultado ?\n",
    "a=5\n",
    "b=5\n",
    "a is b"
   ]
  },
  {
   "cell_type": "code",
   "execution_count": 239,
   "id": "339d6714-14c5-4c09-989a-8f8cf5d03725",
   "metadata": {
    "tags": []
   },
   "outputs": [
    {
     "data": {
      "text/plain": [
       "True"
      ]
     },
     "execution_count": 239,
     "metadata": {},
     "output_type": "execute_result"
    }
   ],
   "source": [
    "#22.- ¿Cómo consultamos si Dev se encuentra dentro de DevOps?\n",
    "palabra= \"Devops\"\n",
    "\"Dev\" in palabra"
   ]
  },
  {
   "cell_type": "code",
   "execution_count": 243,
   "id": "f09d15f1-896c-4d68-a8fb-d03dd7d39df4",
   "metadata": {
    "tags": []
   },
   "outputs": [
    {
     "data": {
      "text/plain": [
       "'Este es mi string1 El segundo String'"
      ]
     },
     "execution_count": 243,
     "metadata": {},
     "output_type": "execute_result"
    }
   ],
   "source": [
    "#23. ¿Cómo se puede concatenar dos strings ?\n",
    "pal= \"Este es mi string1 \"\n",
    "pal2= \"El segundo String\"\n",
    "pal+pal2"
   ]
  },
  {
   "cell_type": "code",
   "execution_count": 245,
   "id": "4cfbd362-efd4-45f2-a102-2eab6ddfba34",
   "metadata": {
    "tags": []
   },
   "outputs": [
    {
     "data": {
      "text/plain": [
       "'HolaHolaHolaHolaHola'"
      ]
     },
     "execution_count": 245,
     "metadata": {},
     "output_type": "execute_result"
    }
   ],
   "source": [
    "#24. ¿Cuál es el resultado de \"Hola \" *5 ?\n",
    "\"Hola\"*5"
   ]
  },
  {
   "cell_type": "code",
   "execution_count": 249,
   "id": "d51d2475-ade2-4896-8127-e87a93e6be1d",
   "metadata": {
    "tags": []
   },
   "outputs": [
    {
     "data": {
      "text/plain": [
       "4"
      ]
     },
     "execution_count": 249,
     "metadata": {},
     "output_type": "execute_result"
    }
   ],
   "source": [
    "#25. ¿Cuál es el resultado ?\n",
    "a=1\n",
    "a<<2"
   ]
  },
  {
   "cell_type": "markdown",
   "id": "0f8ffd8c-55fd-45cd-9c20-134070eb9e56",
   "metadata": {},
   "source": [
    "<H2> IDENTIFICADORES 07-03</H2>"
   ]
  },
  {
   "cell_type": "code",
   "execution_count": 258,
   "id": "54eeb392-c85c-410e-9eff-3fce536856e6",
   "metadata": {
    "collapsed": true,
    "jupyter": {
     "outputs_hidden": true
    },
    "tags": []
   },
   "outputs": [
    {
     "data": {
      "text/plain": [
       "['False',\n",
       " 'None',\n",
       " 'True',\n",
       " 'and',\n",
       " 'as',\n",
       " 'assert',\n",
       " 'async',\n",
       " 'await',\n",
       " 'break',\n",
       " 'class',\n",
       " 'continue',\n",
       " 'def',\n",
       " 'del',\n",
       " 'elif',\n",
       " 'else',\n",
       " 'except',\n",
       " 'finally',\n",
       " 'for',\n",
       " 'from',\n",
       " 'global',\n",
       " 'if',\n",
       " 'import',\n",
       " 'in',\n",
       " 'is',\n",
       " 'lambda',\n",
       " 'nonlocal',\n",
       " 'not',\n",
       " 'or',\n",
       " 'pass',\n",
       " 'raise',\n",
       " 'return',\n",
       " 'try',\n",
       " 'while',\n",
       " 'with',\n",
       " 'yield']"
      ]
     },
     "execution_count": 258,
     "metadata": {},
     "output_type": "execute_result"
    }
   ],
   "source": [
    "#26. ¿Cuales son las 5 reglas para nombrar identificadores en python?\n",
    "# variables en minuscula y separando con underscore - Clases con Mayuscyla - Empezar por letras y numeros no signos raros\n",
    "# funciones pueden tener mayuscula\n",
    "\n",
    "#27. ¿Python diferencia entre mayúsculas y minúsculas ? SI\n",
    "#28. ¿Cómo podemos listar las palabras reservadas?\n",
    "import keyword\n",
    "\n",
    "palabras_reservadas= keyword.kwlist\n",
    "palabras_reservadas"
   ]
  },
  {
   "cell_type": "markdown",
   "id": "5555c0db-3cac-4ed8-8f15-4734da74d39d",
   "metadata": {
    "tags": []
   },
   "source": [
    " <H2> Manejo de Variables 07-03</H2>"
   ]
  },
  {
   "cell_type": "code",
   "execution_count": 263,
   "id": "44994706-8d60-400e-8f0b-50a83b4b4a57",
   "metadata": {
    "tags": []
   },
   "outputs": [
    {
     "data": {
      "text/plain": [
       "('Teo', 9)"
      ]
     },
     "execution_count": 263,
     "metadata": {},
     "output_type": "execute_result"
    }
   ],
   "source": [
    "#29. ¿Cómo asignamos múltiples valores al mismo tiempo?\n",
    "nombre, edad= \"Teo\", 9 #Asignación multiple:\n",
    "nombre, edad\n"
   ]
  },
  {
   "cell_type": "code",
   "execution_count": 277,
   "id": "2f2a772e-c2f6-489f-ad11-86d778d730c2",
   "metadata": {
    "tags": []
   },
   "outputs": [
    {
     "data": {
      "text/plain": [
       "1000"
      ]
     },
     "execution_count": 277,
     "metadata": {},
     "output_type": "execute_result"
    }
   ],
   "source": [
    "#30. ¿Es correcto asignar el mismo valor a múltiples variables de la siguiente forma?\n",
    "#var1=var2 ...= n ----------> INCORRECTO!!\n",
    "#Mismo valor para múltiples variables:\n",
    "alquiler=sueldo= 1000 \n",
    "#alquiler\n",
    "sueldo"
   ]
  },
  {
   "cell_type": "markdown",
   "id": "b9e1de46-ffa2-49cf-9ba9-0ce8900ccdab",
   "metadata": {},
   "source": [
    " <H2> Conversión de tipos 07-03</H2>\n"
   ]
  },
  {
   "cell_type": "code",
   "execution_count": 292,
   "id": "f27df7c5-3fec-4c7f-a5bd-bf2420ca875c",
   "metadata": {
    "tags": []
   },
   "outputs": [
    {
     "data": {
      "text/plain": [
       "bool"
      ]
     },
     "execution_count": 292,
     "metadata": {},
     "output_type": "execute_result"
    }
   ],
   "source": [
    "#31. Si a es igual a 1. ¿Como lo podemos convertir a bool?\n",
    "a=1\n",
    "a_mod=bool(a)\n",
    "type(a_mod)"
   ]
  },
  {
   "cell_type": "code",
   "execution_count": 296,
   "id": "1d8a07a9-9b97-49b6-953f-9a82db110b23",
   "metadata": {
    "tags": []
   },
   "outputs": [
    {
     "data": {
      "text/plain": [
       "str"
      ]
     },
     "execution_count": 296,
     "metadata": {},
     "output_type": "execute_result"
    }
   ],
   "source": [
    "#32. ¿Como podemos convertir un valor cualquiera en string?\n",
    "a=1\n",
    "a_cadena= str(a)\n",
    "type(a_cadena)"
   ]
  },
  {
   "cell_type": "markdown",
   "id": "e14ee9aa-055a-4c19-accd-a251fbc87502",
   "metadata": {},
   "source": [
    "<H2> Variables locales y Globales 07-03</H2>\n"
   ]
  },
  {
   "cell_type": "code",
   "execution_count": null,
   "id": "3694e5f8-c383-42a2-a3c9-31769b8cd437",
   "metadata": {},
   "outputs": [],
   "source": [
    "#33. ¿Cuál es la diferencia entre variables locales y globales?\n",
    "#El scope que cada una puede temer dentro de una funcion o fuera de ella.\n"
   ]
  },
  {
   "cell_type": "code",
   "execution_count": 301,
   "id": "8364bf1d-2334-4292-bdc1-67c623aeff9d",
   "metadata": {
    "collapsed": true,
    "jupyter": {
     "outputs_hidden": true
    },
    "tags": []
   },
   "outputs": [
    {
     "ename": "UnboundLocalError",
     "evalue": "cannot access local variable 'a' where it is not associated with a value",
     "output_type": "error",
     "traceback": [
      "\u001b[1;31m---------------------------------------------------------------------------\u001b[0m",
      "\u001b[1;31mUnboundLocalError\u001b[0m                         Traceback (most recent call last)",
      "Cell \u001b[1;32mIn[301], line 8\u001b[0m\n\u001b[0;32m      6\u001b[0m     a\u001b[38;5;241m=\u001b[39m\u001b[38;5;241m1\u001b[39m\n\u001b[0;32m      7\u001b[0m     \u001b[38;5;28mprint\u001b[39m(a)\n\u001b[1;32m----> 8\u001b[0m func()\n",
      "Cell \u001b[1;32mIn[301], line 5\u001b[0m, in \u001b[0;36mfunc\u001b[1;34m()\u001b[0m\n\u001b[0;32m      4\u001b[0m \u001b[38;5;28;01mdef\u001b[39;00m \u001b[38;5;21mfunc\u001b[39m():\n\u001b[1;32m----> 5\u001b[0m     \u001b[38;5;28mprint\u001b[39m(a)\n\u001b[0;32m      6\u001b[0m     a\u001b[38;5;241m=\u001b[39m\u001b[38;5;241m1\u001b[39m\n\u001b[0;32m      7\u001b[0m     \u001b[38;5;28mprint\u001b[39m(a)\n",
      "\u001b[1;31mUnboundLocalError\u001b[0m: cannot access local variable 'a' where it is not associated with a value"
     ]
    }
   ],
   "source": [
    "#34. ¿Por qué falla el siguente código?\n",
    "#porque no esta tomando la primera a como variable global, solo interpreta la a dentro de la función y da error porque la intenta imprimir antes de estar declarada.\n",
    "a=0\n",
    "def func():\n",
    "    print(a)\n",
    "    a=1\n",
    "    print(a)\n",
    "func()"
   ]
  },
  {
   "cell_type": "code",
   "execution_count": 309,
   "id": "f3d9622a-262c-43a2-b7f4-81e1a75f80b0",
   "metadata": {
    "tags": []
   },
   "outputs": [
    {
     "name": "stdout",
     "output_type": "stream",
     "text": [
      "20.0\n"
     ]
    }
   ],
   "source": [
    "'''35. En el script siguiente, las variables a, b, c y d son variables locales de la función promedio.\n",
    "El alcance / ámbito de esas variables está en la función promedio, por lo que este script\n",
    "arrojará un error si intentamos usarlas fuera de la función. Verifique.\n",
    "'''\n",
    "def promedio (a,b,c):\n",
    "    d = (a + b + c ) / 3\n",
    "    return d\n",
    "resultado = promedio (10,20,30)\n",
    "#print (d)\n",
    "print (resultado)\n"
   ]
  },
  {
   "cell_type": "code",
   "execution_count": 311,
   "id": "eee88ff4-e729-4a8c-9408-3b6ffe2872d7",
   "metadata": {
    "tags": []
   },
   "outputs": [
    {
     "name": "stdout",
     "output_type": "stream",
     "text": [
      "a es 10\n",
      "20.0\n"
     ]
    }
   ],
   "source": [
    "#36. Las variables definidas fuera de la función se tratan como variables globales y estarán\n",
    "#disponibles en todas las funciones. Verifique con el ejemplo siguiente:\n",
    "\n",
    "a = 10\n",
    "def promedio (b,c):\n",
    "    print (\"a es\", a)\n",
    "    d = ( a + b + c ) / 3\n",
    "    return d\n",
    "print (promedio(20, 30))"
   ]
  },
  {
   "cell_type": "code",
   "execution_count": 319,
   "id": "5b032fd2-97cc-46c0-9b0c-8657af8d3c2b",
   "metadata": {
    "tags": []
   },
   "outputs": [
    {
     "name": "stdout",
     "output_type": "stream",
     "text": [
      "promedio es 30.0\n",
      "variable local ‘a’ es 40\n",
      "global variable ‘a’ es aún 10\n"
     ]
    }
   ],
   "source": [
    "'''37. Si asignamos un valor a una variable usando \"=\" dentro de una función, esa variable se\n",
    "convertirá en una variable local (incluso si se usa el mismo nombre en el ámbito global).\n",
    "Verifique con el siguiente ejemplo:'''\n",
    "a = 10\n",
    "def promedio (b, c):\n",
    "    a = 40\n",
    "    d = ( a + b + c ) / 3\n",
    "    print (\"promedio es\", d)\n",
    "    print (\"variable local ‘a’ es\", a)\n",
    "\n",
    "promedio(20,30)\n",
    "print (\"global variable ‘a’ es aún\", a)"
   ]
  },
  {
   "cell_type": "code",
   "execution_count": 332,
   "id": "75c80b61-62fa-4bc7-a35f-9cc6688e7493",
   "metadata": {
    "tags": []
   },
   "outputs": [
    {
     "name": "stdout",
     "output_type": "stream",
     "text": [
      "variable 'a' dentro de la funcion es  10\n",
      "promedio es 20.0\n",
      "variable global 'a' es ahora 40\n"
     ]
    }
   ],
   "source": [
    "#38. Con la sentencia global podemos asignar o modificar el valor de una variable global dentro de una función. Verifique:\n",
    "a = 10\n",
    "def promedio (b,c):\n",
    "    global a\n",
    "    print (\"variable 'a' dentro de la funcion es \", a)\n",
    "    d = ( a + b + c ) / 3\n",
    "    print (\"promedio es\",d)\n",
    "    a = 40 #Esto cambia el valor de a localmente y globalmente\n",
    "\n",
    "promedio (20,30)\n",
    "print (\"variable global 'a' es ahora\", a)"
   ]
  },
  {
   "cell_type": "markdown",
   "id": "4823bed4-0a9e-41d2-81c0-fa0be9e9f6b5",
   "metadata": {},
   "source": [
    "<H2> Formateadores de strings 07-03</H2>"
   ]
  },
  {
   "cell_type": "code",
   "execution_count": 335,
   "id": "c5321d4f-a304-4e52-9b43-c00f4218ad93",
   "metadata": {
    "tags": []
   },
   "outputs": [
    {
     "name": "stdout",
     "output_type": "stream",
     "text": [
      " esta es la variableun texto junto con numero12.36\n"
     ]
    }
   ],
   "source": [
    "#39. ¿Cómo se puede imprimir de forma conjunta variables y texto usando la función print y comas?\n",
    "variable= \"un texto\"\n",
    "num= 12.36\n",
    "print( f\" esta es la variable{variable} junto con numero{num}\")"
   ]
  },
  {
   "cell_type": "code",
   "execution_count": 358,
   "id": "7722d199-6744-4060-9531-afc8b003095b",
   "metadata": {
    "tags": []
   },
   "outputs": [
    {
     "name": "stdout",
     "output_type": "stream",
     "text": [
      " OPCION CON OPERADOR MODULO = El curso DevOps se dicta en el salón 222\n"
     ]
    }
   ],
   "source": [
    "#40. Si tenemos las variables: curso=”DevOps” y salon=222 ¿Como hacemos para generar el siguiente mensaje usando el viejo operador %?\n",
    "\"El curso DevOps se dicta en el salón 222\"\n",
    "curso = \"DevOps\"\n",
    "salon = 222\n",
    "\n",
    "# Crear el mensaje usando el operador %\n",
    "mensaje = \" OPCION CON OPERADOR MODULO = El curso %s se dicta en el salón %d\" % (curso, salon)\n",
    "print(mensaje)\n"
   ]
  },
  {
   "cell_type": "code",
   "execution_count": 360,
   "id": "f182038c-5701-4f76-af48-369205aed7b4",
   "metadata": {
    "tags": []
   },
   "outputs": [
    {
     "name": "stdout",
     "output_type": "stream",
     "text": [
      "OPCION CON METODO FORMAT = El curso DevOps se dicta en el salón 222\n"
     ]
    }
   ],
   "source": [
    "#41. ¿Cómo conseguimos el mismo resultado usando el método format?\n",
    "print(\"OPCION CON METODO FORMAT = El curso {0} se dicta en el salón {1}\".format(curso,salon))"
   ]
  },
  {
   "cell_type": "code",
   "execution_count": 364,
   "id": "cd361b0c-dbfd-4648-9f0f-2803bda561be",
   "metadata": {
    "tags": []
   },
   "outputs": [
    {
     "name": "stdout",
     "output_type": "stream",
     "text": [
      "El curso DevOps se dicta en el salón 222\n"
     ]
    }
   ],
   "source": [
    "#42. ¿Cómo conseguimos el mismo resultado usando f-string?\n",
    "print(f\"El curso {curso} se dicta en el salón {salon}\")"
   ]
  },
  {
   "cell_type": "markdown",
   "id": "ef6ee33b-b719-44a3-a27c-1791b3f7e801",
   "metadata": {},
   "source": [
    "<H2> REPASO PPTS VARIABLES LOCALES Y GLOBALES</H2>"
   ]
  },
  {
   "cell_type": "code",
   "execution_count": 369,
   "id": "59a1845c-77a2-414d-9b93-b93823237647",
   "metadata": {
    "collapsed": true,
    "jupyter": {
     "outputs_hidden": true
    },
    "tags": []
   },
   "outputs": [
    {
     "name": "stdout",
     "output_type": "stream",
     "text": [
      "0\n",
      "0\n",
      "0\n",
      "0\n",
      "0\n",
      "0\n",
      "0\n",
      "0\n",
      "0\n",
      "0\n",
      "0\n",
      "1\n",
      "2\n",
      "3\n",
      "4\n",
      "5\n",
      "6\n",
      "7\n",
      "8\n",
      "9\n",
      "0\n",
      "2\n",
      "4\n",
      "6\n",
      "8\n",
      "10\n",
      "12\n",
      "14\n",
      "16\n",
      "18\n",
      "0\n",
      "3\n",
      "6\n",
      "9\n",
      "12\n",
      "15\n",
      "18\n",
      "21\n",
      "24\n",
      "27\n",
      "0\n",
      "4\n",
      "8\n",
      "12\n",
      "16\n",
      "20\n",
      "24\n",
      "28\n",
      "32\n",
      "36\n",
      "0\n",
      "5\n",
      "10\n",
      "15\n",
      "20\n",
      "25\n",
      "30\n",
      "35\n",
      "40\n",
      "45\n",
      "0\n",
      "6\n",
      "12\n",
      "18\n",
      "24\n",
      "30\n",
      "36\n",
      "42\n",
      "48\n",
      "54\n",
      "0\n",
      "7\n",
      "14\n",
      "21\n",
      "28\n",
      "35\n",
      "42\n",
      "49\n",
      "56\n",
      "0\n",
      "8\n",
      "16\n",
      "24\n",
      "32\n",
      "40\n",
      "48\n",
      "56\n",
      "0\n",
      "9\n",
      "18\n",
      "27\n",
      "36\n",
      "45\n",
      "54\n"
     ]
    }
   ],
   "source": [
    "for x in range(10):\n",
    "    for y in range(10):\n",
    "        print(x*y)\n",
    "        if x*y>50:\n",
    "            break\n",
    "        else:\n",
    "            continue\n",
    "        break"
   ]
  },
  {
   "cell_type": "code",
   "execution_count": 373,
   "id": "32d0f10b-b9d3-4d71-9f59-35049e57c1b7",
   "metadata": {},
   "outputs": [
    {
     "data": {
      "text/plain": [
       "'Esto es el docstring de hola\\n    '"
      ]
     },
     "execution_count": 373,
     "metadata": {},
     "output_type": "execute_result"
    }
   ],
   "source": [
    "def hola():\n",
    "    \"\"\"Esto es el docstring de hola\n",
    "    \"\"\"\n",
    "    print(\"Hola tu!!\")\n",
    "hola.__doc__"
   ]
  },
  {
   "cell_type": "code",
   "execution_count": 375,
   "id": "6d1e44df-83d4-400a-b607-9de3d30a074b",
   "metadata": {
    "tags": []
   },
   "outputs": [
    {
     "name": "stdout",
     "output_type": "stream",
     "text": [
      "Hola tu!!\n"
     ]
    }
   ],
   "source": [
    "hola()"
   ]
  },
  {
   "cell_type": "code",
   "execution_count": 377,
   "id": "3671a79a-899c-403f-955f-954c3b6c8ed9",
   "metadata": {
    "tags": []
   },
   "outputs": [
    {
     "name": "stdout",
     "output_type": "stream",
     "text": [
      "3\n"
     ]
    }
   ],
   "source": [
    "def suma(p,q):\n",
    "    print(p+q)\n",
    "suma(1,2)"
   ]
  },
  {
   "cell_type": "code",
   "execution_count": 379,
   "id": "8970ae7f-4b1f-4448-abee-445a0369190d",
   "metadata": {
    "tags": []
   },
   "outputs": [
    {
     "data": {
      "text/plain": [
       "1"
      ]
     },
     "execution_count": 379,
     "metadata": {},
     "output_type": "execute_result"
    }
   ],
   "source": [
    "def func1(a):\n",
    "    if a%2==0:\n",
    "        return 0\n",
    "    else:\n",
    "        return 1\n",
    "retorno= func1(7)   \n",
    "retorno"
   ]
  },
  {
   "cell_type": "code",
   "execution_count": 381,
   "id": "3be609d4-2f11-46a2-a982-bd92bb921641",
   "metadata": {
    "tags": []
   },
   "outputs": [
    {
     "name": "stdout",
     "output_type": "stream",
     "text": [
      "1\n",
      "2\n",
      "-------\n",
      "1\n"
     ]
    }
   ],
   "source": [
    "def red():\n",
    "    a=1\n",
    "    def blue():\n",
    "        b=2\n",
    "        print(a)\n",
    "        print(b)\n",
    "    blue()\n",
    "    print(\"-------\")\n",
    "    print( a)\n",
    "red()"
   ]
  },
  {
   "cell_type": "code",
   "execution_count": 383,
   "id": "915cddda-bf5f-459b-8fe7-371c85a2401d",
   "metadata": {
    "tags": []
   },
   "outputs": [
    {
     "name": "stdout",
     "output_type": "stream",
     "text": [
      "2\n",
      "---\n"
     ]
    },
    {
     "data": {
      "text/plain": [
       "2"
      ]
     },
     "execution_count": 383,
     "metadata": {},
     "output_type": "execute_result"
    }
   ],
   "source": [
    "a=1\n",
    "def counter():\n",
    "    global a\n",
    "    a=2\n",
    "    print(a)\n",
    "\n",
    "counter()\n",
    "print(\"---\")\n",
    "a"
   ]
  },
  {
   "cell_type": "code",
   "execution_count": 385,
   "id": "e05ba24d-73df-4d06-9ca7-40d69b7ad387",
   "metadata": {
    "tags": []
   },
   "outputs": [
    {
     "name": "stdout",
     "output_type": "stream",
     "text": [
      "-----\n",
      "Adentro de la función blue a= 2\n",
      "Adentro de la función blue b= 2\n",
      " la variable a quedo en 2\n"
     ]
    }
   ],
   "source": [
    "def red():\n",
    "    a=1\n",
    "    def blue():\n",
    "        nonlocal a\n",
    "        a=2\n",
    "        b=2\n",
    "        print(f\"Adentro de la función blue a= {a}\")\n",
    "        print(f\"Adentro de la función blue b= {b}\")\n",
    "    blue()\n",
    "    print(f\" la variable a quedo en {a}\")\n",
    "print(\"-----\")\n",
    "red()"
   ]
  },
  {
   "cell_type": "code",
   "execution_count": null,
   "id": "27d57935-501b-4c3f-a730-d5ce1457f7e3",
   "metadata": {},
   "outputs": [],
   "source": []
  }
 ],
 "metadata": {
  "kernelspec": {
   "display_name": "Python 3 (ipykernel)",
   "language": "python",
   "name": "python3"
  },
  "language_info": {
   "codemirror_mode": {
    "name": "ipython",
    "version": 3
   },
   "file_extension": ".py",
   "mimetype": "text/x-python",
   "name": "python",
   "nbconvert_exporter": "python",
   "pygments_lexer": "ipython3",
   "version": "3.11.7"
  }
 },
 "nbformat": 4,
 "nbformat_minor": 5
}
