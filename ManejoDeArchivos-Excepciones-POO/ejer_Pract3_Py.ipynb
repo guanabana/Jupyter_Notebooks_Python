{
 "cells": [
  {
   "cell_type": "markdown",
   "id": "488851a6-aef3-4f7a-8179-6e478994f4bf",
   "metadata": {},
   "source": [
    "<H2> Práctico 3 python 11-03</H2>"
   ]
  },
  {
   "cell_type": "code",
   "execution_count": 3,
   "id": "d3d28282-08ac-460f-94e0-a59993e34b07",
   "metadata": {
    "editable": true,
    "slideshow": {
     "slide_type": ""
    },
    "tags": []
   },
   "outputs": [],
   "source": [
    "import pandas as pd"
   ]
  },
  {
   "cell_type": "code",
   "execution_count": 4,
   "id": "43a41175-35a9-4d05-b105-21fb5271961b",
   "metadata": {},
   "outputs": [],
   "source": [
    "import json as pd"
   ]
  },
  {
   "cell_type": "code",
   "execution_count": 5,
   "id": "835d2f86-4a35-41ed-b38e-3b8c06e7defb",
   "metadata": {},
   "outputs": [],
   "source": [
    "import seaborn as pd"
   ]
  },
  {
   "cell_type": "markdown",
   "id": "4494b62d-1c52-4343-a5ed-1f2a0500c60f",
   "metadata": {},
   "source": [
    "<H2> Entrada Estándar 11-3 </H2>"
   ]
  },
  {
   "cell_type": "code",
   "execution_count": 74,
   "id": "78216fdc-398f-416d-b005-7464cbdc3510",
   "metadata": {},
   "outputs": [
    {
     "name": "stdout",
     "output_type": "stream",
     "text": [
      "¿Cómo se llama? "
     ]
    },
    {
     "name": "stdin",
     "output_type": "stream",
     "text": [
      " Teito\n"
     ]
    },
    {
     "name": "stdout",
     "output_type": "stream",
     "text": [
      "¿Cual es tu apellido? "
     ]
    },
    {
     "name": "stdin",
     "output_type": "stream",
     "text": [
      " Perez\n"
     ]
    },
    {
     "name": "stdout",
     "output_type": "stream",
     "text": [
      "¿Cual es su edad? "
     ]
    },
    {
     "name": "stdin",
     "output_type": "stream",
     "text": [
      " 9\n"
     ]
    },
    {
     "name": "stdout",
     "output_type": "stream",
     "text": [
      "Mi nombre es, ('Teito', 'Perez') y tengo 9 años\n"
     ]
    }
   ],
   "source": [
    "#1Escriba un script que solicite el nombre, apellido y edad de un usuario usando la función input. El\n",
    "#script debe finalizar volcando a pantalla los datos ingresados.\n",
    "\n",
    "print(\"¿Cómo se llama? \", end=\"\")\n",
    "nombre= (input())\n",
    "\n",
    "print(\"¿Cual es tu apellido? \", end=\"\")\n",
    "apellido= (input())\n",
    "\n",
    "#2. Modifique el script anterior para solicitar la edad del usuario y imprimir en pantalla la edad en meses.\n",
    "print(\"¿Cual es su edad? \", end=\"\")\n",
    "edad= int(input())\n",
    "\n",
    "print(f\"Mi nombre es, {(nombre,apellido)} y tengo {edad} años\")\n",
    "\n",
    "\n"
   ]
  },
  {
   "cell_type": "markdown",
   "id": "06b03441-f5aa-4169-8b78-98f543e8d5ef",
   "metadata": {},
   "source": [
    "<H2> Manejo de Archivos 11-3 </H2>"
   ]
  },
  {
   "cell_type": "code",
   "execution_count": 76,
   "id": "f69bdb97-8185-440d-802f-0991df58d6f6",
   "metadata": {
    "tags": []
   },
   "outputs": [
    {
     "name": "stdout",
     "output_type": "stream",
     "text": [
      "cree y guarde los datos en esta ruta de archivo 'bd_ort/py/usuario.txt'.\n"
     ]
    }
   ],
   "source": [
    "#3. Modifique el script anterior para guardar los datos del usuario en un archivo de texto.\n",
    "\n",
    "with open(\"bd_ort/py/usuario.txt\", \"w\") as archivo:\n",
    "    archivo.write(\"Nombre :\" + nombre + \"\\n\")\n",
    "    archivo.write(\"Apellido :\" + apellido + \"\\n\")\n",
    "    archivo.write(\"Edad : \" + str(edad) + \"\\n\")\n",
    "                  \n",
    "print(\"cree y guarde los datos en esta ruta de archivo 'bd_ort/py/usuario.txt'.\")"
   ]
  },
  {
   "cell_type": "code",
   "execution_count": 78,
   "id": "3da0ee19-d830-4456-8ddb-6b046a29df75",
   "metadata": {},
   "outputs": [
    {
     "name": "stdout",
     "output_type": "stream",
     "text": [
      "Nombre :Teito\n",
      "Apellido :Perez\n",
      "Edad : 9\n",
      "\n",
      " Contenido del archivo mostrado exitosamente.\n"
     ]
    }
   ],
   "source": [
    "'''4.- Genere un script que permita volcar a pantalla el contenido del archivo generado en el\n",
    "ejercicio anterior.'''\n",
    "try:\n",
    "    with open(\"bd_ort/py/usuario.txt\", \"r\") as archivo:\n",
    "        for linea in archivo:\n",
    "            print(linea, end=\"\")\n",
    "    print(\"\\n Contenido del archivo mostrado exitosamente.\")\n",
    "except FileNotFoundError:\n",
    "    print(\"Error: Entro por excepción -> El archivo no fue encontrado.\")\n",
    "except IOError:\n",
    "    print(\"Error al leer el archivo.\")\n",
    "except Exception as e:\n",
    "    print(f\"Ha ocurrido un error inesperado: {e}\")"
   ]
  },
  {
   "cell_type": "code",
   "execution_count": 80,
   "id": "889fda24-ade4-4659-95bd-f39a5baf02b1",
   "metadata": {},
   "outputs": [
    {
     "data": {
      "text/plain": [
       "'OTRA FORMA\\nf = open(\"edad.txt\", \"r\")\\nf_contenido= f.read()\\nprint(f_contenido)\\nf.close()'"
      ]
     },
     "execution_count": 80,
     "metadata": {},
     "output_type": "execute_result"
    }
   ],
   "source": [
    "'''OTRA FORMA\n",
    "f = open(\"edad.txt\", \"r\")\n",
    "f_contenido= f.read()\n",
    "print(f_contenido)\n",
    "f.close()'''"
   ]
  },
  {
   "cell_type": "code",
   "execution_count": 82,
   "id": "8cf06001-e908-4f7a-b646-4d450d9f8900",
   "metadata": {},
   "outputs": [
    {
     "name": "stdout",
     "output_type": "stream",
     "text": [
      "\n",
      " Contenido agregado al final exitosamente.\n"
     ]
    }
   ],
   "source": [
    "'''5.- Escriba un script que añada al archivo generado: “Fin del archivo”'''\n",
    "''' UNA OPCION:\n",
    "f = open(\"edad.txt\", \"a\")\n",
    "f_contenido = \"\\r\\n\" + \"Fin del archivo\"\n",
    "f.write(f_contenido)\n",
    "print(f_contenido)\n",
    "f.close()'''\n",
    "\n",
    "#OTRA OPCION\n",
    "try:\n",
    "    with open(\"bd_ort/py/usuario.txt\", \"a\") as archivo: #SI LO HAGO CON MODO W Borra todo y lo sobreescribe por eso es con a\n",
    "        archivo.write(\"Fin del archivo\")\n",
    "     \n",
    "    print(\"\\n Contenido agregado al final exitosamente.\")\n",
    "except FileNotFoundError:\n",
    "    print(\"Error: Entro por excepción -> El archivo no fue encontrado.\")"
   ]
  },
  {
   "cell_type": "code",
   "execution_count": 91,
   "id": "5a00cbdf-f0a3-4039-98cf-60239073266d",
   "metadata": {},
   "outputs": [],
   "source": [
    "'''6 - Escriba otro archivo que elimina las líneas impares.'''\n",
    "f = open(\"bd_ort/py/usuario.txt\", \"r\")\n",
    "nuevo_archivo= open(\"bd_ort/py/lineaspares.txt\", \"w\")\n",
    "\n",
    "cantLin=0\n",
    "for linea in f:\n",
    "    cantLin +=1  \n",
    "    if cantLin%2==0:\n",
    "     \n",
    "        nuevo_archivo.write(linea)\n",
    "f.close()\n",
    "nuevo_archivo.close()"
   ]
  },
  {
   "cell_type": "code",
   "execution_count": 100,
   "id": "d10ffcab-584a-4484-92cf-8b1dcc52e043",
   "metadata": {},
   "outputs": [
    {
     "name": "stdout",
     "output_type": "stream",
     "text": [
      "Las líneas pares han sido guardadas en 'lineas_pares.txt'.\n"
     ]
    }
   ],
   "source": [
    "''' 7 - Modifique el script anterior para usar la sentencia with.'''\n",
    "try:\n",
    "    \n",
    "    cantLin = 0\n",
    "\n",
    "    with open(\"bd_ort/py/usuario.txt\", \"r\") as archorigen:\n",
    "        with open(\"bd_ort/py/lineaspares2.txt\", \"w\") as nuevo_archivo:\n",
    "            for linea in archorigen:\n",
    "                cantLin += 1\n",
    "                if cantLin % 2 == 0:\n",
    "                    nuevo_archivo.write(linea)\n",
    "    print(\"Las líneas pares han sido guardadas en 'lineas_pares.txt'.\")\n",
    "except FileNotFoundError:\n",
    "    print(\"Error: El archivo 'datos_usuario.txt' no fue encontrado.\")\n"
   ]
  },
  {
   "cell_type": "code",
   "execution_count": 109,
   "id": "5ba13fb0-b417-4e5f-bfe1-2c17bc80f6f9",
   "metadata": {},
   "outputs": [
    {
     "name": "stdout",
     "output_type": "stream",
     "text": [
      "Nombre del archivo:  bd_ort/py/usuario.txt\n",
      "Nombre :Teito\n",
      "Apellido :Perez\n",
      "Edad : 9\n",
      "Fin del archivo\n",
      "-----\n",
      "--***---\n",
      "Primera línea: Nombre :Teito\n",
      "\n"
     ]
    }
   ],
   "source": [
    "   '''\n",
    "    file.seek(0, 0) reposiciona el puntero del archivo al inicio del mismo. \n",
    "    El primer argumento 0 indica la posición a la que mover el puntero dentro del archivo (en este caso, al principio), \n",
    "    y el segundo argumento 0 especifica cómo se interpreta el desplazamiento: desde el inicio del archivo. Esto permite leer o escribir nuevamente desde el principio del archivo.\n",
    "    linea = file.readline()\n",
    "    print (f\"Primera línea: {linea}\")'''\n",
    "#8.- ¿Qué hace el siguiente script ?\n",
    "with open(\"bd_ort/py/usuario.txt\", \"r+\") as file:\n",
    "    print (\"Nombre del archivo: \", file.name)\n",
    "    print (file.read())\n",
    "    print(\"-----\")\n",
    "    \n",
    "    file.seek(0, 0)\n",
    "    print(\"--***---\")\n",
    "    linea = file.readline()\n",
    "    print (f\"Primera línea: {linea}\")"
   ]
  },
  {
   "cell_type": "markdown",
   "id": "eb28cb62-5378-4119-9296-2c7177882893",
   "metadata": {},
   "source": [
    "<h2> Programación Orientada a Objetos 11-03</h2>"
   ]
  },
  {
   "cell_type": "code",
   "execution_count": 124,
   "id": "0059fabf-9bfc-435b-8d75-175b5f89ee66",
   "metadata": {
    "tags": []
   },
   "outputs": [
    {
     "name": "stdout",
     "output_type": "stream",
     "text": [
      "3 1\n"
     ]
    }
   ],
   "source": [
    "''' 9 - ¿Cuáles son las carateristicas principales de la programación orientada a objetos? ¿Python\n",
    "las soporta ? ABSTRACCION-ENCAPSULAMIETNO-OCULTAMIENTO-POLIMORFISMO-HERENCIA-RECOLECCION DE BASURA'''\n",
    "\n",
    "#10. Escriba una clase que contenga solo un par de variables. Genere una instancia para acceder y modificar los valores.\n",
    "class Gato:\n",
    "    orejas=2\n",
    "    boca=1\n",
    "    \n",
    "gata= Gato()\n",
    "gata.orejas=3\n",
    "print(gata.orejas, gata.boca)\n"
   ]
  },
  {
   "cell_type": "code",
   "execution_count": 126,
   "id": "2b873254-6c24-4a9d-bea2-7731d15c4436",
   "metadata": {},
   "outputs": [],
   "source": [
    "''' 11 - Escriba una clase “Persona” con los atributos: nombre, apellido, edad. Use el constructor\n",
    "para inicializar los valores. También defina el método “misdatos” para volcar a pantalla un\n",
    "resumen de los datos personales. Genere un par de instancias e invoque el método misdatos.'''\n",
    "\n",
    "class Persona:\n",
    "    def __init__(self, nombre, edad):\n",
    "        self.nombre = nombre\n",
    "        self.edad = edad\n",
    "      \n",
    "        \n",
    "def mostrar_datosPersona(self):\n",
    "    print (\"nombre : \" + self.nombre + \" Edad : \" + str(self.edad))"
   ]
  },
  {
   "cell_type": "code",
   "execution_count": 128,
   "id": "0c9dad13-3ca0-4721-a785-f82e87adef5f",
   "metadata": {},
   "outputs": [],
   "source": [
    "p1= Persona(\"Mile\",36)"
   ]
  },
  {
   "cell_type": "code",
   "execution_count": 130,
   "id": "feb2d88a-db9f-46e8-b3d8-21d7c406dd72",
   "metadata": {},
   "outputs": [
    {
     "name": "stdout",
     "output_type": "stream",
     "text": [
      "nombre : Mile Edad : 36\n"
     ]
    }
   ],
   "source": [
    "mostrar_datosPersona(p1)"
   ]
  },
  {
   "cell_type": "code",
   "execution_count": 132,
   "id": "0be4013b-3886-4de4-b2c7-1a614caab957",
   "metadata": {},
   "outputs": [],
   "source": [
    "''' 10- Escriba una clase que contenga solo un par de variables. Genere una instancia para acceder y\n",
    "modificar los valores.'''\n",
    "\n",
    "class mascota:\n",
    "    id= 1\n",
    "    nombre= \"\"\n",
    "    raza= \"\"\n",
    "    peso=0"
   ]
  },
  {
   "cell_type": "code",
   "execution_count": 134,
   "id": "a52a0c76-9f21-40e7-92a9-dd5cbdea881b",
   "metadata": {},
   "outputs": [],
   "source": [
    "m1= mascota()\n",
    "m1.nombre= \"Tobby\"\n",
    "m1.raza= \"criollito\""
   ]
  },
  {
   "cell_type": "code",
   "execution_count": 136,
   "id": "4d193b96-df9c-4ff9-9e89-6ba6fd395922",
   "metadata": {},
   "outputs": [
    {
     "name": "stdout",
     "output_type": "stream",
     "text": [
      "Tobby\n"
     ]
    }
   ],
   "source": [
    "print(m1.nombre)"
   ]
  },
  {
   "cell_type": "code",
   "execution_count": 138,
   "id": "a3936822-b501-42f8-8016-baeebd30bc26",
   "metadata": {},
   "outputs": [],
   "source": [
    "# 12 ¿Una instancia de una clase es un objeto? si, se basa en la estrcutura y comportamiento definidos en la clase y herada su variables y funciones.\n",
    "# 13 - ¿Se pueden añadir o borrar variables a un objeto ? ¿Cómo?\n",
    "del m1.nombre"
   ]
  },
  {
   "cell_type": "code",
   "execution_count": 140,
   "id": "527b8039-2776-4d71-aa61-e308db5205ed",
   "metadata": {},
   "outputs": [
    {
     "name": "stdout",
     "output_type": "stream",
     "text": [
      "\n"
     ]
    }
   ],
   "source": [
    "print(m1.nombre)"
   ]
  },
  {
   "cell_type": "code",
   "execution_count": 142,
   "id": "b586d607-2bb1-44a8-a791-2d276e485801",
   "metadata": {},
   "outputs": [
    {
     "name": "stdout",
     "output_type": "stream",
     "text": [
      "Esto es variable de Clase: 1\n",
      "Esto es variable de Instancia: criollito\n"
     ]
    }
   ],
   "source": [
    "#14 ¿Cuales son las variables de la clase ? ¿Cómo se acceden ?\n",
    "variableClase= mascota.id\n",
    "print (\"Esto es variable de Clase: \" + str(variableClase))\n",
    "#15 ¿Cuales son las variables de la instancia ? ¿Cómo se acceden ?\n",
    "variableInstancia = m1.raza\n",
    "print (\"Esto es variable de Instancia: \" + str(variableInstancia))"
   ]
  },
  {
   "cell_type": "code",
   "execution_count": 144,
   "id": "7ebabe12-820e-4e21-b2f5-ff2084902737",
   "metadata": {},
   "outputs": [],
   "source": [
    "# 16 ¿Qué indica un guión al principio de una variable? se utiliza por convención para indicar que la variable o método es de uso interno o privado para una clase o módulo.\n",
    "class Auto:\n",
    "    def __init__(self, marca):\n",
    "        self._marca = marca\n",
    "        auto= Auto(\"Renault\")\n",
    "        auto._marca\n",
    "        \n"
   ]
  },
  {
   "cell_type": "code",
   "execution_count": 146,
   "id": "e4268477-5cf6-43fa-97a4-dc3fa03c6628",
   "metadata": {},
   "outputs": [],
   "source": [
    "'''17 - ¿Cómo se accede a una variable que empieza con dos guiones ? Es de dificil acceso fuera de su clase y al intentar acceder da error AttributeError \n",
    "auto._Auto__marca - \"name mangling\" es una característica de Python que afecta a los nombres de variables o funciones que comienzan con dos guiones bajos (__).\n",
    "Se usa principalmente para evitar conflictos de nombres en la herencia de clases. Python automáticamente cambia el nombre de estas variables o funciones \n",
    "para incluir el nombre de la clase al principio, lo que las hace efectivamente privadas al ámbito de esa clase.\n",
    "Este mecanismo ayuda a prevenir el acceso no intencionado o la sobreescritura de miembros de la clase desde clases derivadas o desde fuera de la clase.'''\n",
    "class Auto2:\n",
    "    def __init__(self, marca):\n",
    "        self.__marca = marca #esta es la variable rpivada por el uso de los dos guiones bajos\n",
    "        auto= Auto2(\"Renault\")\n",
    "        auto._Auto2__marca #asi es como se accedería pero no es una buena practica "
   ]
  },
  {
   "cell_type": "code",
   "execution_count": null,
   "id": "75ed748f-1818-4c82-b10c-e2d02ba2473c",
   "metadata": {},
   "outputs": [],
   "source": []
  },
  {
   "cell_type": "code",
   "execution_count": 149,
   "id": "62e16fe3-c71b-471e-b123-5a420b97f4c5",
   "metadata": {},
   "outputs": [
    {
     "name": "stdout",
     "output_type": "stream",
     "text": [
      "calling from smartphone...\n",
      "messaging...\n"
     ]
    }
   ],
   "source": [
    "#18 - ¿Qué retorna el siguiente código?\n",
    "class phone: #superclase\n",
    "    number = 12345\n",
    "    def call (self):\n",
    "        print (\"calling ...\")\n",
    "\n",
    "class smartphone(phone): #esta es una subclase que hereda de phone por estar en parentesis\n",
    "    number = 56789\n",
    "    def call(self): #aca sobrescribe el método call de phone mediante polimorfismo\n",
    "        print (\"calling from smartphone...\")\n",
    "    def message (self):\n",
    "        print (\"messaging...\")\n",
    "\n",
    "myphone1 = smartphone()\n",
    "myphone1.call()\n",
    "myphone1.message()"
   ]
  },
  {
   "cell_type": "code",
   "execution_count": 196,
   "id": "ea17f4f6-d123-4057-a65c-409fed50d100",
   "metadata": {},
   "outputs": [
    {
     "name": "stdout",
     "output_type": "stream",
     "text": [
      "calling... 1234\n"
     ]
    }
   ],
   "source": [
    "#19. ¿Qué retorna el siguiente código?\n",
    "class phone:\n",
    "    __number = 1234 #atribito privado no accesible fuera de su clase\n",
    "    def call(self):\n",
    "        print (\"calling...\", phone.__number) \n",
    "\n",
    "myphone1 = phone ()\n",
    "myphone1.call ()\n",
    "#print (\"calling...\", phone.__number)"
   ]
  },
  {
   "cell_type": "code",
   "execution_count": 155,
   "id": "cd926874-d7af-4554-97e2-759cae19a428",
   "metadata": {},
   "outputs": [
    {
     "name": "stdout",
     "output_type": "stream",
     "text": [
      "calling... 1234\n"
     ]
    }
   ],
   "source": [
    "#19. ¿Qué retorna el siguiente código?\n",
    "class phone:\n",
    "    __number = 1234 #atribito privado no accesible fuera de su clase\n",
    "    def call(self):\n",
    "        print (\"calling...\", phone.__number) \n",
    "'''\n",
    "    def get_number(self):\n",
    "        return phone.__number\n",
    "'''\n",
    "myphone1 = phone ()\n",
    "myphone1.call ()\n",
    "#print (\"calling...\", phone.__number)\n",
    "#print(\"calling...\", myphone1.get_number())"
   ]
  },
  {
   "cell_type": "code",
   "execution_count": 157,
   "id": "9cdc2db3-ff9c-4b1c-b19e-707005949c51",
   "metadata": {},
   "outputs": [
    {
     "name": "stdin",
     "output_type": "stream",
     "text": [
      "Ingrese un texto:  montevideo\n"
     ]
    },
    {
     "name": "stdout",
     "output_type": "stream",
     "text": [
      "None\n",
      "MONTEVIDEO\n"
     ]
    }
   ],
   "source": [
    "''' 20 - Escriba una clase de Python que tenga dos métodos get_String e print_String. get_String\n",
    "acepta una cadena del usuario e print_String imprime la cadena en mayúsculas.'''\n",
    "\n",
    "class ManejoDeStrings:\n",
    "    def __init__(self):\n",
    "        self.cadena_string = \"\"\n",
    "\n",
    "    def get_String(self):\n",
    "        self.cadena_string = input(\"Ingrese un texto: \")\n",
    "\n",
    "    def print_String(self):\n",
    "         return print(self.cadena_string.upper())\n",
    "        \n",
    "test= ManejoDeStrings()\n",
    "print(test.get_String())\n",
    "test.print_String()"
   ]
  },
  {
   "cell_type": "code",
   "execution_count": 221,
   "id": "c1060298-c680-47c8-9c29-5843f8efed8f",
   "metadata": {},
   "outputs": [
    {
     "name": "stdout",
     "output_type": "stream",
     "text": [
      "1000\n"
     ]
    }
   ],
   "source": [
    "'''21 - Escriba una clase de Python llamada Rectangulo construida por un largo y ancho y un\n",
    "método que calcule el área de un rectángulo.'''\n",
    "class Rectangulo:\n",
    "    def __init__(self, largo, ancho):\n",
    "        self.largo=largo\n",
    "        self.ancho=ancho\n",
    "\n",
    "    def calcular_area(self):\n",
    "        area=self.largo*self.ancho\n",
    "        return area\n",
    "\n",
    "rec1= Rectangulo(50,20)\n",
    "print(rec1.calcular_area())"
   ]
  },
  {
   "cell_type": "markdown",
   "id": "3457b223-f10f-4812-9375-7d3eacce8d2e",
   "metadata": {},
   "source": [
    "<H2> Manejo de Archivos 11-3 </H2>"
   ]
  },
  {
   "cell_type": "code",
   "execution_count": 159,
   "id": "00f80c21-169b-4af7-a8a4-e495c06289f3",
   "metadata": {},
   "outputs": [
    {
     "name": "stdout",
     "output_type": "stream",
     "text": [
      "Primmer element = 1\n",
      "Error accediendo a indice de los elementos de la lista \n"
     ]
    }
   ],
   "source": [
    "# 22 ¿Cuál es el resultado del siguiente código?\n",
    "a = [1, 2, 3]\n",
    "    \n",
    "try:  \n",
    "    print (f\"Primmer element = {a[0]}\")\n",
    "    print (f\"Tercer element = {a[3]}\")\n",
    "except IndexError:\n",
    "     print (\"Error accediendo a indice de los elementos de la lista \")"
   ]
  },
  {
   "cell_type": "code",
   "execution_count": 161,
   "id": "55a0c784-da4d-48aa-b7dc-95098884b4e6",
   "metadata": {},
   "outputs": [
    {
     "name": "stdin",
     "output_type": "stream",
     "text": [
      "Por favor, ingresa tu edad (un número entero):  0\n",
      "Por favor, ingresa tu peso (un número real, por ejemplo, 70.5):  0\n"
     ]
    },
    {
     "name": "stdout",
     "output_type": "stream",
     "text": [
      "El peso debe ser un número positivo mayor que cero.\n"
     ]
    },
    {
     "name": "stdin",
     "output_type": "stream",
     "text": [
      "Por favor, ingresa tu peso (un número real, por ejemplo, 70.5):  20.0\n"
     ]
    },
    {
     "name": "stdout",
     "output_type": "stream",
     "text": [
      "Edad confirmada: 0 años\n",
      "Peso confirmado: 20.0 kg\n"
     ]
    }
   ],
   "source": [
    "''' 23 - Escriba un script que solicite al usuario la edad (valor entero) y el peso (valor real) y\n",
    "verifique que el primero represente un número int válido y que el segundo represente un\n",
    "número flotante válido. Haga comentarios útiles si no lo son.'''\n",
    "\n",
    "def solicitar_datos():\n",
    "    # Solicitar la edad al usuario y verificar que sea un entero válido\n",
    "    while True:\n",
    "        edad_input = input(\"Por favor, ingresa tu edad (un número entero): \")\n",
    "        try:\n",
    "            edad = int(edad_input)  # Intentar convertir la entrada a entero\n",
    "            if edad < 0:\n",
    "                print(\"La edad no puede ser un número negativo.\")\n",
    "            else:\n",
    "                break  # Salir del bucle si la conversión es exitosa y el valor es no negativo\n",
    "        except ValueError:\n",
    "            print(\"La entrada no es un número entero válido. Por favor, intenta de nuevo.\")\n",
    "\n",
    "    # Solicitar el peso al usuario y verificar que sea un flotante válido\n",
    "    while True:\n",
    "        peso_input = input(\"Por favor, ingresa tu peso (un número real, por ejemplo, 70.5): \")\n",
    "        try:\n",
    "            peso = float(peso_input)  # Intentar convertir la entrada a flotante\n",
    "            if peso <= 0:\n",
    "                print(\"El peso debe ser un número positivo mayor que cero.\")\n",
    "            else:\n",
    "                break  # Salir del bucle si la conversión es exitosa y el valor es positivo\n",
    "        except ValueError:\n",
    "            print(\"La entrada no es un número real válido. Por favor, intenta de nuevo.\")\n",
    "\n",
    "    # Imprimir los datos validados\n",
    "    print(f\"Edad confirmada: {edad} años\")\n",
    "    print(f\"Peso confirmado: {peso} kg\")\n",
    "\n",
    "# Llamar a la función para ejecutar el script\n",
    "solicitar_datos()\n",
    "\n"
   ]
  },
  {
   "cell_type": "code",
   "execution_count": 185,
   "id": "e24def34-04ce-4432-afd5-ba52b58daef9",
   "metadata": {},
   "outputs": [
    {
     "name": "stdout",
     "output_type": "stream",
     "text": [
      "Nombre :Teito\n",
      "Apellido :Perez\n",
      "Edad : 9\n",
      "Fin del archivo\n"
     ]
    }
   ],
   "source": [
    "#24. Escriba un script que intente leer un archivo Proporcione comentarios útiles si el archivo no\n",
    "#    existe o si algo sale mal al leer el archivo.\n",
    "\n",
    "def leer_archivo( archivo):\n",
    "   \n",
    "    try:\n",
    "        with open (archivo, \"r\") as arch:\n",
    "            contenido=arch.read()\n",
    "            print(contenido)\n",
    "    except FileNotFoundError:\n",
    "        print(\"Error: Entro por excepción -> El archivo no fue encontrado en esa ruta.\")\n",
    "    except IOError:\n",
    "        print(\"Error al leer el archivo.\")\n",
    "    except Exception as e:\n",
    "        print(f\"Ha ocurrido un error inesperado: {e}\")\n",
    "\n",
    "elarch= \"bd_ort/py/usuario.txt\"\n",
    "\n",
    "leer_archivo(elarch)\n"
   ]
  },
  {
   "cell_type": "code",
   "execution_count": 187,
   "id": "9f464d74-87f8-466a-bc18-f281fbc655e5",
   "metadata": {
    "tags": []
   },
   "outputs": [
    {
     "name": "stdout",
     "output_type": "stream",
     "text": [
      "-5.0\n",
      "a-b es 0\n"
     ]
    }
   ],
   "source": [
    "#25. ¿Cómo funciona el else en el siguiente script?\n",
    "def dividir(a , b):\n",
    "    try:\n",
    "        c = ((a+b) / (a-b))\n",
    "    except ZeroDivisionError:\n",
    "        print(\"a-b es 0\")\n",
    "    else:\n",
    "        print(c)\n",
    "\n",
    "dividir(2.0, 3.0)\n",
    "dividir(3.0, 3.0)"
   ]
  },
  {
   "cell_type": "code",
   "execution_count": 193,
   "id": "027808f9-9aca-466d-ad36-286cec446b94",
   "metadata": {
    "tags": []
   },
   "outputs": [
    {
     "name": "stdout",
     "output_type": "stream",
     "text": [
      "Una excepción\n"
     ]
    },
    {
     "ename": "RuntimeError",
     "evalue": "No active exception to reraise",
     "output_type": "error",
     "traceback": [
      "\u001b[1;31m---------------------------------------------------------------------------\u001b[0m",
      "\u001b[1;31mRuntimeError\u001b[0m                              Traceback (most recent call last)",
      "Cell \u001b[1;32mIn[193], line 6\u001b[0m\n\u001b[0;32m      4\u001b[0m \u001b[38;5;28;01mexcept\u001b[39;00m \u001b[38;5;167;01mNameError\u001b[39;00m:\n\u001b[0;32m      5\u001b[0m     \u001b[38;5;28mprint\u001b[39m (\u001b[38;5;124m\"\u001b[39m\u001b[38;5;124mUna excepción\u001b[39m\u001b[38;5;124m\"\u001b[39m)\n\u001b[1;32m----> 6\u001b[0m \u001b[38;5;28;01mraise\u001b[39;00m\n",
      "\u001b[1;31mRuntimeError\u001b[0m: No active exception to reraise"
     ]
    }
   ],
   "source": [
    "#26. Analice el resultado del siguiente script:\n",
    "try:\n",
    "    raise NameError(\"Lanzando un excepción\")\n",
    "except NameError:\n",
    "    print (\"Una excepción\")\n",
    "raise"
   ]
  },
  {
   "cell_type": "code",
   "execution_count": null,
   "id": "5cbaf456-a04d-48ef-ba71-68cdb2b270d1",
   "metadata": {},
   "outputs": [],
   "source": []
  }
 ],
 "metadata": {
  "kernelspec": {
   "display_name": "Python 3 (ipykernel)",
   "language": "python",
   "name": "python3"
  },
  "language_info": {
   "codemirror_mode": {
    "name": "ipython",
    "version": 3
   },
   "file_extension": ".py",
   "mimetype": "text/x-python",
   "name": "python",
   "nbconvert_exporter": "python",
   "pygments_lexer": "ipython3",
   "version": "3.11.7"
  }
 },
 "nbformat": 4,
 "nbformat_minor": 5
}
