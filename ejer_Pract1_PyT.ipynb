{
 "cells": [
  {
   "cell_type": "code",
   "execution_count": 1,
   "id": "c9d39754-c054-411c-b0a6-35cf9097c7c7",
   "metadata": {
    "slideshow": {
     "slide_type": ""
    },
    "tags": []
   },
   "outputs": [
    {
     "name": "stdout",
     "output_type": "stream",
     "text": [
      "hola Mundo\n"
     ]
    },
    {
     "data": {
      "text/plain": [
       "'\\nComentario más largo en una línea en Python\\n'"
      ]
     },
     "execution_count": 1,
     "metadata": {},
     "output_type": "execute_result"
    }
   ],
   "source": [
    "print(\"hola Mundo\")#mi comentario\n",
    "'''\n",
    "Comentario más largo en una línea en Python\n",
    "'''\n"
   ]
  },
  {
   "cell_type": "code",
   "execution_count": 6,
   "id": "f1316b0a-6307-473b-8ea8-fc4c7d5007bd",
   "metadata": {},
   "outputs": [
    {
     "data": {
      "text/plain": [
       "'\\nComentario más largo en una línea en Python\\n'"
      ]
     },
     "execution_count": 6,
     "metadata": {},
     "output_type": "execute_result"
    }
   ],
   "source": [
    "'''\n",
    "Comentario más largo en una línea en Python\n",
    "'''"
   ]
  },
  {
   "cell_type": "code",
   "execution_count": 7,
   "id": "2f8f1db0-4ad3-402d-8ced-dfa948f7caba",
   "metadata": {},
   "outputs": [],
   "source": [
    "num=2024"
   ]
  },
  {
   "cell_type": "code",
   "execution_count": 8,
   "id": "136d1875-c9fe-47cd-9f18-ab04bacccd1c",
   "metadata": {},
   "outputs": [
    {
     "ename": "AttributeError",
     "evalue": "'int' object has no attribute 'type'",
     "output_type": "error",
     "traceback": [
      "\u001b[1;31m---------------------------------------------------------------------------\u001b[0m",
      "\u001b[1;31mAttributeError\u001b[0m                            Traceback (most recent call last)",
      "Cell \u001b[1;32mIn[8], line 1\u001b[0m\n\u001b[1;32m----> 1\u001b[0m num\u001b[38;5;241m.\u001b[39mtype()\n",
      "\u001b[1;31mAttributeError\u001b[0m: 'int' object has no attribute 'type'"
     ]
    }
   ],
   "source": [
    "num.type()"
   ]
  },
  {
   "cell_type": "code",
   "execution_count": 9,
   "id": "b34d447e-f46c-4d61-bcaf-27a7aa9ff682",
   "metadata": {},
   "outputs": [
    {
     "data": {
      "text/plain": [
       "int"
      ]
     },
     "execution_count": 9,
     "metadata": {},
     "output_type": "execute_result"
    }
   ],
   "source": [
    "type(num)"
   ]
  },
  {
   "cell_type": "code",
   "execution_count": 1,
   "id": "627c242f-7e6c-4188-b290-0b605716beb0",
   "metadata": {},
   "outputs": [],
   "source": [
    "reales= 20.15"
   ]
  },
  {
   "cell_type": "code",
   "execution_count": 2,
   "id": "81a319fc-cf2c-45bb-a925-c3be54de5cd1",
   "metadata": {},
   "outputs": [
    {
     "data": {
      "text/plain": [
       "float"
      ]
     },
     "execution_count": 2,
     "metadata": {},
     "output_type": "execute_result"
    }
   ],
   "source": [
    "type(reales)"
   ]
  },
  {
   "cell_type": "code",
   "execution_count": 3,
   "id": "3771c6eb-b563-44fd-a34b-6a68ff0b481a",
   "metadata": {},
   "outputs": [],
   "source": [
    "miCadena= \"Aprendiendo\""
   ]
  },
  {
   "cell_type": "code",
   "execution_count": 4,
   "id": "0efea261-3197-4949-aa40-db4570ac72cd",
   "metadata": {},
   "outputs": [
    {
     "data": {
      "text/plain": [
       "str"
      ]
     },
     "execution_count": 4,
     "metadata": {},
     "output_type": "execute_result"
    }
   ],
   "source": [
    "type(miCadena)"
   ]
  },
  {
   "cell_type": "code",
   "execution_count": 5,
   "id": "4236fdc7-1ca5-42ea-855f-66932e0fbcb6",
   "metadata": {},
   "outputs": [],
   "source": [
    "nombre = \"DevOps\""
   ]
  },
  {
   "cell_type": "code",
   "execution_count": 6,
   "id": "31b670fa-ddae-4067-bf51-1ad8d5fca39c",
   "metadata": {},
   "outputs": [
    {
     "data": {
      "text/plain": [
       "'DevOps'"
      ]
     },
     "execution_count": 6,
     "metadata": {},
     "output_type": "execute_result"
    }
   ],
   "source": [
    "nombre"
   ]
  },
  {
   "cell_type": "code",
   "execution_count": 7,
   "id": "b1ecaa81-0d01-448c-ae18-56591be98592",
   "metadata": {},
   "outputs": [
    {
     "data": {
      "text/plain": [
       "'e'"
      ]
     },
     "execution_count": 7,
     "metadata": {},
     "output_type": "execute_result"
    }
   ],
   "source": [
    "nombre[1]"
   ]
  },
  {
   "cell_type": "code",
   "execution_count": 8,
   "id": "2f585822-4450-41f7-bc15-afcd097cc427",
   "metadata": {},
   "outputs": [
    {
     "data": {
      "text/plain": [
       "'p'"
      ]
     },
     "execution_count": 8,
     "metadata": {},
     "output_type": "execute_result"
    }
   ],
   "source": [
    "nombre[-2]"
   ]
  },
  {
   "cell_type": "code",
   "execution_count": 9,
   "id": "73ea55c2-636a-4cdb-9e96-da18693b98e6",
   "metadata": {},
   "outputs": [
    {
     "data": {
      "text/plain": [
       "'evOp'"
      ]
     },
     "execution_count": 9,
     "metadata": {},
     "output_type": "execute_result"
    }
   ],
   "source": [
    "nombre[1: -1]"
   ]
  },
  {
   "cell_type": "code",
   "execution_count": 34,
   "id": "5163b735-cb13-446f-9eba-8378d9d20539",
   "metadata": {},
   "outputs": [
    {
     "ename": "NameError",
     "evalue": "name 'nombre' is not defined",
     "output_type": "error",
     "traceback": [
      "\u001b[1;31m---------------------------------------------------------------------------\u001b[0m",
      "\u001b[1;31mNameError\u001b[0m                                 Traceback (most recent call last)",
      "Cell \u001b[1;32mIn[34], line 1\u001b[0m\n\u001b[1;32m----> 1\u001b[0m \u001b[38;5;28mlen\u001b[39m(nombre)\n",
      "\u001b[1;31mNameError\u001b[0m: name 'nombre' is not defined"
     ]
    }
   ],
   "source": [
    "len(nombre)"
   ]
  },
  {
   "cell_type": "code",
   "execution_count": 11,
   "id": "92b8b5d8-cea4-4190-a5c3-6854ac8026b0",
   "metadata": {},
   "outputs": [
    {
     "data": {
      "text/plain": [
       "'Devops'"
      ]
     },
     "execution_count": 11,
     "metadata": {},
     "output_type": "execute_result"
    }
   ],
   "source": [
    "nombre.title()"
   ]
  },
  {
   "cell_type": "markdown",
   "id": "784beb3c-67b7-4c00-b783-7ccde0fe88fc",
   "metadata": {},
   "source": [
    "<H2> PRACTICO LISTAS 04-03 1:40 </H2>"
   ]
  },
  {
   "cell_type": "code",
   "execution_count": 1,
   "id": "2b63a9de-5cd8-4c07-b654-d55d45c7cb4a",
   "metadata": {
    "tags": []
   },
   "outputs": [],
   "source": [
    "lista = [\"abc\", 42, 3.1415]"
   ]
  },
  {
   "cell_type": "code",
   "execution_count": 2,
   "id": "d6d48954-33e0-4056-b45e-92b624467724",
   "metadata": {},
   "outputs": [
    {
     "data": {
      "text/plain": [
       "'abc'"
      ]
     },
     "execution_count": 2,
     "metadata": {},
     "output_type": "execute_result"
    }
   ],
   "source": [
    "lista[0]"
   ]
  },
  {
   "cell_type": "code",
   "execution_count": 3,
   "id": "8e3b4a8e-5804-4310-9767-052be29cba2e",
   "metadata": {},
   "outputs": [
    {
     "data": {
      "text/plain": [
       "3.1415"
      ]
     },
     "execution_count": 3,
     "metadata": {},
     "output_type": "execute_result"
    }
   ],
   "source": [
    "lista[-1]"
   ]
  },
  {
   "cell_type": "code",
   "execution_count": 4,
   "id": "a330db80-8244-4b71-adb1-f2704ef9c198",
   "metadata": {},
   "outputs": [],
   "source": [
    "lista.append(True)"
   ]
  },
  {
   "cell_type": "code",
   "execution_count": 5,
   "id": "5676cc4e-e674-4f18-8fcd-e45fe2eea80f",
   "metadata": {},
   "outputs": [
    {
     "data": {
      "text/plain": [
       "['abc', 42, 3.1415, True]"
      ]
     },
     "execution_count": 5,
     "metadata": {},
     "output_type": "execute_result"
    }
   ],
   "source": [
    "lista"
   ]
  },
  {
   "cell_type": "code",
   "execution_count": 6,
   "id": "42f77ad7-7ca0-470a-8f71-0121fe1de12c",
   "metadata": {},
   "outputs": [],
   "source": [
    "lista[0] = \"xyz\""
   ]
  },
  {
   "cell_type": "code",
   "execution_count": 7,
   "id": "daf214d9-1929-464c-8a1d-0ea78398f84c",
   "metadata": {},
   "outputs": [
    {
     "data": {
      "text/plain": [
       "['xyz', 42, 3.1415, True]"
      ]
     },
     "execution_count": 7,
     "metadata": {},
     "output_type": "execute_result"
    }
   ],
   "source": [
    "lista"
   ]
  },
  {
   "cell_type": "code",
   "execution_count": 8,
   "id": "fde58b96-6342-47d2-ab04-f3e9d99d28ec",
   "metadata": {},
   "outputs": [],
   "source": [
    "lista.remove(True)"
   ]
  },
  {
   "cell_type": "code",
   "execution_count": 9,
   "id": "bd47dc34-8501-490f-ad9e-fff0bfaf216e",
   "metadata": {},
   "outputs": [
    {
     "data": {
      "text/plain": [
       "['xyz', 42, 3.1415]"
      ]
     },
     "execution_count": 9,
     "metadata": {},
     "output_type": "execute_result"
    }
   ],
   "source": [
    "lista"
   ]
  },
  {
   "cell_type": "code",
   "execution_count": 10,
   "id": "ddc00109-6191-4932-964d-c87493ff1c8d",
   "metadata": {},
   "outputs": [],
   "source": [
    "del lista[0]"
   ]
  },
  {
   "cell_type": "code",
   "execution_count": 11,
   "id": "4ff21d6c-bf7f-477a-bb61-4431cf7544bf",
   "metadata": {},
   "outputs": [
    {
     "data": {
      "text/plain": [
       "[42, 3.1415]"
      ]
     },
     "execution_count": 11,
     "metadata": {},
     "output_type": "execute_result"
    }
   ],
   "source": [
    "lista"
   ]
  },
  {
   "cell_type": "code",
   "execution_count": 12,
   "id": "4588d71e-40fd-402e-994d-0d75678d6acc",
   "metadata": {},
   "outputs": [
    {
     "data": {
      "text/plain": [
       "[42, 3.1415]"
      ]
     },
     "execution_count": 12,
     "metadata": {},
     "output_type": "execute_result"
    }
   ],
   "source": [
    "lista[0:2]"
   ]
  },
  {
   "cell_type": "code",
   "execution_count": 13,
   "id": "790e4605-b991-40e0-831e-2db65600b53d",
   "metadata": {},
   "outputs": [],
   "source": [
    "lista_anidada = [lista, [True, 42]]"
   ]
  },
  {
   "cell_type": "code",
   "execution_count": 14,
   "id": "0e290fe5-b81f-4d2f-8138-67a83cab2446",
   "metadata": {},
   "outputs": [
    {
     "data": {
      "text/plain": [
       "[[42, 3.1415], [True, 42]]"
      ]
     },
     "execution_count": 14,
     "metadata": {},
     "output_type": "execute_result"
    }
   ],
   "source": [
    "lista_anidada"
   ]
  },
  {
   "cell_type": "code",
   "execution_count": 15,
   "id": "06d63c08-2629-44b2-b871-c4e0c778a166",
   "metadata": {},
   "outputs": [
    {
     "data": {
      "text/plain": [
       "[[42, 3.1415], [True, 42]]"
      ]
     },
     "execution_count": 15,
     "metadata": {},
     "output_type": "execute_result"
    }
   ],
   "source": [
    "lista_anidada"
   ]
  },
  {
   "cell_type": "code",
   "execution_count": 4,
   "id": "46fdfec4-75e6-4f49-b4f3-7733b0be74ec",
   "metadata": {},
   "outputs": [],
   "source": [
    "lista = [22, True, \"a list\", [1, 2]]"
   ]
  },
  {
   "cell_type": "code",
   "execution_count": 6,
   "id": "d01d6a69-f0c7-412f-a0b1-6f175d50cdac",
   "metadata": {},
   "outputs": [
    {
     "data": {
      "text/plain": [
       "[22, True, 'a list', [1, 2]]"
      ]
     },
     "execution_count": 6,
     "metadata": {},
     "output_type": "execute_result"
    }
   ],
   "source": [
    "lista"
   ]
  },
  {
   "cell_type": "code",
   "execution_count": 8,
   "id": "d14d56b7-c77b-4047-8224-eabee0aff135",
   "metadata": {},
   "outputs": [
    {
     "data": {
      "text/plain": [
       "22"
      ]
     },
     "execution_count": 8,
     "metadata": {},
     "output_type": "execute_result"
    }
   ],
   "source": [
    "lista[0]"
   ]
  },
  {
   "cell_type": "code",
   "execution_count": 10,
   "id": "fabd4c30-0db6-49e5-ac40-cccfdde5d74a",
   "metadata": {},
   "outputs": [
    {
     "data": {
      "text/plain": [
       "'s'"
      ]
     },
     "execution_count": 10,
     "metadata": {},
     "output_type": "execute_result"
    }
   ],
   "source": [
    "lista[2][4]"
   ]
  },
  {
   "cell_type": "code",
   "execution_count": 12,
   "id": "98a9541b-90c9-428d-b0ea-950ba0994f69",
   "metadata": {},
   "outputs": [
    {
     "data": {
      "text/plain": [
       "1"
      ]
     },
     "execution_count": 12,
     "metadata": {},
     "output_type": "execute_result"
    }
   ],
   "source": [
    "lista[-1][-2]"
   ]
  },
  {
   "cell_type": "code",
   "execution_count": 14,
   "id": "19748e2e-3992-4c9b-8acf-c0a13486c9dc",
   "metadata": {},
   "outputs": [
    {
     "data": {
      "text/plain": [
       "[22, True, 'a list']"
      ]
     },
     "execution_count": 14,
     "metadata": {},
     "output_type": "execute_result"
    }
   ],
   "source": [
    "lista[0:3]"
   ]
  },
  {
   "cell_type": "code",
   "execution_count": 16,
   "id": "fd20d965-c2d1-409d-83ed-713a5470e31d",
   "metadata": {},
   "outputs": [
    {
     "data": {
      "text/plain": [
       "[22, True, 'a list']"
      ]
     },
     "execution_count": 16,
     "metadata": {},
     "output_type": "execute_result"
    }
   ],
   "source": [
    "lista[:3]"
   ]
  },
  {
   "cell_type": "code",
   "execution_count": 18,
   "id": "56812fb0-f9a5-4c4b-bbe1-f652a50ee8d6",
   "metadata": {},
   "outputs": [],
   "source": [
    "lista.append('DevOps')"
   ]
  },
  {
   "cell_type": "code",
   "execution_count": 20,
   "id": "6a94bbd2-d8e5-4d19-bc46-78761bd01977",
   "metadata": {},
   "outputs": [
    {
     "data": {
      "text/plain": [
       "[22, True, 'a list', [1, 2], 'DevOps']"
      ]
     },
     "execution_count": 20,
     "metadata": {},
     "output_type": "execute_result"
    }
   ],
   "source": [
    "lista"
   ]
  },
  {
   "cell_type": "code",
   "execution_count": 22,
   "id": "3f4cb541-8643-4b0f-8c21-33d295066826",
   "metadata": {},
   "outputs": [],
   "source": [
    "lista.insert (0, 'a list')"
   ]
  },
  {
   "cell_type": "code",
   "execution_count": 24,
   "id": "e180ab72-15dc-4eda-afca-aca4fd7b0da1",
   "metadata": {},
   "outputs": [
    {
     "data": {
      "text/plain": [
       "['a list', 22, True, 'a list', [1, 2], 'DevOps']"
      ]
     },
     "execution_count": 24,
     "metadata": {},
     "output_type": "execute_result"
    }
   ],
   "source": [
    "lista"
   ]
  },
  {
   "cell_type": "code",
   "execution_count": 26,
   "id": "55888fd9-f040-4cf2-b015-a1e7abec0c3b",
   "metadata": {},
   "outputs": [
    {
     "ename": "SyntaxError",
     "evalue": "invalid character '“' (U+201C) (1399695438.py, line 1)",
     "output_type": "error",
     "traceback": [
      "\u001b[1;36m  Cell \u001b[1;32mIn[26], line 1\u001b[1;36m\u001b[0m\n\u001b[1;33m    lista.remove(“a list”)\u001b[0m\n\u001b[1;37m                 ^\u001b[0m\n\u001b[1;31mSyntaxError\u001b[0m\u001b[1;31m:\u001b[0m invalid character '“' (U+201C)\n"
     ]
    }
   ],
   "source": [
    "lista.remove(“a list”)"
   ]
  },
  {
   "cell_type": "code",
   "execution_count": 28,
   "id": "cdc19539-035a-453b-8bfb-61a11bbc4407",
   "metadata": {},
   "outputs": [],
   "source": [
    "lista.remove('a list')"
   ]
  },
  {
   "cell_type": "code",
   "execution_count": 29,
   "id": "8eac2555-97c4-4d5f-92f1-4f302456f2b2",
   "metadata": {},
   "outputs": [
    {
     "data": {
      "text/plain": [
       "[22, True, 'a list', [1, 2], 'DevOps']"
      ]
     },
     "execution_count": 29,
     "metadata": {},
     "output_type": "execute_result"
    }
   ],
   "source": [
    "lista\n"
   ]
  },
  {
   "cell_type": "markdown",
   "id": "22f72813-c798-4db4-92e7-a076545adc4a",
   "metadata": {},
   "source": [
    "<H2> TUPLAS 04-03 1:55 </H2>"
   ]
  },
  {
   "cell_type": "code",
   "execution_count": 33,
   "id": "951c11e8-9346-49b2-b30c-4069739cd7e5",
   "metadata": {},
   "outputs": [],
   "source": [
    "tupla = (\"abc\", 42, 3.1415)"
   ]
  },
  {
   "cell_type": "code",
   "execution_count": 35,
   "id": "958daaa6-672a-471b-a539-ab08ef1f70f6",
   "metadata": {},
   "outputs": [
    {
     "data": {
      "text/plain": [
       "'abc'"
      ]
     },
     "execution_count": 35,
     "metadata": {},
     "output_type": "execute_result"
    }
   ],
   "source": [
    "tupla[0]"
   ]
  },
  {
   "cell_type": "code",
   "execution_count": 37,
   "id": "8151a76a-fa11-4748-91f8-2aa40eae37b5",
   "metadata": {},
   "outputs": [
    {
     "data": {
      "text/plain": [
       "3.1415"
      ]
     },
     "execution_count": 37,
     "metadata": {},
     "output_type": "execute_result"
    }
   ],
   "source": [
    "tupla[-1]"
   ]
  },
  {
   "cell_type": "code",
   "execution_count": 48,
   "id": "8b11c7e8-3b53-459a-a596-7947e47a6e43",
   "metadata": {},
   "outputs": [
    {
     "ename": "TypeError",
     "evalue": "'tuple' object doesn't support item deletion",
     "output_type": "error",
     "traceback": [
      "\u001b[1;31m---------------------------------------------------------------------------\u001b[0m",
      "\u001b[1;31mTypeError\u001b[0m                                 Traceback (most recent call last)",
      "Cell \u001b[1;32mIn[48], line 1\u001b[0m\n\u001b[1;32m----> 1\u001b[0m \u001b[38;5;28;01mdel\u001b[39;00m tupla[\u001b[38;5;241m0\u001b[39m]\n",
      "\u001b[1;31mTypeError\u001b[0m: 'tuple' object doesn't support item deletion"
     ]
    }
   ],
   "source": [
    "del tupla[0]"
   ]
  },
  {
   "cell_type": "code",
   "execution_count": 49,
   "id": "9fb37743-90f4-4040-8cc5-4b9ad1b5b35c",
   "metadata": {},
   "outputs": [
    {
     "ename": "TypeError",
     "evalue": "'tuple' object does not support item assignment",
     "output_type": "error",
     "traceback": [
      "\u001b[1;31m---------------------------------------------------------------------------\u001b[0m",
      "\u001b[1;31mTypeError\u001b[0m                                 Traceback (most recent call last)",
      "Cell \u001b[1;32mIn[49], line 1\u001b[0m\n\u001b[1;32m----> 1\u001b[0m tupla[\u001b[38;5;241m0\u001b[39m] \u001b[38;5;241m=\u001b[39m \u001b[38;5;124m\"\u001b[39m\u001b[38;5;124mxyz\u001b[39m\u001b[38;5;124m\"\u001b[39m\n",
      "\u001b[1;31mTypeError\u001b[0m: 'tuple' object does not support item assignment"
     ]
    }
   ],
   "source": [
    "tupla[0] = \"xyz\""
   ]
  },
  {
   "cell_type": "code",
   "execution_count": 39,
   "id": "44ea71b0-3573-4f18-a75a-128da9701df8",
   "metadata": {},
   "outputs": [
    {
     "data": {
      "text/plain": [
       "('abc', 42)"
      ]
     },
     "execution_count": 39,
     "metadata": {},
     "output_type": "execute_result"
    }
   ],
   "source": [
    "tupla[0:2]"
   ]
  },
  {
   "cell_type": "code",
   "execution_count": 51,
   "id": "d74e4cb5-ffae-4afe-8648-b412a53113f4",
   "metadata": {},
   "outputs": [],
   "source": [
    "tupla_anidada = (tupla, (True, 3.1415))"
   ]
  },
  {
   "cell_type": "code",
   "execution_count": 52,
   "id": "328f738d-5e85-4ca5-a627-96b38fabd62f",
   "metadata": {},
   "outputs": [
    {
     "data": {
      "text/plain": [
       "(('abc', 42, 3.1415), (True, 3.1415))"
      ]
     },
     "execution_count": 52,
     "metadata": {},
     "output_type": "execute_result"
    }
   ],
   "source": [
    "tupla_anidada"
   ]
  },
  {
   "cell_type": "code",
   "execution_count": 53,
   "id": "b14d66de-411a-416b-be35-62b1b99c272e",
   "metadata": {},
   "outputs": [
    {
     "data": {
      "text/plain": [
       "True"
      ]
     },
     "execution_count": 53,
     "metadata": {},
     "output_type": "execute_result"
    }
   ],
   "source": [
    "tupla_anidada[1][0]"
   ]
  },
  {
   "cell_type": "code",
   "execution_count": 54,
   "id": "4e5e3010-3b7d-401a-a1bf-6970fddec1fe",
   "metadata": {},
   "outputs": [
    {
     "data": {
      "text/plain": [
       "(1, 2, 3, 'abc')"
      ]
     },
     "execution_count": 54,
     "metadata": {},
     "output_type": "execute_result"
    }
   ],
   "source": [
    "1, 2, 3, \"abc\""
   ]
  },
  {
   "cell_type": "code",
   "execution_count": 55,
   "id": "a902f755-737e-4dca-91bc-893e8841d97b",
   "metadata": {},
   "outputs": [],
   "source": [
    "t = 10,15,20"
   ]
  },
  {
   "cell_type": "code",
   "execution_count": 56,
   "id": "10b6968c-6c28-4f1d-a787-442ec78958da",
   "metadata": {},
   "outputs": [],
   "source": [
    "t = t[0],t[2]"
   ]
  },
  {
   "cell_type": "code",
   "execution_count": 57,
   "id": "609413d3-ce3e-4704-b54d-37872afff771",
   "metadata": {},
   "outputs": [
    {
     "data": {
      "text/plain": [
       "(10, 20)"
      ]
     },
     "execution_count": 57,
     "metadata": {},
     "output_type": "execute_result"
    }
   ],
   "source": [
    "t"
   ]
  },
  {
   "cell_type": "markdown",
   "id": "81e01b8d-0041-4583-93e6-d21857568c78",
   "metadata": {},
   "source": [
    "<H2> DICCIONARIOS 04-03 2:00 </H2>"
   ]
  },
  {
   "cell_type": "code",
   "execution_count": 42,
   "id": "e83de668-7996-41dc-b16a-54018adbffa7",
   "metadata": {},
   "outputs": [],
   "source": [
    "diccionario = {\"cadena\": \"abc\", \"numero\": 42, \"lista\": [True, 42]}"
   ]
  },
  {
   "cell_type": "code",
   "execution_count": 44,
   "id": "76eaf60a-4598-46fb-9892-57ac5aafa478",
   "metadata": {},
   "outputs": [
    {
     "data": {
      "text/plain": [
       "{'cadena': 'abc', 'numero': 42, 'lista': [True, 42]}"
      ]
     },
     "execution_count": 44,
     "metadata": {},
     "output_type": "execute_result"
    }
   ],
   "source": [
    "diccionario "
   ]
  },
  {
   "cell_type": "code",
   "execution_count": 46,
   "id": "37ac1780-d5e7-4486-9447-4f5a82e9f596",
   "metadata": {},
   "outputs": [
    {
     "data": {
      "text/plain": [
       "True"
      ]
     },
     "execution_count": 46,
     "metadata": {},
     "output_type": "execute_result"
    }
   ],
   "source": [
    "diccionario[\"lista\"][0]"
   ]
  },
  {
   "cell_type": "code",
   "execution_count": 48,
   "id": "370d2037-58b7-40aa-9418-210cc459d965",
   "metadata": {},
   "outputs": [],
   "source": [
    "diccionario[\"decimal\"] = 3.1415927"
   ]
  },
  {
   "cell_type": "code",
   "execution_count": 50,
   "id": "47bee13c-5e39-46b9-8e30-af05f25d8172",
   "metadata": {},
   "outputs": [
    {
     "data": {
      "text/plain": [
       "{'cadena': 'abc', 'numero': 42, 'lista': [True, 42], 'decimal': 3.1415927}"
      ]
     },
     "execution_count": 50,
     "metadata": {},
     "output_type": "execute_result"
    }
   ],
   "source": [
    "diccionario"
   ]
  },
  {
   "cell_type": "code",
   "execution_count": 52,
   "id": "ca8fa64d-d39a-46ca-b6c4-7027e7714394",
   "metadata": {},
   "outputs": [],
   "source": [
    "diccionario[\"cadena\"] = \"xyz\""
   ]
  },
  {
   "cell_type": "code",
   "execution_count": 54,
   "id": "ada3fd29-9d8d-40ca-81d6-fd20fd9d76e1",
   "metadata": {},
   "outputs": [
    {
     "data": {
      "text/plain": [
       "{'cadena': 'xyz', 'numero': 42, 'lista': [True, 42], 'decimal': 3.1415927}"
      ]
     },
     "execution_count": 54,
     "metadata": {},
     "output_type": "execute_result"
    }
   ],
   "source": [
    "diccionario"
   ]
  },
  {
   "cell_type": "code",
   "execution_count": 56,
   "id": "3b9d58cb-a8df-44f1-bce5-1c7cfc78eb07",
   "metadata": {},
   "outputs": [],
   "source": [
    "diccionario_mixto = {\"tupla\": (True, 3.1415), \"diccionario\": diccionario}"
   ]
  },
  {
   "cell_type": "code",
   "execution_count": 84,
   "id": "20d76a30-4c20-4afb-a718-89e7b0c316d0",
   "metadata": {},
   "outputs": [
    {
     "data": {
      "text/plain": [
       "{'tupla': (True, 3.1415),\n",
       " 'diccionario': {'cadena': 'xyz',\n",
       "  'numero': 42,\n",
       "  'lista': [True, 42],\n",
       "  'decimal': 3.1415927}}"
      ]
     },
     "execution_count": 84,
     "metadata": {},
     "output_type": "execute_result"
    }
   ],
   "source": [
    "diccionario_mixto "
   ]
  },
  {
   "cell_type": "code",
   "execution_count": 86,
   "id": "071ac5ef-d2b2-4519-9292-8d3840f57699",
   "metadata": {},
   "outputs": [],
   "source": [
    "dic = {'e': 2.718, 'pi': 3.141, 'fi': 1.618}"
   ]
  },
  {
   "cell_type": "code",
   "execution_count": 88,
   "id": "1b3f6597-6cd1-4c93-8df9-136b614b631a",
   "metadata": {},
   "outputs": [
    {
     "data": {
      "text/plain": [
       "{'e': 2.718, 'pi': 3.141, 'fi': 1.618}"
      ]
     },
     "execution_count": 88,
     "metadata": {},
     "output_type": "execute_result"
    }
   ],
   "source": [
    "dic"
   ]
  },
  {
   "cell_type": "code",
   "execution_count": 90,
   "id": "aaf1103a-51ed-4f13-8c0d-eff17660f26b",
   "metadata": {},
   "outputs": [
    {
     "data": {
      "text/plain": [
       "2.718"
      ]
     },
     "execution_count": 90,
     "metadata": {},
     "output_type": "execute_result"
    }
   ],
   "source": [
    "dic['e']"
   ]
  },
  {
   "cell_type": "code",
   "execution_count": 92,
   "id": "503bcdcc-97b8-4e66-97ea-f5b11230c3d7",
   "metadata": {},
   "outputs": [],
   "source": [
    "dic['e']=3.141592"
   ]
  },
  {
   "cell_type": "code",
   "execution_count": 94,
   "id": "4cd55cea-f7cf-4394-bfd6-5fd317446ac5",
   "metadata": {},
   "outputs": [
    {
     "data": {
      "text/plain": [
       "{'e': 3.141592, 'pi': 3.141, 'fi': 1.618}"
      ]
     },
     "execution_count": 94,
     "metadata": {},
     "output_type": "execute_result"
    }
   ],
   "source": [
    "dic"
   ]
  },
  {
   "cell_type": "code",
   "execution_count": 96,
   "id": "34c9ac67-f3ef-4605-a967-4d678cd26e68",
   "metadata": {},
   "outputs": [
    {
     "data": {
      "text/plain": [
       "dict_keys(['e', 'pi', 'fi'])"
      ]
     },
     "execution_count": 96,
     "metadata": {},
     "output_type": "execute_result"
    }
   ],
   "source": [
    "dic.keys()"
   ]
  },
  {
   "cell_type": "code",
   "execution_count": 98,
   "id": "dc3cf840-fdba-4377-8c7b-70624bba2258",
   "metadata": {
    "tags": []
   },
   "outputs": [
    {
     "data": {
      "text/plain": [
       "dict_keys(['e', 'pi', 'fi'])"
      ]
     },
     "execution_count": 98,
     "metadata": {},
     "output_type": "execute_result"
    }
   ],
   "source": [
    "lista_claves=dic.keys()\n",
    "lista_claves"
   ]
  },
  {
   "cell_type": "code",
   "execution_count": 100,
   "id": "d14eccb1-8568-4566-9b1d-1f9ae8ae6662",
   "metadata": {
    "tags": []
   },
   "outputs": [
    {
     "name": "stdout",
     "output_type": "stream",
     "text": [
      "3.141592\n",
      "3.141\n",
      "1.618\n"
     ]
    }
   ],
   "source": [
    "for clave in lista_claves:\n",
    "    print (dic[clave])"
   ]
  },
  {
   "cell_type": "code",
   "execution_count": 102,
   "id": "646647d4-6e66-4937-892a-fac7cdf3afe4",
   "metadata": {},
   "outputs": [
    {
     "data": {
      "text/plain": [
       "dict_values([3.141592, 3.141, 1.618])"
      ]
     },
     "execution_count": 102,
     "metadata": {},
     "output_type": "execute_result"
    }
   ],
   "source": [
    "dic.values()"
   ]
  },
  {
   "cell_type": "code",
   "execution_count": 104,
   "id": "04c87bd6-8617-482a-b674-286672d6a11e",
   "metadata": {},
   "outputs": [
    {
     "data": {
      "text/plain": [
       "dict_items([('e', 3.141592), ('pi', 3.141), ('fi', 1.618)])"
      ]
     },
     "execution_count": 104,
     "metadata": {},
     "output_type": "execute_result"
    }
   ],
   "source": [
    "dic.items()"
   ]
  },
  {
   "cell_type": "markdown",
   "id": "09903191-46fd-4f8a-8aa6-a44091202150",
   "metadata": {},
   "source": [
    "<H2> CONJUNTOS SET-FROZENSET 04-03 2:14 </H2>"
   ]
  },
  {
   "cell_type": "code",
   "execution_count": 137,
   "id": "fbe1d849-8c62-4e93-8cf3-453a91967d0c",
   "metadata": {
    "tags": []
   },
   "outputs": [],
   "source": [
    "conjunto1= set([\"a\", \"b\", \"a\"])\n",
    "conjunto2= set([\"a\", \"b\", \"a\",\"c\", \"d\"])\n",
    "conjunto_inmutable= frozenset([\"a\", \"b\", \"a\"])"
   ]
  },
  {
   "cell_type": "code",
   "execution_count": 139,
   "id": "9ccfbc5a-1aaa-4ac7-8cef-d7c95115d8ec",
   "metadata": {
    "tags": []
   },
   "outputs": [
    {
     "data": {
      "text/plain": [
       "frozenset({'a', 'b'})"
      ]
     },
     "execution_count": 139,
     "metadata": {},
     "output_type": "execute_result"
    }
   ],
   "source": [
    "#conjunto1\n",
    "#conjunto2\n",
    "conjunto_inmutable"
   ]
  },
  {
   "cell_type": "code",
   "execution_count": 145,
   "id": "9cb70d3f-83b8-45da-a23e-8f8fc4f0c491",
   "metadata": {
    "tags": []
   },
   "outputs": [
    {
     "data": {
      "text/plain": [
       "{'a', 'b'}"
      ]
     },
     "execution_count": 145,
     "metadata": {},
     "output_type": "execute_result"
    }
   ],
   "source": [
    "interseccion= conjunto1&conjunto2\n",
    "interseccion"
   ]
  },
  {
   "cell_type": "code",
   "execution_count": 147,
   "id": "1c6ea772-4b94-4c37-bbfd-9cc3cb5fcecc",
   "metadata": {
    "tags": []
   },
   "outputs": [
    {
     "data": {
      "text/plain": [
       "{'a', 'b', 'c', 'd'}"
      ]
     },
     "execution_count": 147,
     "metadata": {},
     "output_type": "execute_result"
    }
   ],
   "source": [
    "union=conjunto1|conjunto2\n",
    "union"
   ]
  },
  {
   "cell_type": "code",
   "execution_count": 149,
   "id": "a59becbe-af98-4faf-9691-7146e5d9b47e",
   "metadata": {
    "tags": []
   },
   "outputs": [
    {
     "data": {
      "text/plain": [
       "set()"
      ]
     },
     "execution_count": 149,
     "metadata": {},
     "output_type": "execute_result"
    }
   ],
   "source": [
    "diferencia= conjunto1-conjunto2\n",
    "diferencia"
   ]
  },
  {
   "cell_type": "code",
   "execution_count": 151,
   "id": "3b1fd2ee-0e26-47c3-bb7f-dfa6823cf456",
   "metadata": {
    "tags": []
   },
   "outputs": [
    {
     "data": {
      "text/plain": [
       "{'c', 'd'}"
      ]
     },
     "execution_count": 151,
     "metadata": {},
     "output_type": "execute_result"
    }
   ],
   "source": [
    "diferencia= conjunto2-conjunto1\n",
    "diferencia"
   ]
  },
  {
   "cell_type": "code",
   "execution_count": 155,
   "id": "f4c5caf9-3553-4638-9b00-c2690d7b3938",
   "metadata": {
    "tags": []
   },
   "outputs": [
    {
     "data": {
      "text/plain": [
       "{'c', 'd'}"
      ]
     },
     "execution_count": 155,
     "metadata": {},
     "output_type": "execute_result"
    }
   ],
   "source": [
    "diferencia_simetrica= conjunto2^conjunto1\n",
    "diferencia_simetrica"
   ]
  },
  {
   "cell_type": "code",
   "execution_count": 157,
   "id": "5b48099b-e288-4247-be68-0e0ea1aad211",
   "metadata": {
    "tags": []
   },
   "outputs": [
    {
     "name": "stdout",
     "output_type": "stream",
     "text": [
      "{'Charlie', 'Ella', 'Alice', 'Frank'}\n"
     ]
    }
   ],
   "source": [
    "# Definición de los conjuntos de participantes en dos eventos\n",
    "evento1 = {'Alice', 'Bob', 'Charlie', 'Diana'}\n",
    "evento2 = {'Bob', 'Diana', 'Ella', 'Frank'}\n",
    "\n",
    "# Uso de la diferencia simétrica para encontrar participantes que asisten solo a uno de los eventos\n",
    "participantes_exclusivos = evento1 ^ evento2\n",
    "\n",
    "print(participantes_exclusivos)\n"
   ]
  },
  {
   "cell_type": "markdown",
   "id": "d25350b6-bf57-4c24-9e50-7c7fbb8f9ad3",
   "metadata": {},
   "source": [
    "<H2> SLICE REBANADAS DE SECUENCIAS 04-03 2:21 </H2>\n",
    "<p> Sacar datos de una lista o tupla en una sola sentencia </p>"
   ]
  },
  {
   "cell_type": "code",
   "execution_count": 162,
   "id": "04df6e9a-8243-4fb5-90af-39106a6258d6",
   "metadata": {
    "tags": []
   },
   "outputs": [
    {
     "data": {
      "text/plain": [
       "(3, 4)"
      ]
     },
     "execution_count": 162,
     "metadata": {},
     "output_type": "execute_result"
    }
   ],
   "source": [
    "#secuencia[x:y:z] Desde x hasta y sin incluir esta posicion y con incrementos de z\n",
    "tupla=(1,2,3,4,5)\n",
    "tupla[2:4]"
   ]
  },
  {
   "cell_type": "code",
   "execution_count": 164,
   "id": "244ccf85-6092-4e54-b969-791d60d80974",
   "metadata": {
    "tags": []
   },
   "outputs": [
    {
     "data": {
      "text/plain": [
       "(1, 2, 3)"
      ]
     },
     "execution_count": 164,
     "metadata": {},
     "output_type": "execute_result"
    }
   ],
   "source": [
    "tupla[:3]"
   ]
  },
  {
   "cell_type": "code",
   "execution_count": 168,
   "id": "d2fb8bbe-65e7-4c35-bf98-98d1cd4907c2",
   "metadata": {
    "tags": []
   },
   "outputs": [
    {
     "data": {
      "text/plain": [
       "(4, 5)"
      ]
     },
     "execution_count": 168,
     "metadata": {},
     "output_type": "execute_result"
    }
   ],
   "source": [
    "tupla[3:]"
   ]
  },
  {
   "cell_type": "code",
   "execution_count": 170,
   "id": "62fcb6a6-a472-4096-a798-363db909712a",
   "metadata": {
    "tags": []
   },
   "outputs": [
    {
     "data": {
      "text/plain": [
       "(1, 2, 3, 4, 5)"
      ]
     },
     "execution_count": 170,
     "metadata": {},
     "output_type": "execute_result"
    }
   ],
   "source": [
    "tupla[:] #desde comienzo al final"
   ]
  },
  {
   "cell_type": "code",
   "execution_count": 172,
   "id": "217635a1-11e2-4457-9e22-91775fea5aa8",
   "metadata": {
    "tags": []
   },
   "outputs": [
    {
     "data": {
      "text/plain": [
       "(5, 4, 3, 2, 1)"
      ]
     },
     "execution_count": 172,
     "metadata": {},
     "output_type": "execute_result"
    }
   ],
   "source": [
    "tupla[::-1] #sentido inverso"
   ]
  },
  {
   "cell_type": "code",
   "execution_count": 174,
   "id": "300f8f16-68d2-4407-a8aa-e7344d9d8e0d",
   "metadata": {
    "tags": []
   },
   "outputs": [
    {
     "data": {
      "text/plain": [
       "(5, 3, 1)"
      ]
     },
     "execution_count": 174,
     "metadata": {},
     "output_type": "execute_result"
    }
   ],
   "source": [
    "tupla[::-2]  #sentido inverso con incrementos de 2"
   ]
  },
  {
   "cell_type": "markdown",
   "id": "39a7d610-e171-4692-bb9c-fc8555fc19ab",
   "metadata": {},
   "source": [
    "<H2> PRACTICO 1 INTRO PYTHON  06-03  </H2>"
   ]
  },
  {
   "cell_type": "code",
   "execution_count": 22,
   "id": "a1b4003d-dd68-4124-b3a0-7ba83d275d8a",
   "metadata": {
    "tags": []
   },
   "outputs": [
    {
     "name": "stdout",
     "output_type": "stream",
     "text": [
      "Python 3.11.7\n"
     ]
    }
   ],
   "source": [
    "# 1Verifique las versiones de python 2 y 3\n",
    "!python -V "
   ]
  },
  {
   "cell_type": "code",
   "execution_count": 36,
   "id": "f158f60e-8fe0-4f0a-9ce5-dd5d5b7d959a",
   "metadata": {
    "tags": []
   },
   "outputs": [
    {
     "data": {
      "text/plain": [
       "set"
      ]
     },
     "execution_count": 36,
     "metadata": {},
     "output_type": "execute_result"
    }
   ],
   "source": [
    "#5Asigne a una variable valores enteros, reales y strings verificado el tipo de datos con la función type.\n",
    "#a= [20, 3.14, \"hola\"]\n",
    "#a= 20, 3.14, \"hola\"\n",
    "a= {20, 3.14, \"hola\"}\n",
    "type(a)"
   ]
  },
  {
   "cell_type": "markdown",
   "id": "b021efa7-7671-49b7-b0eb-2a3c4ee097e5",
   "metadata": {
    "tags": []
   },
   "source": [
    "<H2> TIPOS DE DATOS  06-03  </H2>"
   ]
  },
  {
   "cell_type": "code",
   "execution_count": 41,
   "id": "49084a46-ec2c-4ed2-a5b8-d6f237027bdd",
   "metadata": {},
   "outputs": [],
   "source": [
    "#6 ¿Cuántos tipos de datos numéricos incluye python por defecto? ------->integral, real , complex\n",
    "#7 ¿Cuáles son los valores posibles del tipo bool ? ----------> false, true y 0 o 1\n",
    "#¿ true es igual que True? --> NO"
   ]
  },
  {
   "cell_type": "code",
   "execution_count": 43,
   "id": "c56bea13-54ce-4795-b7df-842763692e21",
   "metadata": {
    "tags": []
   },
   "outputs": [
    {
     "ename": "NameError",
     "evalue": "name 'true' is not defined",
     "output_type": "error",
     "traceback": [
      "\u001b[1;31m---------------------------------------------------------------------------\u001b[0m",
      "\u001b[1;31mNameError\u001b[0m                                 Traceback (most recent call last)",
      "Cell \u001b[1;32mIn[43], line 1\u001b[0m\n\u001b[1;32m----> 1\u001b[0m true\u001b[38;5;241m==\u001b[39mtrue\n",
      "\u001b[1;31mNameError\u001b[0m: name 'true' is not defined"
     ]
    }
   ],
   "source": [
    "true==true"
   ]
  },
  {
   "cell_type": "code",
   "execution_count": 45,
   "id": "ac35150d-f91b-4c36-8bb2-ce9628c2731c",
   "metadata": {
    "tags": []
   },
   "outputs": [
    {
     "data": {
      "text/plain": [
       "True"
      ]
     },
     "execution_count": 45,
     "metadata": {},
     "output_type": "execute_result"
    }
   ],
   "source": [
    "True==True"
   ]
  },
  {
   "cell_type": "code",
   "execution_count": 47,
   "id": "32530be5-a594-4bf3-b626-d2bdc9dd10ae",
   "metadata": {
    "tags": []
   },
   "outputs": [
    {
     "ename": "SyntaxError",
     "evalue": "invalid syntax (1404272480.py, line 1)",
     "output_type": "error",
     "traceback": [
      "\u001b[1;36m  Cell \u001b[1;32mIn[47], line 1\u001b[1;36m\u001b[0m\n\u001b[1;33m    if:\u001b[0m\n\u001b[1;37m      ^\u001b[0m\n\u001b[1;31mSyntaxError\u001b[0m\u001b[1;31m:\u001b[0m invalid syntax\n"
     ]
    }
   ],
   "source": [
    "if:\n",
    "    true=True"
   ]
  },
  {
   "cell_type": "code",
   "execution_count": 49,
   "id": "2152b322-79ac-4b56-82af-c0df4d28763c",
   "metadata": {
    "tags": []
   },
   "outputs": [
    {
     "ename": "NameError",
     "evalue": "name 'true' is not defined",
     "output_type": "error",
     "traceback": [
      "\u001b[1;31m---------------------------------------------------------------------------\u001b[0m",
      "\u001b[1;31mNameError\u001b[0m                                 Traceback (most recent call last)",
      "Cell \u001b[1;32mIn[49], line 1\u001b[0m\n\u001b[1;32m----> 1\u001b[0m true\u001b[38;5;241m==\u001b[39m\u001b[38;5;28;01mTrue\u001b[39;00m\n",
      "\u001b[1;31mNameError\u001b[0m: name 'true' is not defined"
     ]
    }
   ],
   "source": [
    "true==True"
   ]
  },
  {
   "cell_type": "code",
   "execution_count": 51,
   "id": "bcb47128-977f-497b-a867-644b51f2c65e",
   "metadata": {},
   "outputs": [],
   "source": [
    "# 8. ¿A qué número se corresponde el valor False ? --> El valor de False es Cero "
   ]
  },
  {
   "cell_type": "code",
   "execution_count": 57,
   "id": "b2383b0b-604f-4cee-8b27-b08ebdafac50",
   "metadata": {},
   "outputs": [],
   "source": [
    "#9.-¿Cuál es el valor máximo que entra en un entero?\n",
    "enteroMAx= sys.maxsize"
   ]
  },
  {
   "cell_type": "code",
   "execution_count": 61,
   "id": "2847a8d2-0cea-4175-a332-b313fa142b62",
   "metadata": {},
   "outputs": [
    {
     "data": {
      "text/plain": [
       "9223372036854775807"
      ]
     },
     "execution_count": 61,
     "metadata": {},
     "output_type": "execute_result"
    }
   ],
   "source": [
    "max_valor_integer = sys.maxsize\n",
    "max_valor_integer "
   ]
  },
  {
   "cell_type": "code",
   "execution_count": 10,
   "id": "21a85994-98b8-4902-9c0c-c78ed8bc7dc1",
   "metadata": {},
   "outputs": [],
   "source": [
    "import sys"
   ]
  },
  {
   "cell_type": "code",
   "execution_count": 63,
   "id": "844cd578-b972-46b7-9ff8-55f30dc66ee0",
   "metadata": {},
   "outputs": [],
   "source": [
    "#10.-Defina el valor entero 12 en decimal, binario, hexadecimal y octal.\n",
    "numEnt=12"
   ]
  },
  {
   "cell_type": "code",
   "execution_count": 65,
   "id": "0753f097-9c4b-466c-b781-e8587128038a",
   "metadata": {},
   "outputs": [
    {
     "data": {
      "text/plain": [
       "'0b1100'"
      ]
     },
     "execution_count": 65,
     "metadata": {},
     "output_type": "execute_result"
    }
   ],
   "source": [
    "bin(numEnt)"
   ]
  },
  {
   "cell_type": "code",
   "execution_count": 67,
   "id": "439767ea-88b3-4820-a1ee-a50fefb0bdc9",
   "metadata": {},
   "outputs": [
    {
     "data": {
      "text/plain": [
       "'0xc'"
      ]
     },
     "execution_count": 67,
     "metadata": {},
     "output_type": "execute_result"
    }
   ],
   "source": [
    "hex(numEnt)"
   ]
  },
  {
   "cell_type": "code",
   "execution_count": 69,
   "id": "32b9fa73-46bb-4b8e-b16a-44c3f2987aeb",
   "metadata": {},
   "outputs": [
    {
     "data": {
      "text/plain": [
       "'0o14'"
      ]
     },
     "execution_count": 69,
     "metadata": {},
     "output_type": "execute_result"
    }
   ],
   "source": [
    "oct(numEnt)"
   ]
  },
  {
   "cell_type": "code",
   "execution_count": 77,
   "id": "2cff2f4d-2513-4be9-932d-a3f89c6c6c7c",
   "metadata": {
    "tags": []
   },
   "outputs": [
    {
     "data": {
      "text/plain": [
       "12"
      ]
     },
     "execution_count": 77,
     "metadata": {},
     "output_type": "execute_result"
    }
   ],
   "source": [
    "int(numEnt)"
   ]
  },
  {
   "cell_type": "code",
   "execution_count": 83,
   "id": "b77a6b05-398e-478b-8c91-ed03bdb2101e",
   "metadata": {},
   "outputs": [
    {
     "data": {
      "text/plain": [
       "1.015"
      ]
     },
     "execution_count": 83,
     "metadata": {},
     "output_type": "execute_result"
    }
   ],
   "source": [
    "#11.-¿Cómo se define un número real (punto flotante) ?\n",
    "numFlotante = float(1.015)\n",
    "numFlotante"
   ]
  },
  {
   "cell_type": "code",
   "execution_count": 87,
   "id": "7007dace-033d-4514-93fb-3f2203cc8354",
   "metadata": {
    "tags": []
   },
   "outputs": [
    {
     "name": "stdout",
     "output_type": "stream",
     "text": [
      "sys.float_info(max=1.7976931348623157e+308, max_exp=1024, max_10_exp=308, min=2.2250738585072014e-308, min_exp=-1021, min_10_exp=-307, dig=15, mant_dig=53, epsilon=2.220446049250313e-16, radix=2, rounds=1)\n"
     ]
    }
   ],
   "source": [
    "#12.-¿Qué precisión tiene su equipo usando números reales?\n",
    "print(sys.float_info)"
   ]
  },
  {
   "cell_type": "code",
   "execution_count": 89,
   "id": "b005f61d-f20e-4aac-8bec-2f3912af3a5d",
   "metadata": {},
   "outputs": [],
   "source": [
    "#13.- ¿Cómo se define un número complejo?\n",
    "numComplej=6.32 + 45j"
   ]
  },
  {
   "cell_type": "code",
   "execution_count": 23,
   "id": "856df534-e00f-4f32-ba72-0aa69a3a8b71",
   "metadata": {},
   "outputs": [
    {
     "data": {
      "text/plain": [
       "(6.32+45j)"
      ]
     },
     "execution_count": 23,
     "metadata": {},
     "output_type": "execute_result"
    }
   ],
   "source": [
    "numComplej"
   ]
  },
  {
   "cell_type": "code",
   "execution_count": 24,
   "id": "ce0924b1-6f09-466f-90fb-0c92f80d54ec",
   "metadata": {},
   "outputs": [
    {
     "data": {
      "text/plain": [
       "(2+0j)"
      ]
     },
     "execution_count": 24,
     "metadata": {},
     "output_type": "execute_result"
    }
   ],
   "source": [
    "(2 + 0j)"
   ]
  },
  {
   "cell_type": "code",
   "execution_count": 99,
   "id": "89d38d7a-b3cb-476a-acfc-b3ba805753c0",
   "metadata": {},
   "outputs": [
    {
     "data": {
      "text/plain": [
       "'lola'"
      ]
     },
     "execution_count": 99,
     "metadata": {},
     "output_type": "execute_result"
    }
   ],
   "source": [
    "#14. ¿Cómo se define un string?\n",
    "mistr=str(\"lola\")\n",
    "mistr"
   ]
  },
  {
   "cell_type": "code",
   "execution_count": 101,
   "id": "53189a52-50c9-40cb-9d96-3610d7885abf",
   "metadata": {},
   "outputs": [],
   "source": [
    "miStr=\"se define usando comillas? o se refiere a que se define como un Array de Caracteres \""
   ]
  },
  {
   "cell_type": "code",
   "execution_count": 103,
   "id": "3a878720-bbe9-4775-8dc9-8864ed0f7c5a",
   "metadata": {},
   "outputs": [],
   "source": [
    "#15.- Qué significa el valor None? ¿Cómo se usa?  Es como un null y no reserva memoria\n",
    "aNone= None "
   ]
  },
  {
   "cell_type": "code",
   "execution_count": 105,
   "id": "422567be-5984-4940-8378-a26043f0bb6b",
   "metadata": {},
   "outputs": [
    {
     "data": {
      "text/plain": [
       "'r'"
      ]
     },
     "execution_count": 105,
     "metadata": {},
     "output_type": "execute_result"
    }
   ],
   "source": [
    "#16. Suponiendo (nombre = \"DevOps\"), ¿Qué devuelve el nombre[1]?\n",
    "nombre=\"Programación para DevOps\"\n",
    "nombre[1]"
   ]
  },
  {
   "cell_type": "code",
   "execution_count": 111,
   "id": "d0f6e7b4-ede5-41f5-b02d-6dc36bf29984",
   "metadata": {
    "tags": []
   },
   "outputs": [
    {
     "data": {
      "text/plain": [
       "'p'"
      ]
     },
     "execution_count": 111,
     "metadata": {},
     "output_type": "execute_result"
    }
   ],
   "source": [
    "#17. Suponiendo (nombre = \"DevOps\"), ¿Qué devuelve el nombre[1]?\n",
    "nombre[-2]"
   ]
  },
  {
   "cell_type": "code",
   "execution_count": 113,
   "id": "59cc8162-33ea-4ec4-bc1d-749259738db4",
   "metadata": {
    "tags": []
   },
   "outputs": [
    {
     "data": {
      "text/plain": [
       "'rogramación para DevOp'"
      ]
     },
     "execution_count": 113,
     "metadata": {},
     "output_type": "execute_result"
    }
   ],
   "source": [
    "#18. ¿Qué pasa con el nombre[1: -1]?\n",
    "nombre[1: -1]"
   ]
  },
  {
   "cell_type": "code",
   "execution_count": 115,
   "id": "8e60914f-2318-4b91-9699-a7598ffc668e",
   "metadata": {},
   "outputs": [
    {
     "data": {
      "text/plain": [
       "24"
      ]
     },
     "execution_count": 115,
     "metadata": {},
     "output_type": "execute_result"
    }
   ],
   "source": [
    "#19. ¿Cómo obtener la longitud de nombre?\n",
    "len(nombre)"
   ]
  },
  {
   "cell_type": "code",
   "execution_count": 119,
   "id": "43a5bc32-ccfd-48fe-b5dc-555481a99c7f",
   "metadata": {
    "tags": []
   },
   "outputs": [
    {
     "data": {
      "text/plain": [
       "'Programación Para Devops'"
      ]
     },
     "execution_count": 119,
     "metadata": {},
     "output_type": "execute_result"
    }
   ],
   "source": [
    "#20. ¿Qué retorna nombre.title ()?\n",
    "nombre.title()"
   ]
  },
  {
   "cell_type": "code",
   "execution_count": 129,
   "id": "b169fb7d-baf0-44e8-84a4-1b2702da0b28",
   "metadata": {
    "tags": []
   },
   "outputs": [
    {
     "data": {
      "text/plain": [
       "-1"
      ]
     },
     "execution_count": 129,
     "metadata": {},
     "output_type": "execute_result"
    }
   ],
   "source": [
    "#21. Si nombre=\"Programación para DevOps\". ¿Cómo podemos verificar si el nombre contiene \"DevOps\" con el método find?\n",
    "nombre.find(\"DevOps\")\n",
    "nombre.find(\"queso\")"
   ]
  },
  {
   "cell_type": "markdown",
   "id": "0436453b-1ed8-4638-acaa-9b12c052936f",
   "metadata": {},
   "source": [
    "<H2> LISTAS Y TUPLAS  06-03  </H2>"
   ]
  },
  {
   "cell_type": "code",
   "execution_count": 138,
   "id": "90e71b2b-1512-4e8b-9ce4-59cdbfa3241a",
   "metadata": {},
   "outputs": [],
   "source": [
    "#22. ¿Cómo se define una lista? ¿Cómo se define una tupla? ¿Cuál es la diferencia?\n",
    "a = [10,20,30,40,50,60,70,80,90] #Listas son Mutables\n",
    "b = (10,20,30,40,50,60,70,80,90) #Listas son InMutables"
   ]
  },
  {
   "cell_type": "code",
   "execution_count": 136,
   "id": "4e4dd45b-164a-4c8f-9e20-582446cfe3d7",
   "metadata": {
    "tags": []
   },
   "outputs": [
    {
     "data": {
      "text/plain": [
       "tuple"
      ]
     },
     "execution_count": 136,
     "metadata": {},
     "output_type": "execute_result"
    }
   ],
   "source": [
    "type(a)\n",
    "type(b)"
   ]
  },
  {
   "cell_type": "code",
   "execution_count": 284,
   "id": "f3d64f03-6064-42b5-a317-0fb0e1fc4eb0",
   "metadata": {},
   "outputs": [],
   "source": [
    "#23. Teniendo en cuanta que a = [10,20,30,40,50,60,70,80,90]. ¿Qué retorna: len(a), min(a), max(a)?\n",
    "a = [10,20,30,40,50,60,70,80,90]"
   ]
  },
  {
   "cell_type": "code",
   "execution_count": 286,
   "id": "199e449f-65c1-42fe-ad04-ca96f9ea794b",
   "metadata": {},
   "outputs": [
    {
     "data": {
      "text/plain": [
       "9"
      ]
     },
     "execution_count": 286,
     "metadata": {},
     "output_type": "execute_result"
    }
   ],
   "source": [
    "len(a)"
   ]
  },
  {
   "cell_type": "code",
   "execution_count": 288,
   "id": "1a7cc3a6-30a7-4512-92a9-3f39ffe16d27",
   "metadata": {},
   "outputs": [
    {
     "data": {
      "text/plain": [
       "10"
      ]
     },
     "execution_count": 288,
     "metadata": {},
     "output_type": "execute_result"
    }
   ],
   "source": [
    "min(a)"
   ]
  },
  {
   "cell_type": "code",
   "execution_count": 290,
   "id": "b85d752d-8d87-4efe-8ccc-addf59c3f4a3",
   "metadata": {},
   "outputs": [
    {
     "data": {
      "text/plain": [
       "90"
      ]
     },
     "execution_count": 290,
     "metadata": {},
     "output_type": "execute_result"
    }
   ],
   "source": [
    "max(a)"
   ]
  },
  {
   "cell_type": "code",
   "execution_count": 292,
   "id": "dddcac44-b539-4ce8-9fa7-a043631b1421",
   "metadata": {},
   "outputs": [
    {
     "data": {
      "text/plain": [
       "[10, 20, 30, 40, 50, 60, 70, 80, 90, 100]"
      ]
     },
     "execution_count": 292,
     "metadata": {},
     "output_type": "execute_result"
    }
   ],
   "source": [
    "#24. ¿Cómo se puede agregar el valor 100?\n",
    "a.append(100)\n",
    "a"
   ]
  },
  {
   "cell_type": "code",
   "execution_count": 294,
   "id": "39046336-b3b8-4a2d-9fe7-4d3c171727a5",
   "metadata": {},
   "outputs": [],
   "source": [
    "#25. Investigue como usando el operador + se puede añadir una lista con los valore 110 120 130.\n",
    "a+=[110, 120, 130]"
   ]
  },
  {
   "cell_type": "code",
   "execution_count": 296,
   "id": "13a92c82-49d1-4702-80a4-274f0e38594c",
   "metadata": {},
   "outputs": [
    {
     "data": {
      "text/plain": [
       "[10, 20, 30, 40, 50, 60, 70, 80, 90, 100, 110, 120, 130]"
      ]
     },
     "execution_count": 296,
     "metadata": {},
     "output_type": "execute_result"
    }
   ],
   "source": [
    "a"
   ]
  },
  {
   "cell_type": "code",
   "execution_count": 298,
   "id": "014cf85b-af56-4363-b9f7-ffd0513af54b",
   "metadata": {},
   "outputs": [],
   "source": [
    "#26. Borre el último valor.\n",
    "#a.remove(a[-1]) #remove es por valor no por indice.\n",
    "a.remove(130) #remove es por valor no por indice?"
   ]
  },
  {
   "cell_type": "code",
   "execution_count": 300,
   "id": "94f68223-0f7a-4b3c-8b65-6625a55b2a78",
   "metadata": {},
   "outputs": [
    {
     "data": {
      "text/plain": [
       "[10, 20, 30, 40, 50, 60, 70, 80, 90, 100, 110, 120]"
      ]
     },
     "execution_count": 300,
     "metadata": {},
     "output_type": "execute_result"
    }
   ],
   "source": [
    "a"
   ]
  },
  {
   "cell_type": "code",
   "execution_count": 302,
   "id": "337fd941-2539-4ae8-a553-d21e73c93489",
   "metadata": {},
   "outputs": [
    {
     "name": "stdout",
     "output_type": "stream",
     "text": [
      "[20, 30, 40, 50, 60]\n"
     ]
    }
   ],
   "source": [
    "#27. Muestre la posición 1 a 5.\n",
    "print(a[1:6])\n",
    "#len(a)"
   ]
  },
  {
   "cell_type": "code",
   "execution_count": 304,
   "id": "1a663e2b-e144-4c59-8ecc-201290629fa2",
   "metadata": {},
   "outputs": [
    {
     "data": {
      "text/plain": [
       "[10, 20, 30, 40, 50, 60, 70, 80, 90]"
      ]
     },
     "execution_count": 304,
     "metadata": {},
     "output_type": "execute_result"
    }
   ],
   "source": [
    "#28. Borre los últimos 3 valores en una sola línea.\n",
    "for item in range(3):\n",
    "    a.pop(-1)\n",
    "a"
   ]
  },
  {
   "cell_type": "code",
   "execution_count": 280,
   "id": "ccf2b0f3-9259-45d8-89f8-da3a38441c86",
   "metadata": {},
   "outputs": [],
   "source": [
    "del a[:-3:]\n"
   ]
  },
  {
   "cell_type": "code",
   "execution_count": 282,
   "id": "cac7c470-ab31-4399-bfe3-2ffa8bbfd243",
   "metadata": {},
   "outputs": [
    {
     "data": {
      "text/plain": [
       "[70, 80, 90]"
      ]
     },
     "execution_count": 282,
     "metadata": {},
     "output_type": "execute_result"
    }
   ],
   "source": [
    "a\n",
    "#len(a)\n"
   ]
  },
  {
   "cell_type": "code",
   "execution_count": 310,
   "id": "4c2617cf-9912-43bc-8313-9d9e76ed9b87",
   "metadata": {},
   "outputs": [],
   "source": [
    "#29. En una sola linea modifique los primeros tres posiciones para tener 1, 2 y 3 en lugar de 10,20 y 30.'''\n",
    "a[0:3] = [1,2,3]"
   ]
  },
  {
   "cell_type": "code",
   "execution_count": 312,
   "id": "6423bb3f-e350-4317-905a-31c5021a865a",
   "metadata": {},
   "outputs": [
    {
     "data": {
      "text/plain": [
       "[1, 2, 3, 40, 50, 60, 70, 80, 90]"
      ]
     },
     "execution_count": 312,
     "metadata": {},
     "output_type": "execute_result"
    }
   ],
   "source": [
    "a"
   ]
  },
  {
   "cell_type": "code",
   "execution_count": 314,
   "id": "ac3cae91-cc36-41a7-bbe4-ffdc769ab7ca",
   "metadata": {},
   "outputs": [],
   "source": [
    "#30¿Qué pasa si hacemos a[:] = [] ? VACÍA TODA LA LISTA\n",
    "a[:] = [] \n",
    "\n"
   ]
  },
  {
   "cell_type": "code",
   "execution_count": 316,
   "id": "65b0d891-1573-4a7f-8625-e279d9fb8225",
   "metadata": {},
   "outputs": [
    {
     "data": {
      "text/plain": [
       "[]"
      ]
     },
     "execution_count": 316,
     "metadata": {},
     "output_type": "execute_result"
    }
   ],
   "source": [
    "a"
   ]
  },
  {
   "cell_type": "code",
   "execution_count": 318,
   "id": "db946d7f-4177-4e70-b16b-0814511bf37b",
   "metadata": {},
   "outputs": [],
   "source": [
    "#31 a =[1, 2,3] ¿Cuál es el resultado de hacer a=a*3?\n",
    "a =[1, 2,3]"
   ]
  },
  {
   "cell_type": "code",
   "execution_count": 320,
   "id": "8586ae22-bb03-44fe-b4c4-e26196ff5495",
   "metadata": {},
   "outputs": [],
   "source": [
    "a=a*3"
   ]
  },
  {
   "cell_type": "code",
   "execution_count": 322,
   "id": "998573b4-13ae-4b54-959d-80988aad6d86",
   "metadata": {},
   "outputs": [
    {
     "data": {
      "text/plain": [
       "[1, 2, 3, 1, 2, 3, 1, 2, 3]"
      ]
     },
     "execution_count": 322,
     "metadata": {},
     "output_type": "execute_result"
    }
   ],
   "source": [
    "a"
   ]
  },
  {
   "cell_type": "code",
   "execution_count": 356,
   "id": "20530d37-8bda-482e-b70a-9f784fd233a0",
   "metadata": {},
   "outputs": [],
   "source": [
    "#32 a =[1, 2,3,4,5] ¿Cuál es el resultado de hacer a[::-1]?\n",
    "a =[1, 2,3,4,5]"
   ]
  },
  {
   "cell_type": "code",
   "execution_count": 358,
   "id": "1a4e5522-0e6a-4580-8256-f575806f06e5",
   "metadata": {},
   "outputs": [
    {
     "data": {
      "text/plain": [
       "[5, 4, 3, 2, 1]"
      ]
     },
     "execution_count": 358,
     "metadata": {},
     "output_type": "execute_result"
    }
   ],
   "source": [
    " a[::-1]"
   ]
  },
  {
   "cell_type": "code",
   "execution_count": 14,
   "id": "a5f4410f-e6f8-46de-b749-f89ba33d7e1f",
   "metadata": {
    "tags": []
   },
   "outputs": [
    {
     "name": "stdout",
     "output_type": "stream",
     "text": [
      "<list_reverseiterator object at 0x0000024A7C76BB80>\n"
     ]
    }
   ],
   "source": [
    "print(reversed(a))\n"
   ]
  },
  {
   "cell_type": "code",
   "execution_count": 362,
   "id": "068689b2-5a9e-4b36-8224-7125a7fb5c9f",
   "metadata": {},
   "outputs": [
    {
     "data": {
      "text/plain": [
       "[5, 3, 1]"
      ]
     },
     "execution_count": 362,
     "metadata": {},
     "output_type": "execute_result"
    }
   ],
   "source": [
    "#33 Cómo obtenemos [5,3,1]?\n",
    "a[ ::-2]"
   ]
  },
  {
   "cell_type": "code",
   "execution_count": 4,
   "id": "6c6fa813-c11d-43e0-b5e2-69871fd015b0",
   "metadata": {},
   "outputs": [],
   "source": [
    "#34. Si tenemos a = [10,20,[30,40,50],60]. ¿Qué retorna a[2][1]?\n",
    "a = [10,20,[30,40,50],60]"
   ]
  },
  {
   "cell_type": "code",
   "execution_count": 10,
   "id": "f4652941-e25b-4962-85d7-78412612597e",
   "metadata": {},
   "outputs": [
    {
     "data": {
      "text/plain": [
       "[10, 20, [30, 40, 50], 60]"
      ]
     },
     "execution_count": 10,
     "metadata": {},
     "output_type": "execute_result"
    }
   ],
   "source": [
    "a"
   ]
  },
  {
   "cell_type": "code",
   "execution_count": 75,
   "id": "0aa86d3d-c3d2-4507-af24-8624748d6bc4",
   "metadata": {},
   "outputs": [
    {
     "data": {
      "text/plain": [
       "40"
      ]
     },
     "execution_count": 75,
     "metadata": {},
     "output_type": "execute_result"
    }
   ],
   "source": [
    "a[2][1]"
   ]
  },
  {
   "cell_type": "code",
   "execution_count": 410,
   "id": "20e35a60-e02e-4e52-9cab-56dc2577f038",
   "metadata": {},
   "outputs": [],
   "source": [
    "#35. Si tenemos la lista a=[1,2,3] ¿Qué hacen los siguientes métodos?\n",
    "a=[1,2,3]"
   ]
  },
  {
   "cell_type": "code",
   "execution_count": 412,
   "id": "4538aabc-0ba1-45fc-89e1-33ed47a3082b",
   "metadata": {},
   "outputs": [
    {
     "data": {
      "text/plain": [
       "1"
      ]
     },
     "execution_count": 412,
     "metadata": {},
     "output_type": "execute_result"
    }
   ],
   "source": [
    "a.count(2)"
   ]
  },
  {
   "cell_type": "code",
   "execution_count": 414,
   "id": "254807d0-2416-4038-96bf-bdeb6bc1f3a1",
   "metadata": {},
   "outputs": [],
   "source": [
    "a.append(4)"
   ]
  },
  {
   "cell_type": "code",
   "execution_count": 416,
   "id": "09817e4a-733b-4601-89a8-717e0800eb22",
   "metadata": {},
   "outputs": [
    {
     "data": {
      "text/plain": [
       "[1, 2, 3, 4]"
      ]
     },
     "execution_count": 416,
     "metadata": {},
     "output_type": "execute_result"
    }
   ],
   "source": [
    "a"
   ]
  },
  {
   "cell_type": "code",
   "execution_count": 418,
   "id": "9ed21433-b626-4c68-beca-01f53730cbe6",
   "metadata": {},
   "outputs": [],
   "source": [
    "a.append([5,6])# añade un elemento al final de la lista como un solo elemento, sin importar su tipo."
   ]
  },
  {
   "cell_type": "code",
   "execution_count": 420,
   "id": "c7256c01-3d39-4069-9f24-9d5e57a7f122",
   "metadata": {},
   "outputs": [
    {
     "data": {
      "text/plain": [
       "[1, 2, 3, 4, [5, 6]]"
      ]
     },
     "execution_count": 420,
     "metadata": {},
     "output_type": "execute_result"
    }
   ],
   "source": [
    "a"
   ]
  },
  {
   "cell_type": "code",
   "execution_count": 422,
   "id": "2e466267-2040-4eed-a59a-63ebee78686f",
   "metadata": {},
   "outputs": [],
   "source": [
    "a.extend([7,8,9])# añade cada elemento de un iterable al final de la lista, extendiéndola con múltiples elementos."
   ]
  },
  {
   "cell_type": "code",
   "execution_count": 424,
   "id": "db75337d-3d28-4cef-8159-27ab647d9d6d",
   "metadata": {},
   "outputs": [
    {
     "data": {
      "text/plain": [
       "[1, 2, 3, 4, [5, 6], 7, 8, 9]"
      ]
     },
     "execution_count": 424,
     "metadata": {},
     "output_type": "execute_result"
    }
   ],
   "source": [
    "a"
   ]
  },
  {
   "cell_type": "code",
   "execution_count": 426,
   "id": "f79f1470-77fe-421d-bed8-ffae4619bec0",
   "metadata": {},
   "outputs": [
    {
     "data": {
      "text/plain": [
       "9"
      ]
     },
     "execution_count": 426,
     "metadata": {},
     "output_type": "execute_result"
    }
   ],
   "source": [
    "a.pop()"
   ]
  },
  {
   "cell_type": "code",
   "execution_count": 428,
   "id": "edc764bd-bb1c-44af-9d23-15aa46ad53dd",
   "metadata": {},
   "outputs": [
    {
     "data": {
      "text/plain": [
       "[1, 2, 3, 4, [5, 6], 7, 8]"
      ]
     },
     "execution_count": 428,
     "metadata": {},
     "output_type": "execute_result"
    }
   ],
   "source": [
    "a"
   ]
  },
  {
   "cell_type": "code",
   "execution_count": 430,
   "id": "82b97f17-72cc-49b7-8a73-676677d7da77",
   "metadata": {},
   "outputs": [
    {
     "data": {
      "text/plain": [
       "3"
      ]
     },
     "execution_count": 430,
     "metadata": {},
     "output_type": "execute_result"
    }
   ],
   "source": [
    "a.pop(2)"
   ]
  },
  {
   "cell_type": "code",
   "execution_count": 432,
   "id": "07907f07-c7c7-4461-9f41-e3c37741a489",
   "metadata": {},
   "outputs": [
    {
     "data": {
      "text/plain": [
       "[1, 2, 4, [5, 6], 7, 8]"
      ]
     },
     "execution_count": 432,
     "metadata": {},
     "output_type": "execute_result"
    }
   ],
   "source": [
    "a"
   ]
  },
  {
   "cell_type": "code",
   "execution_count": 434,
   "id": "d3088d5a-ff6e-4d86-83e4-513736fb8607",
   "metadata": {},
   "outputs": [
    {
     "ename": "ValueError",
     "evalue": "list.remove(x): x not in list",
     "output_type": "error",
     "traceback": [
      "\u001b[1;31m---------------------------------------------------------------------------\u001b[0m",
      "\u001b[1;31mValueError\u001b[0m                                Traceback (most recent call last)",
      "Cell \u001b[1;32mIn[434], line 1\u001b[0m\n\u001b[1;32m----> 1\u001b[0m a\u001b[38;5;241m.\u001b[39mremove(\u001b[38;5;241m20\u001b[39m)\n",
      "\u001b[1;31mValueError\u001b[0m: list.remove(x): x not in list"
     ]
    }
   ],
   "source": [
    "a.remove(20)"
   ]
  },
  {
   "cell_type": "code",
   "execution_count": 436,
   "id": "55f93325-1b08-4bf1-8e7b-0f44950c6a0a",
   "metadata": {},
   "outputs": [],
   "source": [
    "a.insert(1,20)"
   ]
  },
  {
   "cell_type": "code",
   "execution_count": 438,
   "id": "584ffb9d-6497-46d4-973c-2b870bc44f19",
   "metadata": {},
   "outputs": [
    {
     "data": {
      "text/plain": [
       "[1, 20, 2, 4, [5, 6], 7, 8]"
      ]
     },
     "execution_count": 438,
     "metadata": {},
     "output_type": "execute_result"
    }
   ],
   "source": [
    "a"
   ]
  },
  {
   "cell_type": "code",
   "execution_count": 440,
   "id": "adb382ff-caef-41eb-beb9-19548ad2b524",
   "metadata": {},
   "outputs": [],
   "source": [
    "a.reverse()"
   ]
  },
  {
   "cell_type": "code",
   "execution_count": 442,
   "id": "f2e704bf-b6c9-40eb-a19d-da5f09de8a28",
   "metadata": {},
   "outputs": [
    {
     "data": {
      "text/plain": [
       "[8, 7, [5, 6], 4, 2, 20, 1]"
      ]
     },
     "execution_count": 442,
     "metadata": {},
     "output_type": "execute_result"
    }
   ],
   "source": [
    "a"
   ]
  },
  {
   "cell_type": "code",
   "execution_count": 444,
   "id": "80a3ee0a-a361-4d61-8f0f-66228a715730",
   "metadata": {},
   "outputs": [
    {
     "ename": "TypeError",
     "evalue": "'<' not supported between instances of 'list' and 'int'",
     "output_type": "error",
     "traceback": [
      "\u001b[1;31m---------------------------------------------------------------------------\u001b[0m",
      "\u001b[1;31mTypeError\u001b[0m                                 Traceback (most recent call last)",
      "Cell \u001b[1;32mIn[444], line 1\u001b[0m\n\u001b[1;32m----> 1\u001b[0m a\u001b[38;5;241m.\u001b[39msort()\n",
      "\u001b[1;31mTypeError\u001b[0m: '<' not supported between instances of 'list' and 'int'"
     ]
    }
   ],
   "source": [
    "a.sort()\n",
    "'''El método sort() funciona correctamente solo cuando todos los elementos de la lista son comparables entre sí,\n",
    "como sería el caso de una lista que contenga exclusivamente números enteros, cadenas de texto, u otros datos que tengan una relación de orden definida.'''"
   ]
  },
  {
   "cell_type": "code",
   "execution_count": 458,
   "id": "77fa2b8c-a528-440b-8cd9-24e603a5b3a6",
   "metadata": {},
   "outputs": [
    {
     "ename": "AttributeError",
     "evalue": "'tuple' object has no attribute 'sort'",
     "output_type": "error",
     "traceback": [
      "\u001b[1;31m---------------------------------------------------------------------------\u001b[0m",
      "\u001b[1;31mAttributeError\u001b[0m                            Traceback (most recent call last)",
      "Cell \u001b[1;32mIn[458], line 1\u001b[0m\n\u001b[1;32m----> 1\u001b[0m a\u001b[38;5;241m.\u001b[39msort(reverse\u001b[38;5;241m=\u001b[39m\u001b[38;5;28;01mTrue\u001b[39;00m)\n",
      "\u001b[1;31mAttributeError\u001b[0m: 'tuple' object has no attribute 'sort'"
     ]
    }
   ],
   "source": [
    "a.sort(reverse=True)"
   ]
  },
  {
   "cell_type": "code",
   "execution_count": 460,
   "id": "b60d5aad-9912-470d-83b9-2c8fd61dd18a",
   "metadata": {},
   "outputs": [],
   "source": [
    "#36. Si tenemos la tupla a=(10,20,30,40,50). ¿Que retorna lo siguiente?\n",
    "a=(100,20,50,4,30)"
   ]
  },
  {
   "cell_type": "code",
   "execution_count": 462,
   "id": "4a27f1fd-22b8-4142-9dc3-3d21446516f9",
   "metadata": {},
   "outputs": [
    {
     "data": {
      "text/plain": [
       "5"
      ]
     },
     "execution_count": 462,
     "metadata": {},
     "output_type": "execute_result"
    }
   ],
   "source": [
    "len(a)"
   ]
  },
  {
   "cell_type": "code",
   "execution_count": 464,
   "id": "e1608037-0ed8-49d9-9b17-52b9d9413df5",
   "metadata": {},
   "outputs": [
    {
     "data": {
      "text/plain": [
       "4"
      ]
     },
     "execution_count": 464,
     "metadata": {},
     "output_type": "execute_result"
    }
   ],
   "source": [
    "min(a)"
   ]
  },
  {
   "cell_type": "code",
   "execution_count": 466,
   "id": "0e826521-5715-4985-b6bd-fac9ca0c0127",
   "metadata": {},
   "outputs": [
    {
     "data": {
      "text/plain": [
       "100"
      ]
     },
     "execution_count": 466,
     "metadata": {},
     "output_type": "execute_result"
    }
   ],
   "source": [
    "max(a)"
   ]
  },
  {
   "cell_type": "code",
   "execution_count": 468,
   "id": "974716ad-e5c1-4dde-ac7c-c35d0f46d301",
   "metadata": {},
   "outputs": [
    {
     "data": {
      "text/plain": [
       "1"
      ]
     },
     "execution_count": 468,
     "metadata": {},
     "output_type": "execute_result"
    }
   ],
   "source": [
    "a.count(50)"
   ]
  },
  {
   "cell_type": "code",
   "execution_count": 470,
   "id": "28c7c271-63a1-48c2-bea4-71d946f93046",
   "metadata": {},
   "outputs": [
    {
     "data": {
      "text/plain": [
       "2"
      ]
     },
     "execution_count": 470,
     "metadata": {},
     "output_type": "execute_result"
    }
   ],
   "source": [
    "a.index(50)"
   ]
  },
  {
   "cell_type": "code",
   "execution_count": 472,
   "id": "da7587e7-bc86-4098-a575-7dadc4c563ae",
   "metadata": {},
   "outputs": [],
   "source": [
    "#37. Si tenemos a=(10,20,30,40,50); b = (60, 70) ¿Qué retorna a+b y a*2?\n",
    "a=(10,20,30,40,50); b = (60, 70)"
   ]
  },
  {
   "cell_type": "code",
   "execution_count": 474,
   "id": "79e99197-9eb1-4648-a233-0458347a84b8",
   "metadata": {},
   "outputs": [
    {
     "data": {
      "text/plain": [
       "(10, 20, 30, 40, 50)"
      ]
     },
     "execution_count": 474,
     "metadata": {},
     "output_type": "execute_result"
    }
   ],
   "source": [
    "a"
   ]
  },
  {
   "cell_type": "code",
   "execution_count": 476,
   "id": "754b8af4-c3e5-4266-ba3e-c1de6e6497cb",
   "metadata": {},
   "outputs": [
    {
     "data": {
      "text/plain": [
       "(60, 70)"
      ]
     },
     "execution_count": 476,
     "metadata": {},
     "output_type": "execute_result"
    }
   ],
   "source": [
    "b"
   ]
  },
  {
   "cell_type": "code",
   "execution_count": 478,
   "id": "bf186355-d1df-426e-99e3-dc7c109854e0",
   "metadata": {},
   "outputs": [
    {
     "data": {
      "text/plain": [
       "(10, 20, 30, 40, 50, 60, 70)"
      ]
     },
     "execution_count": 478,
     "metadata": {},
     "output_type": "execute_result"
    }
   ],
   "source": [
    "a+b"
   ]
  },
  {
   "cell_type": "code",
   "execution_count": 482,
   "id": "6414ba8d-bb13-4e8b-8c11-af9b94eebbcf",
   "metadata": {},
   "outputs": [
    {
     "data": {
      "text/plain": [
       "(10, 20, 30, 40, 50, 10, 20, 30, 40, 50)"
      ]
     },
     "execution_count": 482,
     "metadata": {},
     "output_type": "execute_result"
    }
   ],
   "source": [
    "a*2"
   ]
  },
  {
   "cell_type": "markdown",
   "id": "82255423-dd09-476e-bf38-15b77ebfbcd2",
   "metadata": {},
   "source": [
    "<H2> DICCIONARIOS  06-03  </H2>"
   ]
  },
  {
   "cell_type": "code",
   "execution_count": 147,
   "id": "7794c474-381f-4486-824a-a58f03215425",
   "metadata": {},
   "outputs": [],
   "source": [
    "#38¿Cómo se genera un diccionario? con corchetes {} \n",
    "#¿Es modificable? son estructuras de datos mutables\n"
   ]
  },
  {
   "cell_type": "code",
   "execution_count": 581,
   "id": "30061954-69b4-4d30-9918-f2682e2b340e",
   "metadata": {},
   "outputs": [],
   "source": [
    "#39. Aunque los diccionarios se suelen crear con los {}, también es posible crear un diccionario usando la clase dict. Verifique que a y b contiene lo mismo:\n",
    "a = {'joe' : 85 , 'peter' : 88 , 'jack' : 90}\n",
    "b = dict (joe = 90 , peter = 85 , jack = 88)"
   ]
  },
  {
   "cell_type": "code",
   "execution_count": 583,
   "id": "b1af04f4-106d-48a0-8f60-43f355b38ea8",
   "metadata": {},
   "outputs": [
    {
     "data": {
      "text/plain": [
       "{'joe': 85, 'peter': 88, 'jack': 90}"
      ]
     },
     "execution_count": 583,
     "metadata": {},
     "output_type": "execute_result"
    }
   ],
   "source": [
    "a"
   ]
  },
  {
   "cell_type": "code",
   "execution_count": 585,
   "id": "f90f2454-3c8e-4242-b032-4685a4614e65",
   "metadata": {},
   "outputs": [
    {
     "data": {
      "text/plain": [
       "{'joe': 90, 'peter': 85, 'jack': 88}"
      ]
     },
     "execution_count": 585,
     "metadata": {},
     "output_type": "execute_result"
    }
   ],
   "source": [
    "b"
   ]
  },
  {
   "cell_type": "code",
   "execution_count": 587,
   "id": "9cc0583a-3502-4fd1-a142-2850efa5287a",
   "metadata": {},
   "outputs": [
    {
     "name": "stdout",
     "output_type": "stream",
     "text": [
      "Los datos de b son un diccionario\n"
     ]
    }
   ],
   "source": [
    "if type(b) == dict:\n",
    "    print(\"Los datos de b son un diccionario\")"
   ]
  },
  {
   "cell_type": "code",
   "execution_count": 589,
   "id": "1aa7523a-f701-4b70-8c0c-6f8fba3fcac4",
   "metadata": {},
   "outputs": [
    {
     "name": "stdout",
     "output_type": "stream",
     "text": [
      "son iguales en tipo de estructura\n"
     ]
    }
   ],
   "source": [
    "if type(a)== type(b):\n",
    "    print(\"son iguales en tipo de estructura\")\n",
    "else:\n",
    "    print(\"no son iguales en tipo de estructura\")"
   ]
  },
  {
   "cell_type": "code",
   "execution_count": 591,
   "id": "88e78350-65ee-4b1d-94c5-a81204359b77",
   "metadata": {},
   "outputs": [
    {
     "name": "stdout",
     "output_type": "stream",
     "text": [
      "Los diccionarios a y b no contienen las mismas claves y valores.\n"
     ]
    }
   ],
   "source": [
    "if a == b:\n",
    "    print(\"Los diccionarios a y b contienen las mismas claves y valores.\")\n",
    "else:\n",
    "    print(\"Los diccionarios a y b no contienen las mismas claves y valores.\")"
   ]
  },
  {
   "cell_type": "code",
   "execution_count": 593,
   "id": "7068ef2e-2729-4297-abc7-e1e045f04cd4",
   "metadata": {},
   "outputs": [
    {
     "data": {
      "text/plain": [
       "3"
      ]
     },
     "execution_count": 593,
     "metadata": {},
     "output_type": "execute_result"
    }
   ],
   "source": [
    "#40. ¿Qué retorna len(a)?\n",
    "len(a)"
   ]
  },
  {
   "cell_type": "code",
   "execution_count": 595,
   "id": "7643bfe3-c4aa-4082-b61f-9e2d618bb0ad",
   "metadata": {},
   "outputs": [],
   "source": [
    "#41. ¿Cómo agregamos un valor? ¿Y cómo lo borramos?\n",
    "a.update({\"Mile\":39})"
   ]
  },
  {
   "cell_type": "code",
   "execution_count": 597,
   "id": "76253968-e066-4401-924e-454c946c3326",
   "metadata": {},
   "outputs": [
    {
     "data": {
      "text/plain": [
       "{'joe': 85, 'peter': 88, 'jack': 90, 'Mile': 39}"
      ]
     },
     "execution_count": 597,
     "metadata": {},
     "output_type": "execute_result"
    }
   ],
   "source": [
    "a"
   ]
  },
  {
   "cell_type": "code",
   "execution_count": 599,
   "id": "3d217f52-9d3a-4566-9d3d-549186ea07b6",
   "metadata": {},
   "outputs": [
    {
     "data": {
      "text/plain": [
       "dict_keys(['joe', 'peter', 'jack', 'Mile'])"
      ]
     },
     "execution_count": 599,
     "metadata": {},
     "output_type": "execute_result"
    }
   ],
   "source": [
    "a.keys()"
   ]
  },
  {
   "cell_type": "code",
   "execution_count": 601,
   "id": "f9f23662-b1c2-41c3-b8aa-498b4599d24c",
   "metadata": {},
   "outputs": [
    {
     "data": {
      "text/plain": [
       "dict_values([85, 88, 90, 39])"
      ]
     },
     "execution_count": 601,
     "metadata": {},
     "output_type": "execute_result"
    }
   ],
   "source": [
    "a.values()"
   ]
  },
  {
   "cell_type": "code",
   "execution_count": 603,
   "id": "535167b5-f0e9-4270-8d92-ba78db14f672",
   "metadata": {},
   "outputs": [],
   "source": [
    "a.update({\"Tey\":49})"
   ]
  },
  {
   "cell_type": "code",
   "execution_count": 605,
   "id": "27f62dea-bd2f-40d2-9650-9017b3ae4482",
   "metadata": {},
   "outputs": [],
   "source": [
    "a.update({\"Juan\":29})"
   ]
  },
  {
   "cell_type": "code",
   "execution_count": 607,
   "id": "c274a2b2-c58c-46d5-a755-74873ca6b77f",
   "metadata": {},
   "outputs": [
    {
     "data": {
      "text/plain": [
       "{'joe': 85, 'peter': 88, 'jack': 90, 'Mile': 39, 'Tey': 49, 'Juan': 29}"
      ]
     },
     "execution_count": 607,
     "metadata": {},
     "output_type": "execute_result"
    }
   ],
   "source": [
    "a"
   ]
  },
  {
   "cell_type": "code",
   "execution_count": 609,
   "id": "7179d0a1-9ea2-42be-b398-57dc27ae8aba",
   "metadata": {},
   "outputs": [],
   "source": [
    "#¿Y cómo lo borramos?\n",
    "del a['jack']"
   ]
  },
  {
   "cell_type": "code",
   "execution_count": 611,
   "id": "e8307086-7aeb-4251-9a7c-0da189bc1141",
   "metadata": {},
   "outputs": [
    {
     "data": {
      "text/plain": [
       "{'joe': 85, 'peter': 88, 'Mile': 39, 'Tey': 49, 'Juan': 29}"
      ]
     },
     "execution_count": 611,
     "metadata": {},
     "output_type": "execute_result"
    }
   ],
   "source": [
    "a"
   ]
  },
  {
   "cell_type": "code",
   "execution_count": 613,
   "id": "cfd42649-edf1-49f2-aee8-eccbb61da072",
   "metadata": {},
   "outputs": [],
   "source": [
    "devuelve_valor_Borrado= a.pop('joe')"
   ]
  },
  {
   "cell_type": "code",
   "execution_count": 615,
   "id": "9b46831d-3738-4091-958b-db48e42ffa89",
   "metadata": {},
   "outputs": [
    {
     "name": "stdout",
     "output_type": "stream",
     "text": [
      "85\n"
     ]
    }
   ],
   "source": [
    "print(devuelve_valor_Borrado)"
   ]
  },
  {
   "cell_type": "code",
   "execution_count": 617,
   "id": "6477796a-ce2e-4d3d-a90b-ae387a0d4ce8",
   "metadata": {
    "tags": []
   },
   "outputs": [],
   "source": [
    "eliminar_ultimo_elemento_insertado = a.popitem()"
   ]
  },
  {
   "cell_type": "code",
   "execution_count": 619,
   "id": "ce5f517a-3b1a-48fd-84e1-10925dbfbf4d",
   "metadata": {
    "tags": []
   },
   "outputs": [
    {
     "name": "stdout",
     "output_type": "stream",
     "text": [
      "('Juan', 29)\n"
     ]
    }
   ],
   "source": [
    "print(eliminar_ultimo_elemento_insertado)"
   ]
  },
  {
   "cell_type": "code",
   "execution_count": 623,
   "id": "5444ca30-2390-4750-aaf8-63672011fbac",
   "metadata": {},
   "outputs": [
    {
     "name": "stdout",
     "output_type": "stream",
     "text": [
      "La clave 'peter' está presente en el diccionario 'a'.\n",
      "La clave 'Carlos' no está presente en el diccionario 'a'.\n"
     ]
    }
   ],
   "source": [
    "'''42. Verifique que es posible determinar si una clave está presente o no en un diccionario usando\n",
    "in // not in. Ejemplos: 'peter' in a  'Carlos' not in a'''\n",
    "\n",
    "# Verifica si la clave 'peter' está presente en el diccionario 'a'\n",
    "if 'peter' in a:\n",
    "    print(\"La clave 'peter' está presente en el diccionario 'a'.\")\n",
    "else:\n",
    "    print(\"La clave 'peter' no está presente en el diccionario 'a'.\")\n",
    "\n",
    "# Verifica si la clave 'Carlos' no está presente en el diccionario 'a'\n",
    "if 'Carlos' not in a:\n",
    "    print(\"La clave 'Carlos' no está presente en el diccionario 'a'.\")\n",
    "else:\n",
    "    print(\"La clave 'Carlos' está presente en el diccionario 'a'.\")\n"
   ]
  },
  {
   "cell_type": "code",
   "execution_count": 625,
   "id": "11cb8f1a-e22a-4593-b39c-592f3e3d77ff",
   "metadata": {},
   "outputs": [],
   "source": [
    "#43. Si tenemos a = {'Carlos' : 85 , 'Pablo' : 88 , 'Daniel' : 90} ¿Qué retornan los siguientes métodos:?\n",
    "a = {'Carlos' : 85 , 'Pablo' : 88 , 'Daniel' : 90} "
   ]
  },
  {
   "cell_type": "code",
   "execution_count": 627,
   "id": "d84542aa-98e4-403b-8440-a18b792a4a57",
   "metadata": {},
   "outputs": [
    {
     "data": {
      "text/plain": [
       "{'Carlos': 85, 'Pablo': 88, 'Daniel': 90}"
      ]
     },
     "execution_count": 627,
     "metadata": {},
     "output_type": "execute_result"
    }
   ],
   "source": [
    "a"
   ]
  },
  {
   "cell_type": "code",
   "execution_count": 629,
   "id": "b4735e02-d36b-4e85-9bd4-d82f8f479e2f",
   "metadata": {},
   "outputs": [
    {
     "data": {
      "text/plain": [
       "85"
      ]
     },
     "execution_count": 629,
     "metadata": {},
     "output_type": "execute_result"
    }
   ],
   "source": [
    "#get Devuelve el valor de la clave especificada+\n",
    "a.get('Carlos', 0)"
   ]
  },
  {
   "cell_type": "code",
   "execution_count": 631,
   "id": "399e3679-327a-4fba-a926-d4c5f047e0c7",
   "metadata": {},
   "outputs": [
    {
     "data": {
      "text/plain": [
       "0"
      ]
     },
     "execution_count": 631,
     "metadata": {},
     "output_type": "execute_result"
    }
   ],
   "source": [
    "a.get('Pepe', 0)"
   ]
  },
  {
   "cell_type": "code",
   "execution_count": 633,
   "id": "93d83ade-c8ac-4494-acb2-3148ac23d588",
   "metadata": {},
   "outputs": [
    {
     "data": {
      "text/plain": [
       "dict_keys(['Carlos', 'Pablo', 'Daniel'])"
      ]
     },
     "execution_count": 633,
     "metadata": {},
     "output_type": "execute_result"
    }
   ],
   "source": [
    "a.keys()"
   ]
  },
  {
   "cell_type": "code",
   "execution_count": 635,
   "id": "600c848b-dc71-42cd-abe7-91655649b569",
   "metadata": {},
   "outputs": [
    {
     "data": {
      "text/plain": [
       "dict_values([85, 88, 90])"
      ]
     },
     "execution_count": 635,
     "metadata": {},
     "output_type": "execute_result"
    }
   ],
   "source": [
    "a.values()"
   ]
  },
  {
   "cell_type": "code",
   "execution_count": 637,
   "id": "43bd8682-ab45-4bde-b86e-c407418c18e4",
   "metadata": {},
   "outputs": [
    {
     "data": {
      "text/plain": [
       "[85, 88, 90]"
      ]
     },
     "execution_count": 637,
     "metadata": {},
     "output_type": "execute_result"
    }
   ],
   "source": [
    "list(a.values())\n"
   ]
  },
  {
   "cell_type": "code",
   "execution_count": 639,
   "id": "4e2e7d7c-5d62-4dfd-aa55-9732185acca9",
   "metadata": {},
   "outputs": [
    {
     "data": {
      "text/plain": [
       "dict_items([('Carlos', 85), ('Pablo', 88), ('Daniel', 90)])"
      ]
     },
     "execution_count": 639,
     "metadata": {},
     "output_type": "execute_result"
    }
   ],
   "source": [
    "a.items()"
   ]
  },
  {
   "cell_type": "code",
   "execution_count": 649,
   "id": "ff23a42d-d4ff-4c70-b83c-0e743ee2e762",
   "metadata": {},
   "outputs": [],
   "source": [
    "#44. Teniendo notas = {'Carlos': [80,85,90], 'Pablo' : [85,90,95]} ¿Que retorna notas['Pablo'][0]?\n",
    "notas = {'Carlos': [80,85,90], 'Pablo' : [85,90,95]}"
   ]
  },
  {
   "cell_type": "code",
   "execution_count": 651,
   "id": "9d60f8ad-0a11-4fac-8247-293e28e2777c",
   "metadata": {},
   "outputs": [
    {
     "data": {
      "text/plain": [
       "{'Carlos': [80, 85, 90], 'Pablo': [85, 90, 95]}"
      ]
     },
     "execution_count": 651,
     "metadata": {},
     "output_type": "execute_result"
    }
   ],
   "source": [
    "notas"
   ]
  },
  {
   "cell_type": "code",
   "execution_count": 653,
   "id": "358f2a56-6e05-4bbe-b2d4-e087c61ac667",
   "metadata": {},
   "outputs": [
    {
     "data": {
      "text/plain": [
       "85"
      ]
     },
     "execution_count": 653,
     "metadata": {},
     "output_type": "execute_result"
    }
   ],
   "source": [
    "notas['Pablo'][0]"
   ]
  },
  {
   "cell_type": "markdown",
   "id": "d129515e-b072-4fb2-b394-3493819948a4",
   "metadata": {},
   "source": [
    "<H2> CONJUNTOS  06-03  </H2>"
   ]
  },
  {
   "cell_type": "code",
   "execution_count": 2,
   "id": "5cb1b197-732c-4332-b73c-01524cf5f86b",
   "metadata": {},
   "outputs": [],
   "source": [
    "#45  ¿Cómo se genera un CONJUNTO? \n",
    "'''estamos utilizando la sintaxis de creación de conjunto directamente, donde se enumeran los elementos dentro de llaves {}.'''\n",
    "s = {1, 2, 3, 4}\n"
   ]
  },
  {
   "cell_type": "code",
   "execution_count": 4,
   "id": "1650818e-64fe-410c-81a4-486cd62b8564",
   "metadata": {},
   "outputs": [
    {
     "data": {
      "text/plain": [
       "{1, 2, 3, 4}"
      ]
     },
     "execution_count": 4,
     "metadata": {},
     "output_type": "execute_result"
    }
   ],
   "source": [
    "s"
   ]
  },
  {
   "cell_type": "code",
   "execution_count": 6,
   "id": "df901785-4dc6-402a-a0be-c5e8c412be50",
   "metadata": {},
   "outputs": [],
   "source": [
    "# 46. -  Verifique que es equivalente s = {1, 2, 3, 4} con s = set([1,2,3,4])  ?\n",
    "'''estamos creando primero una lista [1,2,3,4] y luego pasándola como argumento a la función set(), que crea un conjunto a partir de la lista dada.'''\n",
    "s = set([1,2,3,4]) \n",
    "#set es para conjuntos mutables"
   ]
  },
  {
   "cell_type": "code",
   "execution_count": 8,
   "id": "65a78eb8-216b-4ef1-b913-c326532eff78",
   "metadata": {},
   "outputs": [
    {
     "data": {
      "text/plain": [
       "{1, 2, 3, 4}"
      ]
     },
     "execution_count": 8,
     "metadata": {},
     "output_type": "execute_result"
    }
   ],
   "source": [
    "s"
   ]
  },
  {
   "cell_type": "code",
   "execution_count": 10,
   "id": "369c15dc-cdcf-4e8c-80ef-fe6b97913eed",
   "metadata": {},
   "outputs": [],
   "source": [
    "conjunto1 = set([\"a\", \"b\", \"a\"])"
   ]
  },
  {
   "cell_type": "code",
   "execution_count": 12,
   "id": "755ec934-e0f0-4107-9952-87c97ff8d5bd",
   "metadata": {},
   "outputs": [
    {
     "data": {
      "text/plain": [
       "{'a', 'b'}"
      ]
     },
     "execution_count": 12,
     "metadata": {},
     "output_type": "execute_result"
    }
   ],
   "source": [
    "conjunto1 "
   ]
  },
  {
   "cell_type": "code",
   "execution_count": 14,
   "id": "096876f8-65e2-440a-9d28-6747ad05fda1",
   "metadata": {},
   "outputs": [],
   "source": [
    "conjunto2 = set([\"a\", \"b\", \"c\", \"d\"])"
   ]
  },
  {
   "cell_type": "code",
   "execution_count": 16,
   "id": "c6460cd3-8722-43a3-8eea-ad043dff3b46",
   "metadata": {},
   "outputs": [
    {
     "data": {
      "text/plain": [
       "{'a', 'b', 'c', 'd'}"
      ]
     },
     "execution_count": 16,
     "metadata": {},
     "output_type": "execute_result"
    }
   ],
   "source": [
    "conjunto2 "
   ]
  },
  {
   "cell_type": "code",
   "execution_count": 18,
   "id": "e81e0e2f-7535-441f-beaf-fe3c1cff1487",
   "metadata": {},
   "outputs": [],
   "source": [
    "conjunto_inmutable = frozenset([\"a\", \"b\", \"a\"])\n",
    "#frozenset para conjuntos inmutables"
   ]
  },
  {
   "cell_type": "code",
   "execution_count": 20,
   "id": "6d08630a-7fc9-455f-ab3e-bf56d90fc61c",
   "metadata": {},
   "outputs": [
    {
     "data": {
      "text/plain": [
       "frozenset({'a', 'b'})"
      ]
     },
     "execution_count": 20,
     "metadata": {},
     "output_type": "execute_result"
    }
   ],
   "source": [
    "conjunto_inmutable"
   ]
  },
  {
   "cell_type": "code",
   "execution_count": 22,
   "id": "c4715aa6-a20b-4721-95d2-de4c07a41bd7",
   "metadata": {},
   "outputs": [],
   "source": [
    "#47 Verifique que al igual que otras colecciones en python, en los conjuntos sus elementos\n",
    "# pueden ser de diversos tipos:\n",
    "s = {True, 3.14, None, False, \"Hola mundo\", (1, 2)}"
   ]
  },
  {
   "cell_type": "code",
   "execution_count": 24,
   "id": "917eb764-6507-4353-b432-5bd524c118a2",
   "metadata": {},
   "outputs": [
    {
     "data": {
      "text/plain": [
       "{(1, 2), 3.14, False, 'Hola mundo', None, True}"
      ]
     },
     "execution_count": 24,
     "metadata": {},
     "output_type": "execute_result"
    }
   ],
   "source": [
    "s"
   ]
  },
  {
   "cell_type": "code",
   "execution_count": 26,
   "id": "005226b9-60e2-4416-8eaf-93ca767e2f5b",
   "metadata": {},
   "outputs": [
    {
     "ename": "TypeError",
     "evalue": "unhashable type: 'list'",
     "output_type": "error",
     "traceback": [
      "\u001b[1;31m---------------------------------------------------------------------------\u001b[0m",
      "\u001b[1;31mTypeError\u001b[0m                                 Traceback (most recent call last)",
      "Cell \u001b[1;32mIn[26], line 3\u001b[0m\n\u001b[0;32m      1\u001b[0m \u001b[38;5;124;03m'''48 - Verifique que un conjunto no puede incluir objetos mutables como listas, diccionarios, e\u001b[39;00m\n\u001b[0;32m      2\u001b[0m \u001b[38;5;124;03mincluso otros conjuntos.'''\u001b[39;00m\n\u001b[1;32m----> 3\u001b[0m s \u001b[38;5;241m=\u001b[39m {[\u001b[38;5;241m1\u001b[39m, \u001b[38;5;241m2\u001b[39m]}\n",
      "\u001b[1;31mTypeError\u001b[0m: unhashable type: 'list'"
     ]
    }
   ],
   "source": [
    "'''48 - Verifique que un conjunto no puede incluir objetos mutables como listas, diccionarios, e\n",
    "incluso otros conjuntos.'''\n",
    "s = {[1, 2]}"
   ]
  },
  {
   "cell_type": "code",
   "execution_count": 28,
   "id": "5c00eeec-afb3-42ca-9215-314d3d2174bf",
   "metadata": {},
   "outputs": [
    {
     "data": {
      "text/plain": [
       "[1, 2, 3, 4]"
      ]
     },
     "execution_count": 28,
     "metadata": {},
     "output_type": "execute_result"
    }
   ],
   "source": [
    "''' 49 - Un set puede ser convertido a una lista y viceversa. En este último caso, los elementos\n",
    "duplicados son unificados. Pruebe con el siguiente ejemplo:'''\n",
    "list({1, 2, 3, 4})\n"
   ]
  },
  {
   "cell_type": "code",
   "execution_count": 46,
   "id": "79da2c0a-b62e-4dc4-9775-8eac234e0873",
   "metadata": {},
   "outputs": [
    {
     "data": {
      "text/plain": [
       "{1, 2, 3, 4}"
      ]
     },
     "execution_count": 46,
     "metadata": {},
     "output_type": "execute_result"
    }
   ],
   "source": [
    "set([1, 2, 2, 3, 4])"
   ]
  },
  {
   "cell_type": "code",
   "execution_count": 32,
   "id": "707096fd-0b67-4f30-81f1-4658780b92a0",
   "metadata": {},
   "outputs": [],
   "source": [
    "''' 50- Los conjuntos son objetos mutables. Vía los métodos add() y discard() podemos\n",
    "añadir y remover un elemento indicándolo como argumento. Verifique que hace:'''\n",
    "s = {1, 2, 3, 4}"
   ]
  },
  {
   "cell_type": "code",
   "execution_count": 34,
   "id": "14ed51b8-3edb-4fc4-a323-abed6c115a8d",
   "metadata": {},
   "outputs": [],
   "source": [
    "s.add(5)"
   ]
  },
  {
   "cell_type": "code",
   "execution_count": 36,
   "id": "723ba1aa-5966-418b-aa5b-5b0b2f457732",
   "metadata": {},
   "outputs": [
    {
     "data": {
      "text/plain": [
       "{1, 2, 3, 4, 5}"
      ]
     },
     "execution_count": 36,
     "metadata": {},
     "output_type": "execute_result"
    }
   ],
   "source": [
    "s"
   ]
  },
  {
   "cell_type": "code",
   "execution_count": 38,
   "id": "9a3b6ca4-2516-43d9-b74c-b541c8292baa",
   "metadata": {},
   "outputs": [],
   "source": [
    "'''El método discard no muestra error si el elemento no está, en cambio remove si'''\n",
    "s.discard(2)"
   ]
  },
  {
   "cell_type": "code",
   "execution_count": 48,
   "id": "41f8e0e8-bb00-4329-bcdf-6a71de7a3c92",
   "metadata": {},
   "outputs": [
    {
     "data": {
      "text/plain": [
       "{1, 3, 4, 5}"
      ]
     },
     "execution_count": 48,
     "metadata": {},
     "output_type": "execute_result"
    }
   ],
   "source": [
    "s\n",
    "3 in s\n",
    "s"
   ]
  },
  {
   "cell_type": "code",
   "execution_count": 50,
   "id": "d3fa5000-5171-4731-9c40-7b1783c03c2c",
   "metadata": {},
   "outputs": [
    {
     "data": {
      "text/plain": [
       "True"
      ]
     },
     "execution_count": 50,
     "metadata": {},
     "output_type": "execute_result"
    }
   ],
   "source": [
    "''' 51 -Para determinar si un elemento pertenece a un conjunto, utilizamos la palabra reservada in o\n",
    "not in. ¿Qué retorna: ?'''\n",
    "2 in {1, 2, 3}"
   ]
  },
  {
   "cell_type": "code",
   "execution_count": 52,
   "id": "68fd1227-b047-4e8d-b9ec-a8cd9d1a32b2",
   "metadata": {},
   "outputs": [
    {
     "data": {
      "text/plain": [
       "False"
      ]
     },
     "execution_count": 52,
     "metadata": {},
     "output_type": "execute_result"
    }
   ],
   "source": [
    "4 in {1, 2, 3}"
   ]
  },
  {
   "cell_type": "code",
   "execution_count": 54,
   "id": "89931c43-b6a4-421d-95b9-307506e6d4ec",
   "metadata": {},
   "outputs": [],
   "source": [
    "'''52 - Genera la unión, la intersección, y la diferencia entre los siguientes conjuntos:'''\n",
    "a = {1, 2, 3, 4} \n",
    "b = {3, 4, 5, 6}"
   ]
  },
  {
   "cell_type": "code",
   "execution_count": 56,
   "id": "ddb6c163-d885-4c2c-a5fe-96036429af5b",
   "metadata": {},
   "outputs": [
    {
     "data": {
      "text/plain": [
       "{1, 2, 3, 4}"
      ]
     },
     "execution_count": 56,
     "metadata": {},
     "output_type": "execute_result"
    }
   ],
   "source": [
    "a"
   ]
  },
  {
   "cell_type": "code",
   "execution_count": 58,
   "id": "9f07a01a-0e45-44c4-9151-591a73b3572f",
   "metadata": {},
   "outputs": [
    {
     "data": {
      "text/plain": [
       "{3, 4, 5, 6}"
      ]
     },
     "execution_count": 58,
     "metadata": {},
     "output_type": "execute_result"
    }
   ],
   "source": [
    "b"
   ]
  },
  {
   "cell_type": "code",
   "execution_count": 239,
   "id": "14026013-fb93-4657-9df9-5b680d91549e",
   "metadata": {},
   "outputs": [],
   "source": [
    "union= a|b"
   ]
  },
  {
   "cell_type": "code",
   "execution_count": 240,
   "id": "84cadbed-b21e-4ffc-9748-e85732657928",
   "metadata": {},
   "outputs": [
    {
     "data": {
      "text/plain": [
       "{1, 2, 3, 4, 5, 6}"
      ]
     },
     "execution_count": 240,
     "metadata": {},
     "output_type": "execute_result"
    }
   ],
   "source": [
    "union"
   ]
  },
  {
   "cell_type": "code",
   "execution_count": 241,
   "id": "bf3c7312-4013-41a9-86c8-60b316521d49",
   "metadata": {},
   "outputs": [],
   "source": [
    "interseccion =a&b"
   ]
  },
  {
   "cell_type": "code",
   "execution_count": 242,
   "id": "29a5aa4b-fe4b-4fbb-b814-3439244d9a7e",
   "metadata": {},
   "outputs": [
    {
     "data": {
      "text/plain": [
       "{3, 4}"
      ]
     },
     "execution_count": 242,
     "metadata": {},
     "output_type": "execute_result"
    }
   ],
   "source": [
    "interseccion"
   ]
  },
  {
   "cell_type": "code",
   "execution_count": 60,
   "id": "d117c058-2aae-4b31-8d83-e10bbe0cccab",
   "metadata": {},
   "outputs": [],
   "source": [
    "diferencia_aMenB= a-b"
   ]
  },
  {
   "cell_type": "code",
   "execution_count": 62,
   "id": "d268b340-b3f9-429d-a010-5ad5e0baa9d2",
   "metadata": {},
   "outputs": [
    {
     "data": {
      "text/plain": [
       "{1, 2}"
      ]
     },
     "execution_count": 62,
     "metadata": {},
     "output_type": "execute_result"
    }
   ],
   "source": [
    "diferencia_aMenB"
   ]
  },
  {
   "cell_type": "code",
   "execution_count": 64,
   "id": "8b9e9fe0-b94f-44e2-b05c-4bacccf6dce2",
   "metadata": {},
   "outputs": [],
   "source": [
    "diferencia_bMena= b-a"
   ]
  },
  {
   "cell_type": "code",
   "execution_count": 66,
   "id": "8f666c13-781b-4c18-95d3-9e052dfe7b0d",
   "metadata": {},
   "outputs": [
    {
     "data": {
      "text/plain": [
       "{5, 6}"
      ]
     },
     "execution_count": 66,
     "metadata": {},
     "output_type": "execute_result"
    }
   ],
   "source": [
    "diferencia_bMena"
   ]
  },
  {
   "cell_type": "code",
   "execution_count": 68,
   "id": "2924af7b-9649-483f-a7b6-f7180346122a",
   "metadata": {},
   "outputs": [],
   "source": [
    "'''53- Cómo se genera un conjunto inmutable ? --> Utilizando frozenSet'''\n",
    "conjunto_inmutable = frozenset([\"a\", \"b\", \"a\"])"
   ]
  },
  {
   "cell_type": "code",
   "execution_count": 76,
   "id": "7441d238-85db-4707-bd3c-69b3968787da",
   "metadata": {},
   "outputs": [
    {
     "data": {
      "text/plain": [
       "frozenset({'a', 'b'})"
      ]
     },
     "execution_count": 76,
     "metadata": {},
     "output_type": "execute_result"
    }
   ],
   "source": [
    "conjunto_inmutable"
   ]
  },
  {
   "cell_type": "code",
   "execution_count": 78,
   "id": "d7786090-917b-4a9f-9e3d-15fb840d9a6a",
   "metadata": {},
   "outputs": [
    {
     "ename": "AttributeError",
     "evalue": "'frozenset' object has no attribute 'add'",
     "output_type": "error",
     "traceback": [
      "\u001b[1;31m---------------------------------------------------------------------------\u001b[0m",
      "\u001b[1;31mAttributeError\u001b[0m                            Traceback (most recent call last)",
      "Cell \u001b[1;32mIn[78], line 1\u001b[0m\n\u001b[1;32m----> 1\u001b[0m conjunto_inmutable\u001b[38;5;241m.\u001b[39madd(\u001b[38;5;241m36\u001b[39m)\n",
      "\u001b[1;31mAttributeError\u001b[0m: 'frozenset' object has no attribute 'add'"
     ]
    }
   ],
   "source": [
    "conjunto_inmutable.add(36)"
   ]
  },
  {
   "cell_type": "code",
   "execution_count": 80,
   "id": "8c083918-4311-493a-a0ec-a28225d7b842",
   "metadata": {},
   "outputs": [],
   "source": [
    "conjunto_mutable = set([\"a\", \"b\", \"a\"])"
   ]
  },
  {
   "cell_type": "code",
   "execution_count": 82,
   "id": "66b13cc1-f2a9-4f6d-a834-1a8d2665b1e3",
   "metadata": {},
   "outputs": [],
   "source": [
    "conjunto_mutable.add(36)"
   ]
  },
  {
   "cell_type": "code",
   "execution_count": 84,
   "id": "1f6a6f68-2b6c-45c4-ae66-c7c498986a10",
   "metadata": {},
   "outputs": [
    {
     "data": {
      "text/plain": [
       "{36, 'a', 'b'}"
      ]
     },
     "execution_count": 84,
     "metadata": {},
     "output_type": "execute_result"
    }
   ],
   "source": [
    "conjunto_mutable"
   ]
  },
  {
   "cell_type": "markdown",
   "id": "a87f26b2-2f78-4516-b160-da0ee5419080",
   "metadata": {},
   "source": [
    "<H2> BYTES BITEARRAY  06-03  </H2>"
   ]
  },
  {
   "cell_type": "code",
   "execution_count": 88,
   "id": "5f82abd7-8e17-4322-be5a-2b19dbbc6d56",
   "metadata": {},
   "outputs": [],
   "source": [
    "'''54 - ¿Cómo se genera una cadena de texto byte en python? ¿Es modificable?'''\n",
    "miNombreBytes= bytes( 'Jenny', \"utf-8\")"
   ]
  },
  {
   "cell_type": "code",
   "execution_count": 90,
   "id": "2547f8b1-ec8b-4714-88ba-94890b1b1b52",
   "metadata": {},
   "outputs": [
    {
     "name": "stdout",
     "output_type": "stream",
     "text": [
      "b'Jenny'\n"
     ]
    }
   ],
   "source": [
    "print(miNombreBytes)"
   ]
  },
  {
   "cell_type": "code",
   "execution_count": 92,
   "id": "2bf5022c-71c7-41b9-991a-504f5c4c9900",
   "metadata": {},
   "outputs": [
    {
     "name": "stdout",
     "output_type": "stream",
     "text": [
      "b'ABCDE'\n"
     ]
    }
   ],
   "source": [
    "cadena_bytes = bytes([65, 66, 67, 68, 69])\n",
    "print(cadena_bytes)  # Salida: b'ABCDE'\n"
   ]
  },
  {
   "cell_type": "code",
   "execution_count": 94,
   "id": "78fb7aa3-0a4c-4d7b-94bd-717c211c793a",
   "metadata": {},
   "outputs": [
    {
     "ename": "SyntaxError",
     "evalue": "invalid syntax (4093200040.py, line 3)",
     "output_type": "error",
     "traceback": [
      "\u001b[1;36m  Cell \u001b[1;32mIn[94], line 3\u001b[1;36m\u001b[0m\n\u001b[1;33m    pais =b 'España'\u001b[0m\n\u001b[1;37m            ^\u001b[0m\n\u001b[1;31mSyntaxError\u001b[0m\u001b[1;31m:\u001b[0m invalid syntax\n"
     ]
    }
   ],
   "source": [
    "''' 55 - ¿Qué pasa si intentamos crear la cadena de texto byte de la siguiente manera pais =\n",
    "b\"España\"?'''\n",
    "pais =b 'España'"
   ]
  },
  {
   "cell_type": "code",
   "execution_count": 96,
   "id": "137dc3d0-c8a4-43d1-b54c-3bd1a0fbbcfc",
   "metadata": {},
   "outputs": [],
   "source": [
    "pais = \"España\".encode('utf-8')\n"
   ]
  },
  {
   "cell_type": "code",
   "execution_count": 98,
   "id": "d53fe90f-27db-4249-bf1a-e277de3718d9",
   "metadata": {},
   "outputs": [
    {
     "data": {
      "text/plain": [
       "b'Espa\\xc3\\xb1a'"
      ]
     },
     "execution_count": 98,
     "metadata": {},
     "output_type": "execute_result"
    }
   ],
   "source": [
    "pais"
   ]
  },
  {
   "cell_type": "code",
   "execution_count": 100,
   "id": "d958c39e-b85e-461d-8ba5-5a3b6e2ef704",
   "metadata": {},
   "outputs": [],
   "source": [
    "''' 56- ¿Qué pasa si hacemos: pais = bytes(\"España\", \"utf-8\")'''\n",
    "pais = bytes(\"España\", \"utf-8\")"
   ]
  },
  {
   "cell_type": "code",
   "execution_count": 102,
   "id": "2a0cfa86-dd5b-4798-bbfa-fa7d5e6f93b7",
   "metadata": {},
   "outputs": [
    {
     "data": {
      "text/plain": [
       "b'Espa\\xc3\\xb1a'"
      ]
     },
     "execution_count": 102,
     "metadata": {},
     "output_type": "execute_result"
    }
   ],
   "source": [
    "pais"
   ]
  },
  {
   "cell_type": "code",
   "execution_count": 104,
   "id": "4ca98aa0-4f8f-4c0a-8335-e85c6aa9001f",
   "metadata": {},
   "outputs": [],
   "source": [
    "''' 57 -  Crear un bytearray desde un bytes, un string y una lista de enteros.'''\n",
    "#desde bytes\n",
    "miPais = bytearray(b'Colombia')\n",
    "x = bytearray(miPais)"
   ]
  },
  {
   "cell_type": "code",
   "execution_count": 106,
   "id": "d1861865-d139-4d36-9455-7ceb13f5ec11",
   "metadata": {},
   "outputs": [
    {
     "data": {
      "text/plain": [
       "bytearray(b'Colombia')"
      ]
     },
     "execution_count": 106,
     "metadata": {},
     "output_type": "execute_result"
    }
   ],
   "source": [
    "x"
   ]
  },
  {
   "cell_type": "code",
   "execution_count": 108,
   "id": "5e835235-07de-45b2-a820-85076b38da35",
   "metadata": {},
   "outputs": [
    {
     "data": {
      "text/plain": [
       "bytearray(b'Colombia')"
      ]
     },
     "execution_count": 108,
     "metadata": {},
     "output_type": "execute_result"
    }
   ],
   "source": [
    "miPais"
   ]
  },
  {
   "cell_type": "code",
   "execution_count": 110,
   "id": "b174ee04-2f79-45f8-aac7-701123b0e203",
   "metadata": {},
   "outputs": [
    {
     "name": "stdout",
     "output_type": "stream",
     "text": [
      "bytearray(b'Colombia')\n"
     ]
    }
   ],
   "source": [
    "print(x)"
   ]
  },
  {
   "cell_type": "code",
   "execution_count": 112,
   "id": "9366f928-2854-4397-8f93-5dbd31458c63",
   "metadata": {},
   "outputs": [],
   "source": [
    "#desde string\n",
    "desdeStr=bytes(\"Colombia\", \"utf-8\")"
   ]
  },
  {
   "cell_type": "code",
   "execution_count": 114,
   "id": "e45213b0-e2c2-4e01-90c9-23bc1b8a65ed",
   "metadata": {},
   "outputs": [],
   "source": [
    "x = bytearray([94, 91, 101, 125, 111, 35, 120])"
   ]
  },
  {
   "cell_type": "code",
   "execution_count": 116,
   "id": "a6a126b9-aaf9-4e9a-a45a-eaa2d5892429",
   "metadata": {},
   "outputs": [
    {
     "data": {
      "text/plain": [
       "bytearray(b'^[e}o#x')"
      ]
     },
     "execution_count": 116,
     "metadata": {},
     "output_type": "execute_result"
    }
   ],
   "source": [
    "x"
   ]
  },
  {
   "cell_type": "code",
   "execution_count": 1,
   "id": "80bf8818-13c2-4f38-9f24-fd83d06cc9e6",
   "metadata": {},
   "outputs": [
    {
     "data": {
      "text/plain": [
       "[22, True, 'a list', [1, 2]]"
      ]
     },
     "execution_count": 1,
     "metadata": {},
     "output_type": "execute_result"
    }
   ],
   "source": [
    "lista = [22, True, \"a list\", [1, 2]]\n",
    "lista"
   ]
  },
  {
   "cell_type": "code",
   "execution_count": 3,
   "id": "18a0eeef-0171-466a-8678-f50920b9f9cf",
   "metadata": {
    "tags": []
   },
   "outputs": [
    {
     "data": {
      "text/plain": [
       "['a list']"
      ]
     },
     "execution_count": 3,
     "metadata": {},
     "output_type": "execute_result"
    }
   ],
   "source": [
    "lista[2:-1]"
   ]
  },
  {
   "cell_type": "code",
   "execution_count": 15,
   "id": "bf91def5-b00f-4dc4-86c6-694691162c7b",
   "metadata": {
    "tags": []
   },
   "outputs": [],
   "source": [
    "lista = [22, True, [1, 1], [1, 2]]"
   ]
  },
  {
   "cell_type": "code",
   "execution_count": 25,
   "id": "e860d97a-07f2-4046-9f5c-b5e8b5d1e9d6",
   "metadata": {
    "tags": []
   },
   "outputs": [
    {
     "data": {
      "text/plain": [
       "[[1, 1], [1, 2]]"
      ]
     },
     "execution_count": 25,
     "metadata": {},
     "output_type": "execute_result"
    }
   ],
   "source": [
    "lista[2:]"
   ]
  },
  {
   "cell_type": "code",
   "execution_count": 27,
   "id": "2636d58b-60cf-4603-ac8b-7ecdac070d1a",
   "metadata": {
    "tags": []
   },
   "outputs": [
    {
     "data": {
      "text/plain": [
       "range(0, 5)"
      ]
     },
     "execution_count": 27,
     "metadata": {},
     "output_type": "execute_result"
    }
   ],
   "source": [
    "range(5)"
   ]
  },
  {
   "cell_type": "code",
   "execution_count": null,
   "id": "5e5d4682-42fa-4f1d-96e3-768ef7d1f755",
   "metadata": {},
   "outputs": [],
   "source": []
  }
 ],
 "metadata": {
  "kernelspec": {
   "display_name": "Python 3 (ipykernel)",
   "language": "python",
   "name": "python3"
  },
  "language_info": {
   "codemirror_mode": {
    "name": "ipython",
    "version": 3
   },
   "file_extension": ".py",
   "mimetype": "text/x-python",
   "name": "python",
   "nbconvert_exporter": "python",
   "pygments_lexer": "ipython3",
   "version": "3.11.7"
  }
 },
 "nbformat": 4,
 "nbformat_minor": 5
}
